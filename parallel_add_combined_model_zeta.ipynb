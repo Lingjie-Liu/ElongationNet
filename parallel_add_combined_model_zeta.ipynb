{
 "cells": [
  {
   "cell_type": "code",
   "execution_count": null,
   "metadata": {},
   "outputs": [],
   "source": [
    "import pandas as pd\n",
    "import concurrent.futures"
   ]
  },
  {
   "cell_type": "code",
   "execution_count": null,
   "metadata": {},
   "outputs": [],
   "source": [
    "cell_types = [\n",
    "    'cd14',\n",
    "    'hela',\n",
    "    'mcf7',\n",
    "    'k562'\n",
    "]"
   ]
  },
  {
   "cell_type": "code",
   "execution_count": null,
   "metadata": {},
   "outputs": [],
   "source": [
    "def process_and_save_csv_file(cell_type):\n",
    "    zeta_file = f\"./data/{cell_type}_combinedZeta.csv\"\n",
    "    allmer_file = f\"./data/{cell_type}_epAllmer_norm.csv\"\n",
    "    allmer_df = pd.read_csv(allmer_file)\n",
    "    zeta_df = pd.read_csv(zeta_file)\n",
    "    zeta_df.rename(columns={'zeta': 'combined_zeta'}, inplace=True)\n",
    "    epAllmer_zeta_df = pd.concat([allmer_df, zeta_df], axis=1)\n",
    "    \n",
    "    save_path = f\"./data/{cell_type}_epAllmer_zeta_norm.csv\"   \n",
    "    epAllmer_zeta_df.to_csv(save_path, index=False)\n",
    "    saved_df = pd.read_csv(save_path, nrows=10)\n",
    "    return saved_df.head()"
   ]
  },
  {
   "cell_type": "code",
   "execution_count": null,
   "metadata": {},
   "outputs": [],
   "source": [
    "with concurrent.futures.ThreadPoolExecutor() as executor:\n",
    "    futures = [executor.submit(process_and_save_csv_file, cell_type) for cell_type in cell_types]\n",
    "    for future in concurrent.futures.as_completed(futures):\n",
    "        print(future.result())"
   ]
  }
 ],
 "metadata": {
  "kernelspec": {
   "display_name": "Anaconda3 (Python 3.7.6)",
   "language": "python",
   "name": "anaconda3_2020.02"
  },
  "language_info": {
   "codemirror_mode": {
    "name": "ipython",
    "version": 3
   },
   "file_extension": ".py",
   "mimetype": "text/x-python",
   "name": "python",
   "nbconvert_exporter": "python",
   "pygments_lexer": "ipython3",
   "version": "3.7.6"
  }
 },
 "nbformat": 4,
 "nbformat_minor": 4
}
