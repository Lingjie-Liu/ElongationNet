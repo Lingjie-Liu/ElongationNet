{
 "cells": [
  {
   "cell_type": "code",
   "execution_count": null,
   "metadata": {},
   "outputs": [],
   "source": [
    "# Run CPU-only, GPU code needs further testing\n",
    "\"\"\"\n",
    "Restart kernel after running\n",
    "Only need to run once\n",
    "\"\"\"\n",
    "!pip install scikit-learn matplotlib seaborn"
   ]
  },
  {
   "cell_type": "code",
   "execution_count": 20,
   "metadata": {},
   "outputs": [
    {
     "name": "stdout",
     "output_type": "stream",
     "text": [
      "15\n"
     ]
    }
   ],
   "source": [
    "# hardcode if not using UGE environment\n",
    "import os\n",
    "num_cores_uge = os.environ.get('NSLOTS')\n",
    "print(num_cores_uge)\n",
    "\n",
    "num_workers = 7"
   ]
  },
  {
   "cell_type": "code",
   "execution_count": 4,
   "metadata": {},
   "outputs": [],
   "source": [
    "import numpy as np\n",
    "import pandas as pd\n",
    "import matplotlib.pyplot as plt\n",
    "import matplotlib.colors as colors\n",
    "import seaborn as sns\n",
    "import torch\n",
    "import torch.utils.data as td\n",
    "import torch.nn as nn\n",
    "import torch.nn.init as init\n",
    "import torch.nn.functional as F\n",
    "import torch.optim as optim\n",
    "from torch.optim.lr_scheduler import ReduceLROnPlateau\n",
    "from torch.utils.data import DataLoader, Dataset, Subset\n",
    "\n",
    "\n",
    "froot = './data/k562_chr16'\n",
    "\n",
    "df = pd.read_csv(froot + \".csv\")"
   ]
  },
  {
   "cell_type": "code",
   "execution_count": 5,
   "metadata": {},
   "outputs": [
    {
     "name": "stdout",
     "output_type": "stream",
     "text": [
      "   seqnames   start     end strand  ensembl_gene_id  score      ctcf  \\\n",
      "0        16  245089  245089      +  ENSG00000167930    0.0 -0.039744   \n",
      "1        16  245090  245090      +  ENSG00000167930    0.0 -0.039511   \n",
      "2        16  245091  245091      +  ENSG00000167930    0.0 -0.039276   \n",
      "3        16  245092  245092      +  ENSG00000167930    0.0 -0.039039   \n",
      "4        16  245093  245093      +  ENSG00000167930    0.0 -0.038799   \n",
      "\n",
      "   h3k36me3   h3k4me1  h3k79me2  ...       sj3       dms      rpts      wgbs  \\\n",
      "0 -0.429633  0.843669  0.003958  ... -0.057178 -0.307549  0.249626  0.000000   \n",
      "1 -0.431173  0.851792  0.004639  ... -0.057178 -0.307549  0.249626  0.550271   \n",
      "2 -0.432698  0.859971  0.005313  ... -0.057178 -0.307549  0.249626  0.000000   \n",
      "3 -0.434205  0.868205  0.005981  ... -0.057178 -0.307549  0.249626  0.000000   \n",
      "4 -0.435697  0.876495  0.006642  ... -0.057178 -0.307549  0.249626  0.000000   \n",
      "\n",
      "       A         T         G         C  lambda_alphaj      zeta  \n",
      "0 -0.625 -0.678443  1.954571 -0.494439       0.023095  1.082156  \n",
      "1 -0.625 -0.678443 -0.511621  2.022493       0.023095  0.893316  \n",
      "2 -0.625 -0.678443  1.954571 -0.494439       0.023095  1.081493  \n",
      "3 -0.625  1.473964 -0.511621 -0.494439       0.023095  1.081151  \n",
      "4 -0.625 -0.678443  1.954571 -0.494439       0.023095  1.080803  \n",
      "\n",
      "[5 rows x 24 columns]\n"
     ]
    }
   ],
   "source": [
    "print(df.head())"
   ]
  },
  {
   "cell_type": "code",
   "execution_count": 6,
   "metadata": {},
   "outputs": [
    {
     "name": "stdout",
     "output_type": "stream",
     "text": [
      "['ctcf' 'h3k36me3' 'h3k4me1' 'h3k79me2' 'h3k9me1' 'h3k9me3' 'h4k20me1'\n",
      " 'sj5' 'sj3' 'dms' 'rpts' 'wgbs']\n",
      "['A' 'T' 'G' 'C']\n"
     ]
    }
   ],
   "source": [
    "column_names = np.array(df.columns)\n",
    "feature_names = column_names[6:-6]\n",
    "num_features = len(feature_names)\n",
    "nucleotides = column_names[-6:-2]\n",
    "print(feature_names)\n",
    "print(nucleotides)\n",
    "num_samples = df.shape[0]\n",
    "\n",
    "# process read counts\n",
    "X_ji = df['score'].values\n",
    "\n",
    "# process GLM simulated elongation rates\n",
    "Z_ji = df['zeta'].values"
   ]
  },
  {
   "cell_type": "code",
   "execution_count": 7,
   "metadata": {},
   "outputs": [
    {
     "name": "stdout",
     "output_type": "stream",
     "text": [
      "Number of Samples: 435797\n"
     ]
    }
   ],
   "source": [
    "print(\"Number of Samples: \" + str(num_samples))"
   ]
  },
  {
   "cell_type": "code",
   "execution_count": 8,
   "metadata": {},
   "outputs": [
    {
     "name": "stdout",
     "output_type": "stream",
     "text": [
      "Number of Features: 12\n"
     ]
    }
   ],
   "source": [
    "print(\"Number of Features: \" + str(num_features))"
   ]
  },
  {
   "cell_type": "code",
   "execution_count": 9,
   "metadata": {},
   "outputs": [],
   "source": [
    "#Y_ji is a list of samples containing lists of their feature values\n",
    "    # [   \n",
    "    #   sample_1: [feat_1, feat_2,...,feat_n],\n",
    "    #   sample_2: [feat_1, feat_2,...,feat_n],\n",
    "    # ]\n",
    "\n",
    "Y_ji = df.iloc[:, 6:-6].values"
   ]
  },
  {
   "cell_type": "code",
   "execution_count": 10,
   "metadata": {},
   "outputs": [],
   "source": [
    "C_j = df['lambda_alphaj'].values"
   ]
  },
  {
   "cell_type": "code",
   "execution_count": 11,
   "metadata": {},
   "outputs": [],
   "source": [
    "gene_ids = df['ensembl_gene_id'].values"
   ]
  },
  {
   "cell_type": "code",
   "execution_count": 12,
   "metadata": {},
   "outputs": [
    {
     "name": "stdout",
     "output_type": "stream",
     "text": [
      "CUDA (GPU support) is available: False\n",
      "Number of GPUs available: 0\n"
     ]
    }
   ],
   "source": [
    "cuda_available = torch.cuda.is_available()\n",
    "print(\"CUDA (GPU support) is available:\", cuda_available)\n",
    "num_gpus = torch.cuda.device_count()\n",
    "print(\"Number of GPUs available:\", num_gpus)"
   ]
  },
  {
   "cell_type": "code",
   "execution_count": 13,
   "metadata": {},
   "outputs": [],
   "source": [
    "class CustomDataset(Dataset):\n",
    "    def __init__(self, GeneId, Y_ji, X_ji, C_j, Z_ji):\n",
    "        self.GeneId = GeneId\n",
    "        self.Y_ji = Y_ji\n",
    "        self.X_ji = X_ji\n",
    "        self.C_j = C_j\n",
    "        self.Z_ji = Z_ji\n",
    "        self.cache = {}  \n",
    "\n",
    "    def __len__(self):\n",
    "        return len(self.Y_ji)\n",
    "\n",
    "    def __getitem__(self, idx):\n",
    "        if idx in self.cache:\n",
    "            return self.cache[idx]\n",
    "        data = {\n",
    "            'GeneId':  self.GeneId[idx],\n",
    "            'Y_ji':  torch.tensor(self.Y_ji[idx], dtype=torch.float32),\n",
    "            'X_ji': torch.tensor(self.X_ji[idx], dtype=torch.float32),\n",
    "            'C_j': torch.tensor(self.C_j[idx], dtype=torch.float32),\n",
    "            'Z_ji': torch.tensor(self.Z_ji[idx], dtype=torch.float32)\n",
    "        }\n",
    "        self.cache[idx] = data\n",
    "        return data"
   ]
  },
  {
   "cell_type": "code",
   "execution_count": 14,
   "metadata": {},
   "outputs": [],
   "source": [
    "from sklearn.model_selection import GroupShuffleSplit\n",
    "\n",
    "dataset = CustomDataset(gene_ids, Y_ji, X_ji, C_j, Z_ji)\n",
    "\n",
    "# Convert gene IDs to numeric labels for GroupShuffleSplit\n",
    "unique_genes = np.unique(gene_ids)\n",
    "gene_to_idx = {gene: idx for idx, gene in enumerate(unique_genes)}\n",
    "group_labels = np.array([gene_to_idx[gene] for gene in gene_ids])\n",
    "\n",
    "gss_initial = GroupShuffleSplit(n_splits=1, test_size=0.1, random_state=42)\n",
    "train_val_idx, test_idx = next(gss_initial.split(np.zeros(len(group_labels)), groups=group_labels))\n",
    "\n",
    "gss_final = GroupShuffleSplit(n_splits=1, test_size=0.1, random_state=42) \n",
    "train_idx, val_idx = next(gss_final.split(np.zeros(len(train_val_idx)), groups=group_labels[train_val_idx]))\n",
    "\n",
    "train_set = Subset(dataset, train_idx)\n",
    "val_set = Subset(dataset, val_idx)\n",
    "test_set = Subset(dataset, test_idx)\n",
    "\n",
    "batch_size = 64"
   ]
  },
  {
   "cell_type": "code",
   "execution_count": 15,
   "metadata": {},
   "outputs": [
    {
     "name": "stdout",
     "output_type": "stream",
     "text": [
      "Linear(in_features=12, out_features=1, bias=True)\n",
      "torch.Size([64, 1])\n",
      "Number of parameters: 13\n",
      "Model is on device: cpu\n"
     ]
    }
   ],
   "source": [
    "device = torch.device(\"cpu\")#torch.device(\"cuda\" if torch.cuda.is_available() else \"cpu\")\n",
    "\n",
    "model = nn.Linear(num_features, 1)#, bias=False)\n",
    "\n",
    "if cuda_available:\n",
    "    if num_gpus > 1:\n",
    "        print(\"Using\", num_gpus, \"GPUs\")\n",
    "        model = torch.nn.DataParallel(model)\n",
    "    model = model.to('cuda')\n",
    "\n",
    "print(model)\n",
    "\n",
    "arr = torch.randn((batch_size,num_features)).to(device)\n",
    "print(model(arr).shape)\n",
    "nparm = sum(p.numel() for p in model.parameters() if p.requires_grad)\n",
    "print(\"Number of parameters: \" + str(nparm))\n",
    "\n",
    "first_param_device = next(model.parameters()).device\n",
    "print(\"Model is on device:\", first_param_device)"
   ]
  },
  {
   "cell_type": "code",
   "execution_count": 16,
   "metadata": {},
   "outputs": [],
   "source": [
    "class CustomLoss(nn.Module):\n",
    "    def __init__(self):\n",
    "        super(CustomLoss, self).__init__()\n",
    "\n",
    "    def forward(self, X_ji, C_j, rho_ji):\n",
    "        #print(rho_ji.shape)\n",
    "        epsilon = 1e-8\n",
    "        loss = X_ji * rho_ji + C_j * torch.exp(-rho_ji) - X_ji * torch.log(C_j)\n",
    "        return (loss).mean()"
   ]
  },
  {
   "cell_type": "code",
   "execution_count": null,
   "metadata": {},
   "outputs": [],
   "source": [
    "# GPU testing with larger datasets\n",
    "\"\"\"\n",
    "optimizer = optim.Adam(model.parameters(), lr=0.0001)\n",
    "\n",
    "num_epochs = 50\n",
    "\n",
    "loss_hist_train = [0] * num_epochs\n",
    "loss_hist_valid = [0] * num_epochs\n",
    "\n",
    "loss_fn = CustomLoss()\n",
    "\n",
    "def print_profiler_results(profiler):\n",
    "    print(profiler.key_averages().table(sort_by=\"self_cpu_time_total\", row_limit=10))\n",
    "\n",
    "with torch.profiler.profile(\n",
    "    activities=[torch.profiler.ProfilerActivity.CPU, torch.profiler.ProfilerActivity.CUDA],\n",
    "    schedule=torch.profiler.schedule(wait=1, warmup=1, active=3),\n",
    "    on_trace_ready=print_profiler_results,\n",
    "    record_shapes=True,\n",
    "    profile_memory=True\n",
    ") as profiler:\n",
    "\n",
    "    for epoch in range(num_epochs):\n",
    "        print(f'Epoch {epoch+1}')\n",
    "        model.train()\n",
    "        trndl = DataLoader(train_set, batch_size=batch_size, num_workers=7, shuffle=False, pin_memory=True)\n",
    "        for i, batch in enumerate(trndl):\n",
    "            optimizer.zero_grad()\n",
    "            Y_ji_batch = batch['Y_ji'].to(device)\n",
    "            X_ji_batch = batch['X_ji'].to(device)\n",
    "            C_j_batch = batch['C_j'].to(device)\n",
    "            outputs = model(Y_ji_batch)\n",
    "            loss = loss_fn(X_ji_batch, C_j_batch, outputs)\n",
    "            loss.backward()\n",
    "            optimizer.step()\n",
    "            loss_hist_train[epoch] += loss.item()\n",
    "            profiler.step()\n",
    "        loss_hist_train[epoch] /= len(trndl)\n",
    "        del trndl\n",
    "\n",
    "    model.eval()\n",
    "    valdl = DataLoader(val_set, batch_size=batch_size, num_workers=7, shuffle=False, pin_memory=True)\n",
    "    with torch.no_grad():\n",
    "        for batch in valdl:\n",
    "            Y_ji_batch = batch['Y_ji'].to(device)\n",
    "            X_ji_batch = batch['X_ji'].to(device)\n",
    "            C_j_batch = batch['C_j'].to(device)\n",
    "            outputs = model(Y_ji_batch)\n",
    "            loss = loss_fn(X_ji_batch, C_j_batch, outputs)\n",
    "            loss_hist_valid[epoch] += loss.item()\n",
    "        loss_hist_valid[epoch] /= len(valdl)\n",
    "    del valdl\n",
    "    \n",
    "    print(f'Epoch {epoch+1} trn_loss: '\n",
    "          f'{loss_hist_train[epoch]:.4f} val_loss: '\n",
    "          f'{loss_hist_valid[epoch]:.4f}')\n",
    "          \"\"\""
   ]
  },
  {
   "cell_type": "code",
   "execution_count": 21,
   "metadata": {},
   "outputs": [
    {
     "name": "stdout",
     "output_type": "stream",
     "text": [
      "Epoch 1\n",
      "Epoch 1 trn_loss: 0.1164 val_loss: 0.1448\n",
      "Epoch 2\n",
      "Epoch 2 trn_loss: 0.1093 val_loss: 0.1431\n",
      "Epoch 3\n",
      "Epoch 3 trn_loss: 0.1049 val_loss: 0.1418\n",
      "Epoch 4\n",
      "Epoch 4 trn_loss: 0.1021 val_loss: 0.1409\n",
      "Epoch 5\n",
      "Epoch 5 trn_loss: 0.1004 val_loss: 0.1402\n",
      "Epoch 6\n",
      "Epoch 6 trn_loss: 0.0994 val_loss: 0.1396\n",
      "Epoch 7\n",
      "Epoch 7 trn_loss: 0.0987 val_loss: 0.1390\n",
      "Epoch 8\n",
      "Epoch 8 trn_loss: 0.0984 val_loss: 0.1385\n",
      "Epoch 9\n",
      "Epoch 9 trn_loss: 0.0981 val_loss: 0.1380\n",
      "Epoch 10\n",
      "Epoch 10 trn_loss: 0.0980 val_loss: 0.1376\n",
      "Epoch 11\n",
      "Epoch 11 trn_loss: 0.0979 val_loss: 0.1373\n",
      "Epoch 12\n",
      "Epoch 12 trn_loss: 0.0979 val_loss: 0.1370\n",
      "Epoch 13\n",
      "Epoch 13 trn_loss: 0.0978 val_loss: 0.1368\n",
      "Epoch 14\n",
      "Epoch 14 trn_loss: 0.0978 val_loss: 0.1367\n",
      "Epoch 15\n",
      "Epoch 15 trn_loss: 0.0978 val_loss: 0.1365\n",
      "Epoch 16\n",
      "Epoch 16 trn_loss: 0.0977 val_loss: 0.1365\n",
      "Epoch 17\n",
      "Epoch 17 trn_loss: 0.0977 val_loss: 0.1364\n",
      "Epoch 18\n",
      "Epoch 18 trn_loss: 0.0977 val_loss: 0.1364\n",
      "Epoch 19\n",
      "Epoch 19 trn_loss: 0.0977 val_loss: 0.1363\n",
      "Epoch 20\n",
      "Epoch 20 trn_loss: 0.0977 val_loss: 0.1363\n",
      "Epoch 21\n",
      "Epoch 21 trn_loss: 0.0977 val_loss: 0.1363\n",
      "Epoch 22\n",
      "Epoch 22 trn_loss: 0.0977 val_loss: 0.1363\n",
      "Epoch 23\n",
      "Epoch 23 trn_loss: 0.0977 val_loss: 0.1363\n",
      "Epoch 24\n",
      "Epoch 24 trn_loss: 0.0977 val_loss: 0.1363\n",
      "Epoch 25\n",
      "Epoch 25 trn_loss: 0.0977 val_loss: 0.1363\n",
      "Epoch 26\n",
      "Epoch 26 trn_loss: 0.0977 val_loss: 0.1363\n",
      "Epoch 27\n",
      "Epoch 27 trn_loss: 0.0977 val_loss: 0.1363\n",
      "Epoch 28\n",
      "Epoch 28 trn_loss: 0.0977 val_loss: 0.1363\n",
      "Epoch 29\n",
      "Epoch 29 trn_loss: 0.0977 val_loss: 0.1363\n",
      "Epoch 30\n",
      "Epoch 30 trn_loss: 0.0977 val_loss: 0.1362\n",
      "Epoch 31\n",
      "Epoch 31 trn_loss: 0.0977 val_loss: 0.1362\n",
      "Epoch 32\n",
      "Epoch 32 trn_loss: 0.0977 val_loss: 0.1362\n",
      "Epoch 33\n",
      "Epoch 33 trn_loss: 0.0977 val_loss: 0.1362\n",
      "Epoch 34\n",
      "Epoch 34 trn_loss: 0.0977 val_loss: 0.1362\n",
      "Epoch 35\n",
      "Epoch 35 trn_loss: 0.0977 val_loss: 0.1363\n",
      "Epoch 36\n",
      "Epoch 36 trn_loss: 0.0977 val_loss: 0.1363\n",
      "Epoch 37\n",
      "Epoch 37 trn_loss: 0.0977 val_loss: 0.1363\n",
      "Epoch 38\n",
      "Epoch 38 trn_loss: 0.0977 val_loss: 0.1363\n",
      "Epoch 39\n",
      "Epoch 39 trn_loss: 0.0977 val_loss: 0.1363\n",
      "Epoch 40\n",
      "Epoch 40 trn_loss: 0.0977 val_loss: 0.1363\n",
      "Epoch 41\n",
      "Epoch 41 trn_loss: 0.0977 val_loss: 0.1363\n",
      "Epoch 42\n",
      "Epoch 42 trn_loss: 0.0977 val_loss: 0.1363\n",
      "Epoch 43\n",
      "Epoch 43 trn_loss: 0.0977 val_loss: 0.1363\n",
      "Epoch 44\n",
      "Epoch 44 trn_loss: 0.0977 val_loss: 0.1363\n",
      "Epoch 45\n",
      "Epoch 45 trn_loss: 0.0977 val_loss: 0.1363\n",
      "Epoch 46\n",
      "Epoch 46 trn_loss: 0.0977 val_loss: 0.1363\n",
      "Epoch 47\n",
      "Epoch 47 trn_loss: 0.0977 val_loss: 0.1363\n",
      "Epoch 48\n",
      "Epoch 48 trn_loss: 0.0977 val_loss: 0.1363\n",
      "Epoch 49\n",
      "Epoch 49 trn_loss: 0.0977 val_loss: 0.1363\n",
      "Epoch 50\n",
      "Epoch 50 trn_loss: 0.0977 val_loss: 0.1363\n"
     ]
    }
   ],
   "source": [
    "optimizer = optim.Adam(model.parameters(), lr=0.0001)\n",
    "\n",
    "num_epochs = 50\n",
    "\n",
    "loss_hist_train = [0] * num_epochs\n",
    "loss_hist_valid = [0] * num_epochs\n",
    "\n",
    "loss_fn = CustomLoss()\n",
    "\n",
    "for epoch in range(num_epochs):\n",
    "    print(f'Epoch {epoch+1}')\n",
    "    model.train()\n",
    "    trndl = DataLoader(train_set, batch_size=batch_size, num_workers=num_workers, shuffle=False, pin_memory=True)\n",
    "    for i, batch in enumerate(trndl):\n",
    "        optimizer.zero_grad()\n",
    "        Y_ji_batch = batch['Y_ji'].to(device)\n",
    "        X_ji_batch = batch['X_ji'].to(device)\n",
    "        C_j_batch = batch['C_j'].to(device)\n",
    "        outputs = model(Y_ji_batch)\n",
    "        loss = loss_fn(X_ji_batch, C_j_batch, outputs)\n",
    "        loss.backward()\n",
    "        optimizer.step()\n",
    "        loss_hist_train[epoch] += loss.item()\n",
    "    loss_hist_train[epoch] /= len(trndl)\n",
    "    del trndl\n",
    "\n",
    "    model.eval()\n",
    "    valdl = DataLoader(val_set, batch_size=batch_size, num_workers=num_workers, shuffle=False, pin_memory=True)\n",
    "    with torch.no_grad():\n",
    "        for batch in valdl:\n",
    "            Y_ji_batch = batch['Y_ji'].to(device)\n",
    "            X_ji_batch = batch['X_ji'].to(device)\n",
    "            C_j_batch = batch['C_j'].to(device)\n",
    "            outputs = model(Y_ji_batch)\n",
    "            loss = loss_fn(X_ji_batch, C_j_batch, outputs)\n",
    "            loss_hist_valid[epoch] += loss.item()\n",
    "        loss_hist_valid[epoch] /= len(valdl)\n",
    "    del valdl\n",
    "    \n",
    "    print(f'Epoch {epoch+1} trn_loss: '\n",
    "          f'{loss_hist_train[epoch]:.4f} val_loss: '\n",
    "          f'{loss_hist_valid[epoch]:.4f}')\n"
   ]
  },
  {
   "cell_type": "code",
   "execution_count": 22,
   "metadata": {},
   "outputs": [],
   "source": [
    "from datetime import datetime\n",
    "\n",
    "timestamp = datetime.now().strftime(\"%Y%m%d_%H%M%S\")\n",
    "filename = f\"models/Elongation_Model_chr16.pth\"#_{timestamp}.pth\"\n",
    "torch.save(model.state_dict(), filename)"
   ]
  },
  {
   "cell_type": "code",
   "execution_count": 25,
   "metadata": {},
   "outputs": [
    {
     "name": "stdout",
     "output_type": "stream",
     "text": [
      "CUDA (GPU support) is available: False\n",
      "Number of GPUs available: 0\n",
      "Model is on device: cpu\n"
     ]
    }
   ],
   "source": [
    "\"\"\"\n",
    "model = nn.Linear(num_features, 1)\n",
    "model.load_state_dict(torch.load(\"models/Elongation_Model_chr16.pth\"))\n",
    "cuda_available = torch.cuda.is_available()\n",
    "print(\"CUDA (GPU support) is available:\", cuda_available)\n",
    "num_gpus = torch.cuda.device_count()\n",
    "print(\"Number of GPUs available:\", num_gpus)\n",
    "if cuda_available:\n",
    "    if num_gpus > 1:\n",
    "        print(\"Using\", num_gpus, \"GPUs\")\n",
    "        model = torch.nn.DataParallel(model)\n",
    "    model = model.to('cuda')\n",
    "\n",
    "first_param_device = next(model.parameters()).device\n",
    "print(\"Model is on device:\", first_param_device)\n",
    "\"\"\""
   ]
  },
  {
   "cell_type": "code",
   "execution_count": 26,
   "metadata": {},
   "outputs": [
    {
     "name": "stdout",
     "output_type": "stream",
     "text": [
      "\"ctcf\": -0.015932952985167503, \"h3k36me3\": -0.08015147596597672, \"h3k4me1\": -0.024926938116550446, \"h3k79me2\": 0.09914924949407578, \"h3k9me1\": -0.048353344202041626, \"h3k9me3\": -0.05858489125967026, \"h4k20me1\": -0.09893269836902618, \"sj5\": -0.013548585586249828, \"sj3\": -0.01689084991812706, \"dms\": -0.07974006980657578, \"rpts\": 0.0030789868906140327, \"wgbs\": -0.0017038161167874932\n",
      "bias: tensor([0.0274])\n"
     ]
    }
   ],
   "source": [
    "weights = model.weight.data.cpu().numpy()\n",
    "bias = model.bias.data.cpu().numpy()\n",
    "\n",
    "combined = ', '.join([f'\"{s}\": {f}' for s, f in zip(feature_names, weights[0])])\n",
    "print(combined)\n",
    "\n",
    "print(\"bias: \" + str(model.bias.data))"
   ]
  },
  {
   "cell_type": "code",
   "execution_count": null,
   "metadata": {},
   "outputs": [],
   "source": [
    "\"\"\"\n",
    "GLM K\n",
    "\n",
    "* ctcf: -0.02\n",
    "* h3k36me3: -0.9\n",
    "* h3k4me1: -0.02\n",
    "* h3k79me2: +0.03\n",
    "* h3k9me1: -0.06\n",
    "* h3k9me3: -0.03\n",
    "* h4k20me1: -0.05\n",
    "* sj5: -0.02\n",
    "* sj3: -0.03\n",
    "* dms->stem-loop: -0.06\n",
    "* rpts->low-complex: +0.01\n",
    "* wgbs->DNAm: -0.18\n",
    "\"\"\""
   ]
  },
  {
   "cell_type": "code",
   "execution_count": 27,
   "metadata": {},
   "outputs": [
    {
     "data": {
      "text/plain": [
       "<function matplotlib.pyplot.show(close=None, block=None)>"
      ]
     },
     "execution_count": 27,
     "metadata": {},
     "output_type": "execute_result"
    },
    {
     "data": {
      "image/png": "[encoded data removed]",
      "text/plain": [
       "<Figure size 432x288 with 1 Axes>"
      ]
     },
     "metadata": {
      "needs_background": "light"
     },
     "output_type": "display_data"
    }
   ],
   "source": [
    "epochs = range(1, len(loss_hist_train) + 1)\n",
    "plt.plot(epochs, loss_hist_train, label='train_loss')\n",
    "plt.plot(epochs, loss_hist_valid, label='valid_loss')\n",
    "\n",
    "plt.xlabel('Epochs')\n",
    "plt.ylabel('Loss')\n",
    "plt.legend()\n",
    "plt.show "
   ]
  },
  {
   "cell_type": "code",
   "execution_count": 28,
   "metadata": {},
   "outputs": [],
   "source": [
    "def plot_data(glm_zeta, net_zeta):\n",
    "    indices = range(len(glm_zeta))\n",
    "    \n",
    "    fig, ax = plt.subplots(figsize=(10, 5))\n",
    "    \n",
    "    #ax.plot(indices, predicted_zeta, color='blue', alpha=0.4)\n",
    "    #ax.plot(indices, simulated_zeta, color='orange', alpha=0.4)\n",
    "    \n",
    "    ax.scatter(indices, net_zeta, color='blue', label='Neural Net Zeta')\n",
    "    ax.scatter(indices, glm_zeta, color='orange', label='GLM Zeta')\n",
    "    \n",
    "    ax.set_title('Neural Net vs GLM Elongation Rate')\n",
    "    ax.set_xlabel('Index')\n",
    "    ax.set_ylabel('Elongation Rate')\n",
    "    ax.legend()\n",
    "\n",
    "    plt.show()\n"
   ]
  },
  {
   "cell_type": "code",
   "execution_count": 29,
   "metadata": {},
   "outputs": [],
   "source": [
    "tstdl = DataLoader(test_set, batch_size=batch_size, num_workers=0, shuffle=False, pin_memory=True)"
   ]
  },
  {
   "cell_type": "code",
   "execution_count": 30,
   "metadata": {},
   "outputs": [],
   "source": [
    "model.eval()\n",
    "\n",
    "data_iter = iter(tstdl)"
   ]
  },
  {
   "cell_type": "code",
   "execution_count": 35,
   "metadata": {},
   "outputs": [
    {
     "name": "stdout",
     "output_type": "stream",
     "text": [
      "number of samples: 5\n",
      "Neural Net Zeta:\n",
      "tensor([1.1808, 1.1813, 1.1817, 1.1822, 1.1826, 1.1830, 1.1835, 1.1839, 1.1843,\n",
      "        1.1848, 1.1852, 1.1856, 1.1860, 1.1865, 1.1869, 1.1873, 1.1866, 1.1881,\n",
      "        1.1885, 1.1889, 1.1893, 1.1897, 1.1901, 1.1904, 1.1908, 1.1912, 1.1916,\n",
      "        1.1919, 1.1923, 1.1927, 1.1930, 1.1934, 1.1937, 1.1941, 1.1944, 1.1947,\n",
      "        1.1951, 1.1954, 1.1957, 1.1960, 1.1963, 1.1966, 1.1969, 1.1972, 1.1975,\n",
      "        1.1978, 1.1981, 1.1984, 1.1987, 1.1989, 1.1992, 1.1995, 1.1997, 1.2000,\n",
      "        1.2002, 1.2005, 1.2007, 1.2009, 1.2000, 1.2014, 1.2016, 1.2018, 1.2020,\n",
      "        1.2022])\n",
      "GLM Zeta:\n",
      "tensor([1.1416, 1.1419, 1.1422, 1.1426, 1.1429, 1.1432, 1.1436, 1.1439, 1.1442,\n",
      "        1.1445, 1.1448, 1.1451, 1.1455, 1.1458, 1.1461, 1.1464, 0.9468, 1.1469,\n",
      "        1.1472, 1.1475, 1.1478, 1.1481, 1.1484, 1.1486, 1.1489, 1.1492, 1.1494,\n",
      "        1.1497, 1.1499, 1.1502, 1.1504, 1.1507, 1.1509, 1.1511, 1.1514, 1.1516,\n",
      "        1.1518, 1.1520, 1.1522, 1.1525, 1.1527, 1.1529, 1.1531, 1.1532, 1.1534,\n",
      "        1.1536, 1.1538, 1.1540, 1.1541, 1.1543, 1.1545, 1.1546, 1.1548, 1.1549,\n",
      "        1.1551, 1.1552, 1.1554, 1.1555, 0.9542, 1.1557, 1.1559, 1.1560, 1.1561,\n",
      "        1.1562])\n"
     ]
    },
    {
     "data": {
      "image/png": "[encoded data removed]",
      "text/plain": [
       "<Figure size 720x360 with 1 Axes>"
      ]
     },
     "metadata": {
      "needs_background": "light"
     },
     "output_type": "display_data"
    },
    {
     "name": "stdout",
     "output_type": "stream",
     "text": [
      "number of samples: 5\n",
      "Neural Net Zeta:\n",
      "tensor([1.2024, 1.2026, 1.2028, 1.2030, 1.2031, 1.2033, 1.2035, 1.2036, 1.2027,\n",
      "        1.2039, 1.2041, 1.2042, 1.2044, 1.2045, 1.2046, 1.2047, 1.2049, 1.2050,\n",
      "        1.2051, 1.2052, 1.2053, 1.2054, 1.2054, 1.2055, 1.2056, 1.2057, 1.2057,\n",
      "        1.2058, 1.2059, 1.2059, 1.2060, 1.2060, 1.2061, 1.2061, 1.2061, 1.2061,\n",
      "        1.2062, 1.2062, 1.2062, 1.2062, 1.2062, 1.2062, 1.2062, 1.2062, 1.2062,\n",
      "        1.2061, 1.2061, 1.2061, 1.2061, 1.2060, 1.2060, 1.2059, 1.2059, 1.2058,\n",
      "        1.2058, 1.2057, 1.2057, 1.2056, 1.2055, 1.2055, 1.2054, 1.2053, 1.2052,\n",
      "        1.2051])\n",
      "GLM Zeta:\n",
      "tensor([1.1563, 1.1564, 1.1565, 1.1566, 1.1566, 1.1567, 1.1568, 1.1569, 0.9553,\n",
      "        1.1570, 1.1570, 1.1571, 1.1571, 1.1572, 1.1572, 1.1573, 1.1573, 1.1573,\n",
      "        1.1573, 1.1573, 1.1574, 1.1574, 1.1574, 1.1574, 1.1574, 1.1574, 1.1573,\n",
      "        1.1573, 1.1573, 1.1573, 1.1573, 1.1572, 1.1572, 1.1571, 1.1571, 1.1570,\n",
      "        1.1570, 1.1569, 1.1569, 1.1568, 1.1568, 1.1567, 1.1566, 1.1565, 1.1564,\n",
      "        1.1564, 1.1563, 1.1562, 1.1561, 1.1560, 1.1559, 1.1558, 1.1557, 1.1556,\n",
      "        1.1555, 1.1553, 1.1552, 1.1551, 1.1550, 1.1548, 1.1547, 1.1546, 1.1545,\n",
      "        1.1543])\n"
     ]
    },
    {
     "data": {
      "image/png": "[encoded data removed]",
      "text/plain": [
       "<Figure size 720x360 with 1 Axes>"
      ]
     },
     "metadata": {
      "needs_background": "light"
     },
     "output_type": "display_data"
    },
    {
     "name": "stdout",
     "output_type": "stream",
     "text": [
      "number of samples: 5\n",
      "Neural Net Zeta:\n",
      "tensor([1.2050, 1.2049, 1.2049, 1.2048, 1.2046, 1.2045, 1.2044, 1.2043, 1.2042,\n",
      "        1.2041, 1.2040, 1.2038, 1.2037, 1.2036, 1.2035, 1.2033, 1.2032, 1.2030,\n",
      "        1.2029, 1.2028, 1.2026, 1.2025, 1.2023, 1.2022, 1.2020, 1.2019, 1.2017,\n",
      "        1.2015, 1.2014, 1.2012, 1.2010, 1.2009, 1.2007, 1.2005, 1.2004, 1.2002,\n",
      "        1.2000, 1.1999, 1.1997, 1.1995, 1.1993, 1.1992, 1.1990, 1.1988, 1.1986,\n",
      "        1.1985, 1.1983, 1.1981, 1.1979, 1.1977, 1.1975, 1.1974, 1.1972, 1.1970,\n",
      "        1.1968, 1.1966, 1.1965, 1.1963, 1.1961, 1.1959, 1.1957, 1.1956, 1.1943,\n",
      "        1.1952])\n",
      "GLM Zeta:\n",
      "tensor([1.1542, 1.1540, 1.1539, 1.1537, 1.1536, 1.1534, 1.1533, 1.1531, 1.1530,\n",
      "        1.1528, 1.1526, 1.1525, 1.1523, 1.1522, 1.1520, 1.1518, 1.1516, 1.1515,\n",
      "        1.1513, 1.1511, 1.1509, 1.1508, 1.1506, 1.1504, 1.1502, 1.1500, 1.1499,\n",
      "        1.1497, 1.1495, 1.1493, 1.1491, 1.1489, 1.1487, 1.1486, 1.1484, 1.1482,\n",
      "        1.1480, 1.1478, 1.1476, 1.1474, 1.1472, 1.1470, 1.1469, 1.1467, 1.1465,\n",
      "        1.1463, 1.1461, 1.1459, 1.1457, 1.1456, 1.1454, 1.1452, 1.1450, 1.1448,\n",
      "        1.1446, 1.1445, 1.1443, 1.1441, 1.1439, 1.1437, 1.1436, 1.1434, 0.9440,\n",
      "        1.1431])\n"
     ]
    },
    {
     "data": {
      "image/png": "[encoded data removed]",
      "text/plain": [
       "<Figure size 720x360 with 1 Axes>"
      ]
     },
     "metadata": {
      "needs_background": "light"
     },
     "output_type": "display_data"
    },
    {
     "name": "stdout",
     "output_type": "stream",
     "text": [
      "number of samples: 5\n",
      "Neural Net Zeta:\n",
      "tensor([1.1950, 1.1949, 1.1947, 1.1945, 1.1943, 1.1942, 1.1940, 1.1938, 1.1937,\n",
      "        1.1935, 1.1933, 1.1932, 1.1930, 1.1928, 1.1927, 1.1925, 1.1923, 1.1922,\n",
      "        1.1920, 1.1919, 1.1917, 1.1916, 1.1914, 1.1913, 1.1911, 1.1910, 1.1909,\n",
      "        1.1907, 1.1906, 1.1905, 1.1903, 1.1902, 1.1901, 1.1900, 1.1898, 1.1897,\n",
      "        1.1896, 1.1895, 1.1894, 1.1893, 1.1892, 1.1891, 1.1879, 1.1889, 1.1888,\n",
      "        1.1887, 1.1886, 1.1885, 1.1884, 1.1884, 1.1872, 1.1882, 1.1882, 1.1881,\n",
      "        1.1880, 1.1880, 1.1879, 1.1879, 1.1878, 1.1878, 1.1877, 1.1877, 1.1876,\n",
      "        1.1876])\n",
      "GLM Zeta:\n",
      "tensor([1.1429, 1.1427, 1.1426, 1.1424, 1.1422, 1.1421, 1.1419, 1.1418, 1.1416,\n",
      "        1.1415, 1.1413, 1.1412, 1.1410, 1.1409, 1.1407, 1.1406, 1.1405, 1.1403,\n",
      "        1.1402, 1.1401, 1.1399, 1.1398, 1.1397, 1.1396, 1.1394, 1.1393, 1.1392,\n",
      "        1.1391, 1.1390, 1.1389, 1.1388, 1.1387, 1.1386, 1.1385, 1.1384, 1.1384,\n",
      "        1.1383, 1.1382, 1.1381, 1.1381, 1.1380, 1.1379, 0.9396, 1.1378, 1.1377,\n",
      "        1.1377, 1.1376, 1.1376, 1.1376, 1.1375, 0.9393, 1.1375, 1.1374, 1.1374,\n",
      "        1.1374, 1.1374, 1.1373, 1.1373, 1.1373, 1.1373, 1.1373, 1.1373, 1.1373,\n",
      "        1.1373])\n"
     ]
    },
    {
     "data": {
      "image/png": "[encoded data removed]",
      "text/plain": [
       "<Figure size 720x360 with 1 Axes>"
      ]
     },
     "metadata": {
      "needs_background": "light"
     },
     "output_type": "display_data"
    }
   ],
   "source": [
    "for i in range(0, 4):\n",
    "    inputs = next(data_iter) \n",
    "    print(\"number of samples: \" + str(len(inputs)))\n",
    "\n",
    "    with torch.no_grad():\n",
    "        y_inputs = inputs['Y_ji'].to(device)\n",
    "        rho_ji = model(y_inputs)\n",
    "\n",
    "    glm_zeta = inputs['Z_ji']\n",
    "    # convert log(Z) outputs to Z\n",
    "    net_zeta = torch.exp(rho_ji.cpu().squeeze())\n",
    "    print(\"Neural Net Zeta:\")\n",
    "    print(net_zeta)\n",
    "\n",
    "    print(\"GLM Zeta:\")\n",
    "    print(glm_zeta)\n",
    "\n",
    "    plot_data(glm_zeta, net_zeta)"
   ]
  },
  {
   "cell_type": "code",
   "execution_count": 40,
   "metadata": {},
   "outputs": [
    {
     "name": "stdout",
     "output_type": "stream",
     "text": [
      "Correlation Coefficient: 0.8637969062585605\n",
      "Mean Absolute Error: 0.0510\n",
      "Mean Squared Error: 0.0062\n"
     ]
    }
   ],
   "source": [
    "net_zeta = []\n",
    "glm_zeta = []\n",
    "with torch.no_grad():\n",
    "    for batch in tstdl:\n",
    "        y_inputs = batch['Y_ji'].to(device)\n",
    "        rho_ji = model(y_inputs)\n",
    "        # convert log(Z) outputs to Z\n",
    "        net_zeta.append(torch.exp(rho_ji.cpu()))\n",
    "        glm_zeta.append(batch['Z_ji'])\n",
    "\n",
    "net_zeta = torch.cat(net_zeta, dim=0)\n",
    "glm_zeta = torch.cat(glm_zeta, dim=0)\n",
    "mae = F.l1_loss(net_zeta.squeeze(), glm_zeta)\n",
    "mse = F.mse_loss(net_zeta.squeeze(), glm_zeta)\n",
    "\n",
    "correlation_coefficient = np.corrcoef(glm_zeta, net_zeta.squeeze())[0, 1]\n",
    "print(\"Correlation Coefficient:\", correlation_coefficient)\n",
    "\n",
    "print(f\"Mean Absolute Error: {mae.item():.4f}\")\n",
    "print(f\"Mean Squared Error: {mse.item():.4f}\")"
   ]
  },
  {
   "cell_type": "code",
   "execution_count": 41,
   "metadata": {},
   "outputs": [],
   "source": [
    "def density_plot(glm_zeta, net_zeta, gene_id):\n",
    "    sns.kdeplot(x=glm_zeta, y=net_zeta, fill=True, cmap=\"Blues\")\n",
    "        \n",
    "    plt.plot([min(glm_zeta), max(glm_zeta)], [min(net_zeta), max(net_zeta)], color='red')  # Diagonal line\n",
    "    \n",
    "    plt.xlim([min(glm_zeta), max(glm_zeta)])\n",
    "    plt.ylim([min(net_zeta), max(net_zeta)])\n",
    "\n",
    "\n",
    "    plt.xlabel('GLM Elongation Rate')\n",
    "    plt.ylabel('Neural Net Elongation Rate')\n",
    "    plt.title(gene_id)\n",
    "    plt.show()"
   ]
  },
  {
   "cell_type": "code",
   "execution_count": 42,
   "metadata": {},
   "outputs": [],
   "source": [
    "def scatterplot(net_zeta, glm_zeta, gene_id, log_scale, zoom):\n",
    "    indices = range(len(glm_zeta))\n",
    "    \n",
    "    fig, ax = plt.subplots(figsize=(10, 5))\n",
    "    \n",
    "    min_val = min(min(net_zeta), min(glm_zeta))\n",
    "    max_val = max(max(net_zeta), max(glm_zeta))\n",
    "\n",
    "    if zoom:\n",
    "        plt.xlim(0.75, 1.25)\n",
    "        plt.ylim(0.75, 1.25)\n",
    "    else:\n",
    "        plt.xlim(min_val, max_val)\n",
    "        plt.ylim(min_val, max_val)\n",
    "    \n",
    "    if log_scale:\n",
    "        ax.scatter(np.log(net_zeta), np.log(glm_zeta), s=5)        \n",
    "    else:\n",
    "        ax.scatter(net_zeta, glm_zeta, s=5)\n",
    "    \n",
    "    ax.set_title(gene_id)\n",
    "    ax.set_xlabel('Neural Net Zeta')\n",
    "    ax.set_ylabel('GLM Zeta')\n",
    "    ax.legend()\n",
    "\n",
    "    plt.show()\n"
   ]
  },
  {
   "cell_type": "code",
   "execution_count": 46,
   "metadata": {},
   "outputs": [],
   "source": [
    "def create_gene_id_mapping(dataset, indices):\n",
    "    gene_id_map = {}\n",
    "    for idx in indices:\n",
    "        data = dataset[idx]\n",
    "        gene_id = data['GeneId']\n",
    "\n",
    "        if gene_id not in gene_id_map:\n",
    "            gene_id_map[gene_id] = [idx]\n",
    "        else:\n",
    "            gene_id_map[gene_id].append(idx)\n",
    "\n",
    "    return gene_id_map\n",
    "\n",
    "test_dic = create_gene_id_mapping(dataset, test_idx)"
   ]
  },
  {
   "cell_type": "code",
   "execution_count": 47,
   "metadata": {},
   "outputs": [
    {
     "name": "stdout",
     "output_type": "stream",
     "text": [
      "number of samples: 8000\n"
     ]
    },
    {
     "data": {
      "image/png": "[encoded data removed]",
      "text/plain": [
       "<Figure size 432x288 with 1 Axes>"
      ]
     },
     "metadata": {
      "needs_background": "light"
     },
     "output_type": "display_data"
    },
    {
     "data": {
      "image/png": "[encoded data removed]",
      "text/plain": [
       "<Figure size 720x360 with 1 Axes>"
      ]
     },
     "metadata": {
      "needs_background": "light"
     },
     "output_type": "display_data"
    },
    {
     "name": "stdout",
     "output_type": "stream",
     "text": [
      "number of samples: 10168\n"
     ]
    },
    {
     "data": {
      "image/png": "[encoded data removed]",
      "text/plain": [
       "<Figure size 432x288 with 1 Axes>"
      ]
     },
     "metadata": {
      "needs_background": "light"
     },
     "output_type": "display_data"
    },
    {
     "data": {
      "image/png": "[encoded data removed]",
      "text/plain": [
       "<Figure size 720x360 with 1 Axes>"
      ]
     },
     "metadata": {
      "needs_background": "light"
     },
     "output_type": "display_data"
    }
   ],
   "source": [
    "for gene_id, indices in test_dic.items():\n",
    "    gene_id_subset = Subset(dataset, indices)\n",
    "    test_loader = DataLoader(gene_id_subset, batch_size=len(indices))\n",
    "    for batch in test_loader:\n",
    "        model.eval()\n",
    "        print(\"number of samples: \" + str(len(indices)))\n",
    "\n",
    "        with torch.no_grad():\n",
    "            y_inputs = batch['Y_ji'].to(device)\n",
    "            rho_ji = model(y_inputs)\n",
    "\n",
    "        glm_zeta = batch['Z_ji']\n",
    "        # convert log(Z) outputs to Z\n",
    "        net_zeta = torch.exp(rho_ji.cpu().squeeze())\n",
    "        \n",
    "        density_plot(glm_zeta, net_zeta, gene_id)\n",
    "        \n",
    "        #scatterplot(predicted_zeta, simulated_zeta, gene_id, False, False)\n",
    "        \n",
    "        plot_data(glm_zeta, net_zeta)\n",
    "        "
   ]
  },
  {
   "cell_type": "code",
   "execution_count": null,
   "metadata": {},
   "outputs": [],
   "source": []
  }
 ],
 "metadata": {
  "kernelspec": {
   "display_name": "CUDA/GPU Python 3.9.5 (src)",
   "language": "python",
   "name": "python_3.9.5-gcccore-10.3.0"
  },
  "language_info": {
   "codemirror_mode": {
    "name": "ipython",
    "version": 3
   },
   "file_extension": ".py",
   "mimetype": "text/x-python",
   "name": "python",
   "nbconvert_exporter": "python",
   "pygments_lexer": "ipython3",
   "version": "3.9.5"
  }
 },
 "nbformat": 4,
 "nbformat_minor": 5
}
