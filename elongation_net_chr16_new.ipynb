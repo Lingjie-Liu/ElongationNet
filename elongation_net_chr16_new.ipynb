{
 "cells": [
  {
   "cell_type": "code",
   "execution_count": null,
   "metadata": {},
   "outputs": [],
   "source": [
    "# Run CPU-only, GPU code needs further testing\n",
    "\"\"\"\n",
    "Restart kernel after running\n",
    "Only need to run once\n",
    "\"\"\"\n",
    "!pip install scikit-learn matplotlib seaborn"
   ]
  },
  {
   "cell_type": "code",
   "execution_count": 1,
   "metadata": {},
   "outputs": [
    {
     "name": "stdout",
     "output_type": "stream",
     "text": [
      "15\n"
     ]
    }
   ],
   "source": [
    "# hardcode if not using UGE environment\n",
    "import os\n",
    "num_cores_uge = os.environ.get('NSLOTS')\n",
    "print(num_cores_uge)\n",
    "\n",
    "num_workers = 7"
   ]
  },
  {
   "cell_type": "code",
   "execution_count": 2,
   "metadata": {},
   "outputs": [],
   "source": [
    "import numpy as np\n",
    "import pandas as pd\n",
    "import matplotlib.pyplot as plt\n",
    "import matplotlib.colors as colors\n",
    "import seaborn as sns\n",
    "import torch\n",
    "import torch.utils.data as td\n",
    "import torch.nn as nn\n",
    "import torch.nn.init as init\n",
    "import torch.nn.functional as F\n",
    "import torch.optim as optim\n",
    "from torch.optim.lr_scheduler import ReduceLROnPlateau\n",
    "from torch.utils.data import DataLoader, Dataset, Subset\n",
    "\n",
    "\n",
    "froot = './data/k562_chr16'\n",
    "\n",
    "df = pd.read_csv(froot + \".csv\")"
   ]
  },
  {
   "cell_type": "code",
   "execution_count": 3,
   "metadata": {},
   "outputs": [
    {
     "name": "stdout",
     "output_type": "stream",
     "text": [
      "   seqnames   start     end strand  ensembl_gene_id  score      ctcf  \\\n",
      "0        16  245089  245089      +  ENSG00000167930    0.0 -0.039744   \n",
      "1        16  245090  245090      +  ENSG00000167930    0.0 -0.039511   \n",
      "2        16  245091  245091      +  ENSG00000167930    0.0 -0.039276   \n",
      "3        16  245092  245092      +  ENSG00000167930    0.0 -0.039039   \n",
      "4        16  245093  245093      +  ENSG00000167930    0.0 -0.038799   \n",
      "\n",
      "   h3k36me3   h3k4me1  h3k79me2  ...       sj3       dms      rpts      wgbs  \\\n",
      "0 -0.429633  0.843669  0.003958  ... -0.057178 -0.307549  0.249626  0.000000   \n",
      "1 -0.431173  0.851792  0.004639  ... -0.057178 -0.307549  0.249626  0.550271   \n",
      "2 -0.432698  0.859971  0.005313  ... -0.057178 -0.307549  0.249626  0.000000   \n",
      "3 -0.434205  0.868205  0.005981  ... -0.057178 -0.307549  0.249626  0.000000   \n",
      "4 -0.435697  0.876495  0.006642  ... -0.057178 -0.307549  0.249626  0.000000   \n",
      "\n",
      "       A         T         G         C  lambda_alphaj      zeta  \n",
      "0 -0.625 -0.678443  1.954571 -0.494439       0.023095  1.082156  \n",
      "1 -0.625 -0.678443 -0.511621  2.022493       0.023095  0.893316  \n",
      "2 -0.625 -0.678443  1.954571 -0.494439       0.023095  1.081493  \n",
      "3 -0.625  1.473964 -0.511621 -0.494439       0.023095  1.081151  \n",
      "4 -0.625 -0.678443  1.954571 -0.494439       0.023095  1.080803  \n",
      "\n",
      "[5 rows x 24 columns]\n"
     ]
    }
   ],
   "source": [
    "print(df.head())"
   ]
  },
  {
   "cell_type": "code",
   "execution_count": 4,
   "metadata": {},
   "outputs": [
    {
     "name": "stdout",
     "output_type": "stream",
     "text": [
      "['ctcf' 'h3k36me3' 'h3k4me1' 'h3k79me2' 'h3k9me1' 'h3k9me3' 'h4k20me1'\n",
      " 'sj5' 'sj3' 'dms' 'rpts' 'wgbs']\n",
      "['A' 'T' 'G' 'C']\n"
     ]
    }
   ],
   "source": [
    "column_names = np.array(df.columns)\n",
    "feature_names = column_names[6:-6]\n",
    "num_features = len(feature_names)\n",
    "nucleotides = column_names[-6:-2]\n",
    "print(feature_names)\n",
    "print(nucleotides)\n",
    "num_samples = df.shape[0]\n",
    "\n",
    "# process read counts\n",
    "X_ji = df['score'].values\n",
    "\n",
    "# process GLM simulated elongation rates\n",
    "Z_ji = df['zeta'].values"
   ]
  },
  {
   "cell_type": "code",
   "execution_count": 5,
   "metadata": {},
   "outputs": [
    {
     "name": "stdout",
     "output_type": "stream",
     "text": [
      "Number of Samples: 435797\n"
     ]
    }
   ],
   "source": [
    "print(\"Number of Samples: \" + str(num_samples))"
   ]
  },
  {
   "cell_type": "code",
   "execution_count": 6,
   "metadata": {},
   "outputs": [
    {
     "name": "stdout",
     "output_type": "stream",
     "text": [
      "Number of Features: 12\n"
     ]
    }
   ],
   "source": [
    "print(\"Number of Features: \" + str(num_features))"
   ]
  },
  {
   "cell_type": "code",
   "execution_count": 7,
   "metadata": {},
   "outputs": [],
   "source": [
    "#Y_ji is a list of samples containing lists of their feature values\n",
    "    # [   \n",
    "    #   sample_1: [feat_1, feat_2,...,feat_n],\n",
    "    #   sample_2: [feat_1, feat_2,...,feat_n],\n",
    "    # ]\n",
    "\n",
    "Y_ji = df.iloc[:, 6:-6].values"
   ]
  },
  {
   "cell_type": "code",
   "execution_count": 8,
   "metadata": {},
   "outputs": [],
   "source": [
    "C_j = df['lambda_alphaj'].values"
   ]
  },
  {
   "cell_type": "code",
   "execution_count": 9,
   "metadata": {},
   "outputs": [],
   "source": [
    "gene_ids = df['ensembl_gene_id'].values"
   ]
  },
  {
   "cell_type": "code",
   "execution_count": 10,
   "metadata": {},
   "outputs": [
    {
     "name": "stdout",
     "output_type": "stream",
     "text": [
      "CUDA (GPU support) is available: False\n",
      "Number of GPUs available: 0\n"
     ]
    }
   ],
   "source": [
    "cuda_available = torch.cuda.is_available()\n",
    "print(\"CUDA (GPU support) is available:\", cuda_available)\n",
    "num_gpus = torch.cuda.device_count()\n",
    "print(\"Number of GPUs available:\", num_gpus)"
   ]
  },
  {
   "cell_type": "code",
   "execution_count": 11,
   "metadata": {},
   "outputs": [],
   "source": [
    "class CustomDataset(Dataset):\n",
    "    def __init__(self, GeneId, Y_ji, X_ji, C_j, Z_ji):\n",
    "        self.GeneId = GeneId\n",
    "        self.Y_ji = Y_ji\n",
    "        self.X_ji = X_ji\n",
    "        self.C_j = C_j\n",
    "        self.Z_ji = Z_ji\n",
    "        self.cache = {}  \n",
    "\n",
    "    def __len__(self):\n",
    "        return len(self.Y_ji)\n",
    "\n",
    "    def __getitem__(self, idx):\n",
    "        if idx in self.cache:\n",
    "            return self.cache[idx]\n",
    "        data = {\n",
    "            'GeneId':  self.GeneId[idx],\n",
    "            'Y_ji':  torch.tensor(self.Y_ji[idx], dtype=torch.float32),\n",
    "            'X_ji': torch.tensor(self.X_ji[idx], dtype=torch.float32),\n",
    "            'C_j': torch.tensor(self.C_j[idx], dtype=torch.float32),\n",
    "            'Z_ji': torch.tensor(self.Z_ji[idx], dtype=torch.float32)\n",
    "        }\n",
    "        self.cache[idx] = data\n",
    "        return data"
   ]
  },
  {
   "cell_type": "code",
   "execution_count": 12,
   "metadata": {},
   "outputs": [],
   "source": [
    "from sklearn.model_selection import GroupShuffleSplit\n",
    "\n",
    "dataset = CustomDataset(gene_ids, Y_ji, X_ji, C_j, Z_ji)\n",
    "\n",
    "# Convert gene IDs to numeric labels for GroupShuffleSplit\n",
    "unique_genes = np.unique(gene_ids)\n",
    "gene_to_idx = {gene: idx for idx, gene in enumerate(unique_genes)}\n",
    "group_labels = np.array([gene_to_idx[gene] for gene in gene_ids])\n",
    "\n",
    "gss_initial = GroupShuffleSplit(n_splits=1, test_size=0.1, random_state=42)\n",
    "train_val_idx, test_idx = next(gss_initial.split(np.zeros(len(group_labels)), groups=group_labels))\n",
    "\n",
    "train_val_mask = np.zeros(len(group_labels), dtype=bool)\n",
    "train_val_mask[train_val_idx] = True\n",
    "\n",
    "train_val_groups = group_labels[train_val_mask]\n",
    "\n",
    "gss_final = GroupShuffleSplit(n_splits=1, test_size=0.1, random_state=42)\n",
    "train_idx_rel, val_idx_rel = next(gss_final.split(np.zeros(len(train_val_idx)), groups=train_val_groups))\n",
    "\n",
    "train_idx = train_val_idx[train_idx_rel]\n",
    "val_idx = train_val_idx[val_idx_rel]\n",
    "\n",
    "train_set = Subset(dataset, train_idx)\n",
    "val_set = Subset(dataset, val_idx)\n",
    "test_set = Subset(dataset, test_idx)\n",
    "\n",
    "batch_size = 64"
   ]
  },
  {
   "cell_type": "code",
   "execution_count": 13,
   "metadata": {},
   "outputs": [
    {
     "name": "stdout",
     "output_type": "stream",
     "text": [
      "No overlapping indices.\n"
     ]
    }
   ],
   "source": [
    "set1 = set(train_idx)\n",
    "set2 = set(test_idx)\n",
    "set3 = set(val_idx)\n",
    "\n",
    "# Check for overlapping indices\n",
    "overlap1_2 = set1.intersection(set2)\n",
    "overlap1_3 = set1.intersection(set3)\n",
    "overlap2_3 = set2.intersection(set3)\n",
    "\n",
    "# Check if any overlaps exist\n",
    "if overlap1_2 or overlap1_3 or overlap2_3:\n",
    "    print(\"There are overlapping indices.\")\n",
    "else:\n",
    "    print(\"No overlapping indices.\")"
   ]
  },
  {
   "cell_type": "code",
   "execution_count": 14,
   "metadata": {},
   "outputs": [
    {
     "name": "stdout",
     "output_type": "stream",
     "text": [
      "Linear(in_features=12, out_features=1, bias=True)\n",
      "torch.Size([64, 1])\n",
      "Number of parameters: 13\n",
      "Model is on device: cpu\n"
     ]
    }
   ],
   "source": [
    "device = torch.device(\"cpu\")#torch.device(\"cuda\" if torch.cuda.is_available() else \"cpu\")\n",
    "\n",
    "model = nn.Linear(num_features, 1)#, bias=False)\n",
    "\n",
    "if cuda_available:\n",
    "    if num_gpus > 1:\n",
    "        print(\"Using\", num_gpus, \"GPUs\")\n",
    "        model = torch.nn.DataParallel(model)\n",
    "    model = model.to('cuda')\n",
    "\n",
    "print(model)\n",
    "\n",
    "arr = torch.randn((batch_size,num_features)).to(device)\n",
    "print(model(arr).shape)\n",
    "nparm = sum(p.numel() for p in model.parameters() if p.requires_grad)\n",
    "print(\"Number of parameters: \" + str(nparm))\n",
    "\n",
    "first_param_device = next(model.parameters()).device\n",
    "print(\"Model is on device:\", first_param_device)"
   ]
  },
  {
   "cell_type": "code",
   "execution_count": 15,
   "metadata": {},
   "outputs": [],
   "source": [
    "class CustomLoss(nn.Module):\n",
    "    def __init__(self):\n",
    "        super(CustomLoss, self).__init__()\n",
    "\n",
    "    def forward(self, X_ji, C_j, rho_ji):\n",
    "        #print(rho_ji.shape)\n",
    "        epsilon = 1e-8\n",
    "        loss = X_ji * rho_ji + C_j * torch.exp(-rho_ji) - X_ji * torch.log(C_j)\n",
    "        return (loss).mean()"
   ]
  },
  {
   "cell_type": "code",
   "execution_count": null,
   "metadata": {},
   "outputs": [],
   "source": [
    "# GPU testing with larger datasets\n",
    "\"\"\"\n",
    "optimizer = optim.Adam(model.parameters(), lr=0.0001)\n",
    "\n",
    "num_epochs = 50\n",
    "\n",
    "loss_hist_train = [0] * num_epochs\n",
    "loss_hist_valid = [0] * num_epochs\n",
    "\n",
    "loss_fn = CustomLoss()\n",
    "\n",
    "def print_profiler_results(profiler):\n",
    "    print(profiler.key_averages().table(sort_by=\"self_cpu_time_total\", row_limit=10))\n",
    "\n",
    "with torch.profiler.profile(\n",
    "    activities=[torch.profiler.ProfilerActivity.CPU, torch.profiler.ProfilerActivity.CUDA],\n",
    "    schedule=torch.profiler.schedule(wait=1, warmup=1, active=3),\n",
    "    on_trace_ready=print_profiler_results,\n",
    "    record_shapes=True,\n",
    "    profile_memory=True\n",
    ") as profiler:\n",
    "\n",
    "    for epoch in range(num_epochs):\n",
    "        print(f'Epoch {epoch+1}')\n",
    "        model.train()\n",
    "        trndl = DataLoader(train_set, batch_size=batch_size, num_workers=7, shuffle=False, pin_memory=True)\n",
    "        for i, batch in enumerate(trndl):\n",
    "            optimizer.zero_grad()\n",
    "            Y_ji_batch = batch['Y_ji'].to(device)\n",
    "            X_ji_batch = batch['X_ji'].to(device)\n",
    "            C_j_batch = batch['C_j'].to(device)\n",
    "            outputs = model(Y_ji_batch)\n",
    "            loss = loss_fn(X_ji_batch, C_j_batch, outputs)\n",
    "            loss.backward()\n",
    "            optimizer.step()\n",
    "            loss_hist_train[epoch] += loss.item()\n",
    "            profiler.step()\n",
    "        loss_hist_train[epoch] /= len(trndl)\n",
    "        del trndl\n",
    "\n",
    "    model.eval()\n",
    "    valdl = DataLoader(val_set, batch_size=batch_size, num_workers=7, shuffle=False, pin_memory=True)\n",
    "    with torch.no_grad():\n",
    "        for batch in valdl:\n",
    "            Y_ji_batch = batch['Y_ji'].to(device)\n",
    "            X_ji_batch = batch['X_ji'].to(device)\n",
    "            C_j_batch = batch['C_j'].to(device)\n",
    "            outputs = model(Y_ji_batch)\n",
    "            loss = loss_fn(X_ji_batch, C_j_batch, outputs)\n",
    "            loss_hist_valid[epoch] += loss.item()\n",
    "        loss_hist_valid[epoch] /= len(valdl)\n",
    "    del valdl\n",
    "    \n",
    "    print(f'Epoch {epoch+1} trn_loss: '\n",
    "          f'{loss_hist_train[epoch]:.4f} val_loss: '\n",
    "          f'{loss_hist_valid[epoch]:.4f}')\n",
    "          \"\"\""
   ]
  },
  {
   "cell_type": "code",
   "execution_count": 16,
   "metadata": {},
   "outputs": [
    {
     "name": "stdout",
     "output_type": "stream",
     "text": [
      "Epoch 1\n",
      "Epoch 1 trn_loss: 0.0951 val_loss: 0.1696\n",
      "Epoch 2\n",
      "Epoch 2 trn_loss: 0.0943 val_loss: 0.1681\n",
      "Epoch 3\n",
      "Epoch 3 trn_loss: 0.0937 val_loss: 0.1671\n",
      "Epoch 4\n",
      "Epoch 4 trn_loss: 0.0932 val_loss: 0.1664\n",
      "Epoch 5\n",
      "Epoch 5 trn_loss: 0.0929 val_loss: 0.1660\n",
      "Epoch 6\n",
      "Epoch 6 trn_loss: 0.0927 val_loss: 0.1657\n",
      "Epoch 7\n",
      "Epoch 7 trn_loss: 0.0925 val_loss: 0.1656\n",
      "Epoch 8\n",
      "Epoch 8 trn_loss: 0.0924 val_loss: 0.1655\n",
      "Epoch 9\n",
      "Epoch 9 trn_loss: 0.0923 val_loss: 0.1654\n",
      "Epoch 10\n",
      "Epoch 10 trn_loss: 0.0922 val_loss: 0.1654\n",
      "Epoch 11\n",
      "Epoch 11 trn_loss: 0.0922 val_loss: 0.1653\n",
      "Epoch 12\n",
      "Epoch 12 trn_loss: 0.0922 val_loss: 0.1653\n",
      "Epoch 13\n",
      "Epoch 13 trn_loss: 0.0922 val_loss: 0.1653\n",
      "Epoch 14\n",
      "Epoch 14 trn_loss: 0.0922 val_loss: 0.1653\n",
      "Epoch 15\n",
      "Epoch 15 trn_loss: 0.0921 val_loss: 0.1652\n",
      "Epoch 16\n",
      "Epoch 16 trn_loss: 0.0921 val_loss: 0.1652\n",
      "Epoch 17\n",
      "Epoch 17 trn_loss: 0.0921 val_loss: 0.1652\n",
      "Epoch 18\n",
      "Epoch 18 trn_loss: 0.0921 val_loss: 0.1652\n",
      "Epoch 19\n",
      "Epoch 19 trn_loss: 0.0921 val_loss: 0.1652\n",
      "Epoch 20\n",
      "Epoch 20 trn_loss: 0.0921 val_loss: 0.1652\n",
      "Epoch 21\n",
      "Epoch 21 trn_loss: 0.0921 val_loss: 0.1652\n",
      "Epoch 22\n",
      "Epoch 22 trn_loss: 0.0921 val_loss: 0.1652\n",
      "Epoch 23\n",
      "Epoch 23 trn_loss: 0.0921 val_loss: 0.1652\n",
      "Epoch 24\n",
      "Epoch 24 trn_loss: 0.0921 val_loss: 0.1652\n",
      "Epoch 25\n",
      "Epoch 25 trn_loss: 0.0921 val_loss: 0.1652\n",
      "Epoch 26\n",
      "Epoch 26 trn_loss: 0.0921 val_loss: 0.1652\n",
      "Epoch 27\n",
      "Epoch 27 trn_loss: 0.0921 val_loss: 0.1652\n",
      "Epoch 28\n",
      "Epoch 28 trn_loss: 0.0921 val_loss: 0.1652\n",
      "Epoch 29\n",
      "Epoch 29 trn_loss: 0.0921 val_loss: 0.1652\n",
      "Epoch 30\n",
      "Epoch 30 trn_loss: 0.0921 val_loss: 0.1652\n",
      "Epoch 31\n",
      "Epoch 31 trn_loss: 0.0921 val_loss: 0.1652\n",
      "Epoch 32\n",
      "Epoch 32 trn_loss: 0.0921 val_loss: 0.1652\n",
      "Epoch 33\n",
      "Epoch 33 trn_loss: 0.0921 val_loss: 0.1652\n",
      "Epoch 34\n",
      "Epoch 34 trn_loss: 0.0921 val_loss: 0.1652\n",
      "Epoch 35\n",
      "Epoch 35 trn_loss: 0.0921 val_loss: 0.1652\n",
      "Epoch 36\n",
      "Epoch 36 trn_loss: 0.0921 val_loss: 0.1652\n",
      "Epoch 37\n",
      "Epoch 37 trn_loss: 0.0921 val_loss: 0.1652\n",
      "Epoch 38\n",
      "Epoch 38 trn_loss: 0.0921 val_loss: 0.1652\n",
      "Epoch 39\n",
      "Epoch 39 trn_loss: 0.0921 val_loss: 0.1652\n",
      "Epoch 40\n",
      "Epoch 40 trn_loss: 0.0921 val_loss: 0.1652\n",
      "Epoch 41\n",
      "Epoch 41 trn_loss: 0.0921 val_loss: 0.1652\n",
      "Epoch 42\n",
      "Epoch 42 trn_loss: 0.0921 val_loss: 0.1652\n",
      "Epoch 43\n",
      "Epoch 43 trn_loss: 0.0921 val_loss: 0.1652\n",
      "Epoch 44\n",
      "Epoch 44 trn_loss: 0.0921 val_loss: 0.1652\n",
      "Epoch 45\n",
      "Epoch 45 trn_loss: 0.0921 val_loss: 0.1652\n",
      "Epoch 46\n",
      "Epoch 46 trn_loss: 0.0921 val_loss: 0.1652\n",
      "Epoch 47\n",
      "Epoch 47 trn_loss: 0.0921 val_loss: 0.1652\n",
      "Epoch 48\n",
      "Epoch 48 trn_loss: 0.0921 val_loss: 0.1652\n",
      "Epoch 49\n",
      "Epoch 49 trn_loss: 0.0921 val_loss: 0.1652\n",
      "Epoch 50\n",
      "Epoch 50 trn_loss: 0.0921 val_loss: 0.1652\n"
     ]
    }
   ],
   "source": [
    "optimizer = optim.Adam(model.parameters(), lr=0.0001)\n",
    "\n",
    "num_epochs = 50\n",
    "\n",
    "loss_hist_train = [0] * num_epochs\n",
    "loss_hist_valid = [0] * num_epochs\n",
    "\n",
    "loss_fn = CustomLoss()\n",
    "\n",
    "for epoch in range(num_epochs):\n",
    "    print(f'Epoch {epoch+1}')\n",
    "    model.train()\n",
    "    trndl = DataLoader(train_set, batch_size=batch_size, num_workers=num_workers, shuffle=False, pin_memory=True)\n",
    "    for i, batch in enumerate(trndl):\n",
    "        optimizer.zero_grad()\n",
    "        Y_ji_batch = batch['Y_ji'].to(device)\n",
    "        X_ji_batch = batch['X_ji'].to(device)\n",
    "        C_j_batch = batch['C_j'].to(device)\n",
    "        outputs = model(Y_ji_batch)\n",
    "        loss = loss_fn(X_ji_batch, C_j_batch, outputs)\n",
    "        loss.backward()\n",
    "        optimizer.step()\n",
    "        loss_hist_train[epoch] += loss.item()\n",
    "    loss_hist_train[epoch] /= len(trndl)\n",
    "    del trndl\n",
    "\n",
    "    model.eval()\n",
    "    valdl = DataLoader(val_set, batch_size=batch_size, num_workers=num_workers, shuffle=False, pin_memory=True)\n",
    "    with torch.no_grad():\n",
    "        for batch in valdl:\n",
    "            Y_ji_batch = batch['Y_ji'].to(device)\n",
    "            X_ji_batch = batch['X_ji'].to(device)\n",
    "            C_j_batch = batch['C_j'].to(device)\n",
    "            outputs = model(Y_ji_batch)\n",
    "            loss = loss_fn(X_ji_batch, C_j_batch, outputs)\n",
    "            loss_hist_valid[epoch] += loss.item()\n",
    "        loss_hist_valid[epoch] /= len(valdl)\n",
    "    del valdl\n",
    "    \n",
    "    print(f'Epoch {epoch+1} trn_loss: '\n",
    "          f'{loss_hist_train[epoch]:.4f} val_loss: '\n",
    "          f'{loss_hist_valid[epoch]:.4f}')\n"
   ]
  },
  {
   "cell_type": "code",
   "execution_count": 17,
   "metadata": {},
   "outputs": [],
   "source": [
    "from datetime import datetime\n",
    "\n",
    "timestamp = datetime.now().strftime(\"%Y%m%d_%H%M%S\")\n",
    "filename = f\"models/Elongation_Model_chr16.pth\"#_{timestamp}.pth\"\n",
    "torch.save(model.state_dict(), filename)"
   ]
  },
  {
   "cell_type": "code",
   "execution_count": 18,
   "metadata": {},
   "outputs": [
    {
     "name": "stdout",
     "output_type": "stream",
     "text": [
      "CUDA (GPU support) is available: False\n",
      "Number of GPUs available: 0\n",
      "Model is on device: cpu\n"
     ]
    }
   ],
   "source": [
    "\"\"\"\n",
    "model = nn.Linear(num_features, 1)\n",
    "model.load_state_dict(torch.load(\"models/Elongation_Model_chr16.pth\"))\n",
    "cuda_available = torch.cuda.is_available()\n",
    "print(\"CUDA (GPU support) is available:\", cuda_available)\n",
    "num_gpus = torch.cuda.device_count()\n",
    "print(\"Number of GPUs available:\", num_gpus)\n",
    "if cuda_available:\n",
    "    if num_gpus > 1:\n",
    "        print(\"Using\", num_gpus, \"GPUs\")\n",
    "        model = torch.nn.DataParallel(model)\n",
    "    model = model.to('cuda')\n",
    "\n",
    "first_param_device = next(model.parameters()).device\n",
    "print(\"Model is on device:\", first_param_device)\n",
    "\"\"\""
   ]
  },
  {
   "cell_type": "code",
   "execution_count": 19,
   "metadata": {},
   "outputs": [
    {
     "name": "stdout",
     "output_type": "stream",
     "text": [
      "\"ctcf\": -0.02767382375895977, \"h3k36me3\": -0.05636507645249367, \"h3k4me1\": -0.02041674219071865, \"h3k79me2\": 0.07458889484405518, \"h3k9me1\": -0.06809353083372116, \"h3k9me3\": -0.049968648701906204, \"h4k20me1\": -0.0755341649055481, \"sj5\": -0.020051173865795135, \"sj3\": -0.035132016986608505, \"dms\": -0.09862586855888367, \"rpts\": -0.014220182783901691, \"wgbs\": 0.02708510495722294\n",
      "bias: tensor([0.0185])\n"
     ]
    }
   ],
   "source": [
    "weights = model.weight.data.cpu().numpy()\n",
    "bias = model.bias.data.cpu().numpy()\n",
    "\n",
    "combined = ', '.join([f'\"{s}\": {f}' for s, f in zip(feature_names, weights[0])])\n",
    "print(combined)\n",
    "\n",
    "print(\"bias: \" + str(model.bias.data))"
   ]
  },
  {
   "cell_type": "code",
   "execution_count": null,
   "metadata": {},
   "outputs": [],
   "source": [
    "\"\"\"\n",
    "GLM K\n",
    "\n",
    "* ctcf: -0.02\n",
    "* h3k36me3: -0.9\n",
    "* h3k4me1: -0.02\n",
    "* h3k79me2: +0.03\n",
    "* h3k9me1: -0.06\n",
    "* h3k9me3: -0.03\n",
    "* h4k20me1: -0.05\n",
    "* sj5: -0.02\n",
    "* sj3: -0.03\n",
    "* dms->stem-loop: -0.06\n",
    "* rpts->low-complex: +0.01\n",
    "* wgbs->DNAm: -0.18\n",
    "\"\"\""
   ]
  },
  {
   "cell_type": "code",
   "execution_count": 20,
   "metadata": {},
   "outputs": [
    {
     "data": {
      "text/plain": [
       "<function matplotlib.pyplot.show(close=None, block=None)>"
      ]
     },
     "execution_count": 20,
     "metadata": {},
     "output_type": "execute_result"
    },
    {
     "data": {
      "image/png": "[encoded data removed]",
      "text/plain": [
       "<Figure size 432x288 with 1 Axes>"
      ]
     },
     "metadata": {
      "needs_background": "light"
     },
     "output_type": "display_data"
    }
   ],
   "source": [
    "epochs = range(1, len(loss_hist_train) + 1)\n",
    "plt.plot(epochs, loss_hist_train, label='train_loss')\n",
    "plt.plot(epochs, loss_hist_valid, label='valid_loss')\n",
    "\n",
    "plt.xlabel('Epochs')\n",
    "plt.ylabel('Loss')\n",
    "plt.legend()\n",
    "plt.show "
   ]
  },
  {
   "cell_type": "code",
   "execution_count": 21,
   "metadata": {},
   "outputs": [],
   "source": [
    "def plot_data(glm_zeta, net_zeta):\n",
    "    indices = range(len(glm_zeta))\n",
    "    \n",
    "    fig, ax = plt.subplots(figsize=(10, 5))\n",
    "    \n",
    "    #ax.plot(indices, predicted_zeta, color='blue', alpha=0.4)\n",
    "    #ax.plot(indices, simulated_zeta, color='orange', alpha=0.4)\n",
    "    \n",
    "    ax.scatter(indices, net_zeta, color='blue', label='Neural Net Zeta')\n",
    "    ax.scatter(indices, glm_zeta, color='orange', label='GLM Zeta')\n",
    "    \n",
    "    ax.set_title('Neural Net vs GLM Elongation Rate')\n",
    "    ax.set_xlabel('Index')\n",
    "    ax.set_ylabel('Elongation Rate')\n",
    "    ax.legend()\n",
    "\n",
    "    plt.show()\n"
   ]
  },
  {
   "cell_type": "code",
   "execution_count": 22,
   "metadata": {},
   "outputs": [],
   "source": [
    "tstdl = DataLoader(test_set, batch_size=batch_size, num_workers=0, shuffle=False, pin_memory=True)"
   ]
  },
  {
   "cell_type": "code",
   "execution_count": 23,
   "metadata": {},
   "outputs": [],
   "source": [
    "model.eval()\n",
    "\n",
    "data_iter = iter(tstdl)"
   ]
  },
  {
   "cell_type": "code",
   "execution_count": 25,
   "metadata": {},
   "outputs": [
    {
     "name": "stdout",
     "output_type": "stream",
     "text": [
      "number of samples: 5\n",
      "Neural Net Zeta:\n",
      "tensor([0.8118, 0.8112, 0.8106, 0.8099, 0.8094, 0.8088, 0.8082, 0.8076, 0.8071,\n",
      "        0.8065, 0.8060, 0.8055, 0.8049, 0.8044, 0.8039, 0.8035, 0.8030, 0.8025,\n",
      "        0.8021, 0.8016, 0.8012, 0.8008, 0.8004, 0.8000, 0.7996, 0.7992, 0.7988,\n",
      "        0.7985, 0.7981, 0.7978, 0.7975, 0.7972, 0.7969, 0.7966, 0.7963, 0.7960,\n",
      "        0.7958, 0.7955, 0.7953, 0.7951, 0.7949, 0.7947, 0.7945, 0.7943, 0.7941,\n",
      "        0.7940, 0.7938, 0.7937, 0.7936, 0.7934, 0.7933, 0.7933, 0.7932, 0.7931,\n",
      "        0.7931, 0.7930, 0.7930, 0.7929, 0.7929, 0.7929, 0.7929, 0.7930, 0.7930,\n",
      "        0.7930])\n",
      "GLM Zeta:\n",
      "tensor([0.8640, 0.8634, 0.8627, 0.8621, 0.8614, 0.8608, 0.8602, 0.8596, 0.8590,\n",
      "        0.8584, 0.8578, 0.8572, 0.8567, 0.8561, 0.8556, 0.8550, 0.8545, 0.8540,\n",
      "        0.8534, 0.8529, 0.8524, 0.8519, 0.8514, 0.8510, 0.8505, 0.8500, 0.8496,\n",
      "        0.8491, 0.8487, 0.8483, 0.8478, 0.8474, 0.8470, 0.8466, 0.8462, 0.8459,\n",
      "        0.8455, 0.8451, 0.8448, 0.8444, 0.8441, 0.8438, 0.8435, 0.8431, 0.8428,\n",
      "        0.8426, 0.8423, 0.8420, 0.8417, 0.8415, 0.8412, 0.8410, 0.8408, 0.8405,\n",
      "        0.8403, 0.8401, 0.8399, 0.8398, 0.8396, 0.8394, 0.8393, 0.8391, 0.8390,\n",
      "        0.8388])\n"
     ]
    },
    {
     "data": {
      "image/png": "[encoded data removed]",
      "text/plain": [
       "<Figure size 720x360 with 1 Axes>"
      ]
     },
     "metadata": {
      "needs_background": "light"
     },
     "output_type": "display_data"
    },
    {
     "name": "stdout",
     "output_type": "stream",
     "text": [
      "number of samples: 5\n",
      "Neural Net Zeta:\n",
      "tensor([0.7931, 0.7932, 0.7932, 0.7933, 0.7934, 0.7935, 0.7937, 0.7938, 0.7939,\n",
      "        0.7941, 0.7943, 0.7944, 0.7946, 0.7948, 0.7950, 0.7953, 0.7955, 0.7957,\n",
      "        0.7960, 0.7962, 0.7965, 0.7968, 0.7971, 0.7974, 0.7977, 0.7981, 0.7984,\n",
      "        0.8108, 0.7991, 0.7995, 0.7999, 0.8003, 0.8007, 0.8011, 0.8015, 0.8020,\n",
      "        0.8024, 0.8150, 0.8034, 0.8038, 0.8043, 0.8048, 0.8054, 0.8059, 0.8064,\n",
      "        0.8070, 0.8075, 0.8081, 0.8087, 0.8092, 0.8098, 0.8104, 0.8111, 0.8117,\n",
      "        0.8123, 0.8130, 0.8136, 0.8143, 0.8150, 0.8157, 0.8163, 0.8171, 0.8178,\n",
      "        0.8185])\n",
      "GLM Zeta:\n",
      "tensor([0.8387, 0.8386, 0.8385, 0.8384, 0.8383, 0.8383, 0.8382, 0.8381, 0.8381,\n",
      "        0.8381, 0.8380, 0.8380, 0.8380, 0.8380, 0.8380, 0.8380, 0.8381, 0.8381,\n",
      "        0.8381, 0.8382, 0.8383, 0.8383, 0.8384, 0.8385, 0.8386, 0.8387, 0.8388,\n",
      "        0.6928, 0.8391, 0.8393, 0.8394, 0.8396, 0.8398, 0.8399, 0.8401, 0.8403,\n",
      "        0.8405, 0.6943, 0.8410, 0.8412, 0.8415, 0.8417, 0.8420, 0.8423, 0.8426,\n",
      "        0.8429, 0.8432, 0.8435, 0.8438, 0.8441, 0.8445, 0.8448, 0.8452, 0.8455,\n",
      "        0.8459, 0.8463, 0.8467, 0.8471, 0.8475, 0.8479, 0.8484, 0.8488, 0.8492,\n",
      "        0.8497])\n"
     ]
    },
    {
     "data": {
      "image/png": "[encoded data removed]",
      "text/plain": [
       "<Figure size 720x360 with 1 Axes>"
      ]
     },
     "metadata": {
      "needs_background": "light"
     },
     "output_type": "display_data"
    },
    {
     "name": "stdout",
     "output_type": "stream",
     "text": [
      "number of samples: 5\n",
      "Neural Net Zeta:\n",
      "tensor([0.8192, 0.8200, 0.8207, 0.8215, 0.8223, 0.8231, 0.8238, 0.8246, 0.8378,\n",
      "        0.8263, 0.8271, 0.8279, 0.8288, 0.8296, 0.8305, 0.8314, 0.8323, 0.8332,\n",
      "        0.8341, 0.8350, 0.8359, 0.8368, 0.8377, 0.8387, 0.8396, 0.8406, 0.8416,\n",
      "        0.8425, 0.8435, 0.8445, 0.8455, 0.8465, 0.8475, 0.8486, 0.8496, 0.8506,\n",
      "        0.8517, 0.8527, 0.8538, 0.8549, 0.8559, 0.8570, 0.8581, 0.8592, 0.8603,\n",
      "        0.8614, 0.8625, 0.8637, 0.8648, 0.8659, 0.8671, 0.8682, 0.8694, 0.8705,\n",
      "        0.8717, 0.8729, 0.8741, 0.8753, 0.8764, 0.8776, 0.8789, 0.8801, 0.8813,\n",
      "        0.8825])\n",
      "GLM Zeta:\n",
      "tensor([0.8502, 0.8506, 0.8511, 0.8516, 0.8521, 0.8526, 0.8531, 0.8536, 0.7053,\n",
      "        0.8547, 0.8553, 0.8558, 0.8564, 0.8570, 0.8575, 0.8581, 0.8587, 0.8593,\n",
      "        0.8600, 0.8606, 0.8612, 0.8619, 0.8625, 0.8632, 0.8638, 0.8645, 0.8652,\n",
      "        0.8659, 0.8666, 0.8673, 0.8680, 0.8687, 0.8694, 0.8702, 0.8709, 0.8716,\n",
      "        0.8724, 0.8732, 0.8739, 0.8747, 0.8755, 0.8763, 0.8771, 0.8779, 0.8787,\n",
      "        0.8795, 0.8804, 0.8812, 0.8820, 0.8829, 0.8837, 0.8846, 0.8855, 0.8863,\n",
      "        0.8872, 0.8881, 0.8890, 0.8899, 0.8908, 0.8917, 0.8926, 0.8936, 0.8945,\n",
      "        0.8954])\n"
     ]
    },
    {
     "data": {
      "image/png": "[encoded data removed]",
      "text/plain": [
       "<Figure size 720x360 with 1 Axes>"
      ]
     },
     "metadata": {
      "needs_background": "light"
     },
     "output_type": "display_data"
    },
    {
     "name": "stdout",
     "output_type": "stream",
     "text": [
      "number of samples: 5\n",
      "Neural Net Zeta:\n",
      "tensor([0.8837, 0.8849, 0.8862, 0.8874, 0.8887, 0.8899, 0.8912, 0.8924, 0.8937,\n",
      "        0.8950, 0.8962, 0.8975, 0.8988, 0.9001, 0.9014, 0.9027, 0.9040, 0.9053,\n",
      "        0.9066, 0.9079, 0.9092, 0.9105, 0.9118, 0.9131, 0.9144, 0.9158, 0.9171,\n",
      "        0.9184, 0.9197, 0.9211, 0.9224, 0.9238, 0.9251, 0.9264, 0.9278, 0.9291,\n",
      "        0.9305, 0.9318, 0.9332, 0.9345, 0.9359, 0.9372, 0.9386, 0.9399, 0.9413,\n",
      "        0.9426, 0.9440, 0.9453, 0.9467, 0.9481, 0.9494, 0.9508, 0.9521, 0.9535,\n",
      "        0.9548, 0.9562, 0.9575, 0.9589, 0.9602, 0.9616, 0.9629, 0.9643, 0.9656,\n",
      "        0.9670])\n",
      "GLM Zeta:\n",
      "tensor([0.8964, 0.8973, 0.8983, 0.8992, 0.9002, 0.9011, 0.9021, 0.9031, 0.9041,\n",
      "        0.9051, 0.9061, 0.9071, 0.9081, 0.9091, 0.9101, 0.9111, 0.9121, 0.9132,\n",
      "        0.9142, 0.9152, 0.9163, 0.9173, 0.9184, 0.9194, 0.9205, 0.9215, 0.9226,\n",
      "        0.9237, 0.9247, 0.9258, 0.9269, 0.9280, 0.9290, 0.9301, 0.9312, 0.9323,\n",
      "        0.9334, 0.9345, 0.9356, 0.9367, 0.9378, 0.9389, 0.9400, 0.9411, 0.9423,\n",
      "        0.9434, 0.9445, 0.9456, 0.9467, 0.9478, 0.9490, 0.9501, 0.9512, 0.9524,\n",
      "        0.9535, 0.9546, 0.9557, 0.9569, 0.9580, 0.9591, 0.9603, 0.9614, 0.9625,\n",
      "        0.9637])\n"
     ]
    },
    {
     "data": {
      "image/png": "[encoded data removed]",
      "text/plain": [
       "<Figure size 720x360 with 1 Axes>"
      ]
     },
     "metadata": {
      "needs_background": "light"
     },
     "output_type": "display_data"
    }
   ],
   "source": [
    "for i in range(0, 4):\n",
    "    inputs = next(data_iter) \n",
    "    print(\"number of samples: \" + str(len(inputs)))\n",
    "\n",
    "    with torch.no_grad():\n",
    "        y_inputs = inputs['Y_ji'].to(device)\n",
    "        rho_ji = model(y_inputs)\n",
    "\n",
    "    glm_zeta = inputs['Z_ji']\n",
    "    # convert log(Z) outputs to Z\n",
    "    net_zeta = torch.exp(rho_ji.cpu().squeeze())\n",
    "    print(\"Neural Net Zeta:\")\n",
    "    print(net_zeta)\n",
    "\n",
    "    print(\"GLM Zeta:\")\n",
    "    print(glm_zeta)\n",
    "\n",
    "    plot_data(glm_zeta, net_zeta)"
   ]
  },
  {
   "cell_type": "code",
   "execution_count": 26,
   "metadata": {},
   "outputs": [
    {
     "name": "stdout",
     "output_type": "stream",
     "text": [
      "Correlation Coefficient: 0.8609166751786568\n",
      "Mean Absolute Error: 0.0438\n",
      "Mean Squared Error: 0.0065\n"
     ]
    }
   ],
   "source": [
    "net_zeta = []\n",
    "glm_zeta = []\n",
    "with torch.no_grad():\n",
    "    for batch in tstdl:\n",
    "        y_inputs = batch['Y_ji'].to(device)\n",
    "        rho_ji = model(y_inputs)\n",
    "        # convert log(Z) outputs to Z\n",
    "        net_zeta.append(torch.exp(rho_ji.cpu()))\n",
    "        glm_zeta.append(batch['Z_ji'])\n",
    "\n",
    "net_zeta = torch.cat(net_zeta, dim=0)\n",
    "glm_zeta = torch.cat(glm_zeta, dim=0)\n",
    "mae = F.l1_loss(net_zeta.squeeze(), glm_zeta)\n",
    "mse = F.mse_loss(net_zeta.squeeze(), glm_zeta)\n",
    "\n",
    "correlation_coefficient = np.corrcoef(glm_zeta, net_zeta.squeeze())[0, 1]\n",
    "print(\"Correlation Coefficient:\", correlation_coefficient)\n",
    "\n",
    "print(f\"Mean Absolute Error: {mae.item():.4f}\")\n",
    "print(f\"Mean Squared Error: {mse.item():.4f}\")"
   ]
  },
  {
   "cell_type": "code",
   "execution_count": 27,
   "metadata": {},
   "outputs": [],
   "source": [
    "def density_plot(glm_zeta, net_zeta, gene_id):\n",
    "    sns.kdeplot(x=glm_zeta, y=net_zeta, fill=True, cmap=\"Blues\")\n",
    "        \n",
    "    plt.plot([min(glm_zeta), max(glm_zeta)], [min(net_zeta), max(net_zeta)], color='red')  # Diagonal line\n",
    "    \n",
    "    plt.xlim([min(glm_zeta), max(glm_zeta)])\n",
    "    plt.ylim([min(net_zeta), max(net_zeta)])\n",
    "\n",
    "\n",
    "    plt.xlabel('GLM Elongation Rate')\n",
    "    plt.ylabel('Neural Net Elongation Rate')\n",
    "    plt.title(gene_id)\n",
    "    plt.show()"
   ]
  },
  {
   "cell_type": "code",
   "execution_count": 28,
   "metadata": {},
   "outputs": [],
   "source": [
    "def scatterplot(net_zeta, glm_zeta, gene_id, log_scale, zoom):\n",
    "    indices = range(len(glm_zeta))\n",
    "    \n",
    "    fig, ax = plt.subplots(figsize=(10, 5))\n",
    "    \n",
    "    min_val = min(min(net_zeta), min(glm_zeta))\n",
    "    max_val = max(max(net_zeta), max(glm_zeta))\n",
    "\n",
    "    if zoom:\n",
    "        plt.xlim(0.75, 1.25)\n",
    "        plt.ylim(0.75, 1.25)\n",
    "    else:\n",
    "        plt.xlim(min_val, max_val)\n",
    "        plt.ylim(min_val, max_val)\n",
    "    \n",
    "    if log_scale:\n",
    "        ax.scatter(np.log(net_zeta), np.log(glm_zeta), s=5)        \n",
    "    else:\n",
    "        ax.scatter(net_zeta, glm_zeta, s=5)\n",
    "    \n",
    "    ax.set_title(gene_id)\n",
    "    ax.set_xlabel('Neural Net Zeta')\n",
    "    ax.set_ylabel('GLM Zeta')\n",
    "    ax.legend()\n",
    "\n",
    "    plt.show()\n"
   ]
  },
  {
   "cell_type": "code",
   "execution_count": 29,
   "metadata": {},
   "outputs": [],
   "source": [
    "def create_gene_id_mapping(dataset, indices):\n",
    "    gene_id_map = {}\n",
    "    for idx in indices:\n",
    "        data = dataset[idx]\n",
    "        gene_id = data['GeneId']\n",
    "\n",
    "        if gene_id not in gene_id_map:\n",
    "            gene_id_map[gene_id] = [idx]\n",
    "        else:\n",
    "            gene_id_map[gene_id].append(idx)\n",
    "\n",
    "    return gene_id_map\n",
    "\n",
    "test_dic = create_gene_id_mapping(dataset, test_idx)"
   ]
  },
  {
   "cell_type": "code",
   "execution_count": 30,
   "metadata": {},
   "outputs": [
    {
     "name": "stdout",
     "output_type": "stream",
     "text": [
      "number of samples: 8000\n"
     ]
    },
    {
     "data": {
      "image/png": "[encoded data removed]",
      "text/plain": [
       "<Figure size 432x288 with 1 Axes>"
      ]
     },
     "metadata": {
      "needs_background": "light"
     },
     "output_type": "display_data"
    },
    {
     "data": {
      "image/png": "[encoded data removed]",
      "text/plain": [
       "<Figure size 720x360 with 1 Axes>"
      ]
     },
     "metadata": {
      "needs_background": "light"
     },
     "output_type": "display_data"
    },
    {
     "name": "stdout",
     "output_type": "stream",
     "text": [
      "number of samples: 10168\n"
     ]
    },
    {
     "data": {
      "image/png": "[encoded data removed]",
      "text/plain": [
       "<Figure size 432x288 with 1 Axes>"
      ]
     },
     "metadata": {
      "needs_background": "light"
     },
     "output_type": "display_data"
    },
    {
     "data": {
      "image/png": "[encoded data removed]",
      "text/plain": [
       "<Figure size 720x360 with 1 Axes>"
      ]
     },
     "metadata": {
      "needs_background": "light"
     },
     "output_type": "display_data"
    }
   ],
   "source": [
    "for gene_id, indices in test_dic.items():\n",
    "    gene_id_subset = Subset(dataset, indices)\n",
    "    test_loader = DataLoader(gene_id_subset, batch_size=len(indices))\n",
    "    for batch in test_loader:\n",
    "        model.eval()\n",
    "        print(\"number of samples: \" + str(len(indices)))\n",
    "\n",
    "        with torch.no_grad():\n",
    "            y_inputs = batch['Y_ji'].to(device)\n",
    "            rho_ji = model(y_inputs)\n",
    "\n",
    "        glm_zeta = batch['Z_ji']\n",
    "        # convert log(Z) outputs to Z\n",
    "        net_zeta = torch.exp(rho_ji.cpu().squeeze())\n",
    "        \n",
    "        density_plot(glm_zeta, net_zeta, gene_id)\n",
    "        \n",
    "        #scatterplot(predicted_zeta, simulated_zeta, gene_id, False, False)\n",
    "        \n",
    "        plot_data(glm_zeta, net_zeta)\n",
    "        "
   ]
  },
  {
   "cell_type": "code",
   "execution_count": null,
   "metadata": {},
   "outputs": [],
   "source": []
  }
 ],
 "metadata": {
  "kernelspec": {
   "display_name": "CUDA/GPU Python 3.9.5 (src)",
   "language": "python",
   "name": "python_3.9.5-gcccore-10.3.0"
  },
  "language_info": {
   "codemirror_mode": {
    "name": "ipython",
    "version": 3
   },
   "file_extension": ".py",
   "mimetype": "text/x-python",
   "name": "python",
   "nbconvert_exporter": "python",
   "pygments_lexer": "ipython3",
   "version": "3.9.5"
  }
 },
 "nbformat": 4,
 "nbformat_minor": 5
}
