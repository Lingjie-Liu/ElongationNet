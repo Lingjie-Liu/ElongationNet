{
 "cells": [
  {
   "cell_type": "code",
   "execution_count": 7,
   "metadata": {},
   "outputs": [
    {
     "name": "stdout",
     "output_type": "stream",
     "text": [
      "['ctcf' 'h3k36me3' 'h3k4me1' 'h3k79me2' 'h3k9me1' 'h3k9me3' 'h4k20me1'\n",
      " 'sj5' 'sj3' 'dms' 'wgbs' 'rpts']\n",
      "\"ctcf\": -0.0224536145637661, \"h3k36me3\": -0.094592589, \"h3k4me1\": -0.023815382, \"h3k79me2\": 0.030402922, \"h3k9me1\": -0.067234092, \"h3k9me3\": -0.032196914, \"h4k20me1\": -0.040911478, \"sj5\": -0.018557168, \"sj3\": -0.033545905, \"dms\": -0.051103287, \"wgbs\": -0.204434712, \"rpts\": 0.015831043\n"
     ]
    }
   ],
   "source": [
    "import numpy as np\n",
    "import pandas as pd\n",
    "import torch\n",
    "import torch.nn as nn\n",
    "import torch.nn.init as init\n",
    "import torch.nn.functional as F\n",
    "\n",
    "froot = './data/k562_chr16_updated'\n",
    "\n",
    "df = pd.read_csv(froot + \".csv\")\n",
    "\n",
    "column_names = np.array(df.columns)\n",
    "feature_names = column_names[6:-2]\n",
    "num_features = len(feature_names)\n",
    "print(feature_names)\n",
    "num_samples = df.shape[0]\n",
    "\n",
    "#Y_ji is a list of samples containing lists of their feature values\n",
    "    # [   \n",
    "    #   sample_1: [feat_1, feat_2,...,feat_n],\n",
    "    #   sample_2: [feat_1, feat_2,...,feat_n],\n",
    "    # ]\n",
    "\n",
    "Y_ji = df.iloc[:, 6:-2].values\n",
    "\n",
    "# process GLM simulated elongation rates\n",
    "Z_ji = df['zeta'].values\n",
    "\n",
    "model = nn.Linear(num_features, 1, bias=False, dtype=torch.float64)\n",
    "\n",
    "model.weight.data[0] = torch.tensor([-0.0224536145637661, -0.094592589, -0.023815382, 0.030402922, -0.067234092, -0.032196914, -0.040911478, -0.018557168, -0.033545905, -0.051103287, -0.204434712, 0.015831043], dtype=torch.float64)\n",
    "\n",
    "model.eval()\n",
    "\n",
    "weights = model.weight.data.cpu().numpy()\n",
    "combined = ', '.join([f'\"{s}\": {f}' for s, f in zip(feature_names, weights[0])])\n",
    "print(combined)"
   ]
  },
  {
   "cell_type": "code",
   "execution_count": 8,
   "metadata": {},
   "outputs": [
    {
     "name": "stdout",
     "output_type": "stream",
     "text": [
      "Neural Network Zeta:\n",
      "[1.07487679 1.07400773 1.07313596 ... 0.37690437 0.37699961 0.37709801]\n",
      "\n",
      "\n",
      "Matrix Multiplication Zeta: Z_ji = e^(k * Y_ji)\n",
      "[1.07487679 1.07400773 1.07313596 ... 0.37690437 0.37699961 0.37709801]\n",
      "\n",
      "\n",
      "Ling Zeta:\n",
      "[1.07487679 1.07400773 1.07313596 ... 0.37690437 0.37699961 0.37709801]\n"
     ]
    }
   ],
   "source": [
    "with torch.no_grad():\n",
    "    y_inputs = Y_ji\n",
    "    rho_ji = model(torch.tensor(y_inputs, dtype=torch.float64))\n",
    "\n",
    "    matmul_zeta = torch.exp(torch.matmul(torch.tensor(Y_ji, dtype=torch.float64), model.weight.data[0]))\n",
    "    \n",
    "    # convert log(Z) outputs to Z\n",
    "    neural_net_zeta = torch.exp(rho_ji.squeeze())\n",
    "    \n",
    "    print(\"Neural Network Zeta:\")\n",
    "    print(neural_net_zeta.numpy())\n",
    "    print(\"\\n\")\n",
    "\n",
    "    print(\"Matrix Multiplication Zeta: Z_ji = e^(k * Y_ji)\")\n",
    "    print(matmul_zeta.numpy())\n",
    "    print(\"\\n\")\n",
    "    \n",
    "    print(\"Ling Zeta:\")\n",
    "    print(Z_ji)"
   ]
  },
  {
   "cell_type": "code",
   "execution_count": null,
   "metadata": {},
   "outputs": [],
   "source": []
  }
 ],
 "metadata": {
  "kernelspec": {
   "display_name": "CUDA/GPU Python 3.9.5 (src)",
   "language": "python",
   "name": "python_3.9.5-gcccore-10.3.0"
  },
  "language_info": {
   "codemirror_mode": {
    "name": "ipython",
    "version": 3
   },
   "file_extension": ".py",
   "mimetype": "text/x-python",
   "name": "python",
   "nbconvert_exporter": "python",
   "pygments_lexer": "ipython3",
   "version": "3.9.5"
  }
 },
 "nbformat": 4,
 "nbformat_minor": 4
}
