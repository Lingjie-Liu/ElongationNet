{
 "cells": [
  {
   "cell_type": "code",
   "execution_count": 2,
   "metadata": {},
   "outputs": [
    {
     "name": "stdout",
     "output_type": "stream",
     "text": [
      "['ctcf' 'h3k36me3' 'h3k4me1' 'h3k79me2' 'h3k9me1' 'h3k9me3' 'h4k20me1'\n",
      " 'sj5' 'sj3' 'dms' 'rpts' 'wgbs']\n",
      "['A' 'T' 'G' 'C']\n",
      "\"ctcf\": -0.019999999552965164, \"h3k36me3\": -0.8999999761581421, \"h3k4me1\": -0.019999999552965164, \"h3k79me2\": 0.029999999329447746, \"h3k9me1\": -0.05999999865889549, \"h3k9me3\": -0.029999999329447746, \"h4k20me1\": -0.05000000074505806, \"sj5\": -0.019999999552965164, \"sj3\": -0.029999999329447746, \"dms\": -0.05999999865889549, \"rpts\": 0.009999999776482582, \"wgbs\": -0.18000000715255737\n"
     ]
    }
   ],
   "source": [
    "import numpy as np\n",
    "import pandas as pd\n",
    "import torch\n",
    "import torch.nn as nn\n",
    "import torch.nn.init as init\n",
    "import torch.nn.functional as F\n",
    "\n",
    "froot = './data/k562_chr16'\n",
    "\n",
    "df = pd.read_csv(froot + \".csv\")\n",
    "\n",
    "column_names = np.array(df.columns)\n",
    "feature_names = column_names[6:-6]\n",
    "num_features = len(feature_names)\n",
    "print(feature_names)\n",
    "num_samples = df.shape[0]\n",
    "\n",
    "#Y_ji is a list of samples containing lists of their feature values\n",
    "    # [   \n",
    "    #   sample_1: [feat_1, feat_2,...,feat_n],\n",
    "    #   sample_2: [feat_1, feat_2,...,feat_n],\n",
    "    # ]\n",
    "\n",
    "Y_ji = df.iloc[:, 6:-6].values\n",
    "\n",
    "# process GLM simulated elongation rates\n",
    "Z_ji = df['zeta'].values\n",
    "\n",
    "model = nn.Linear(num_features, 1, bias=False, dtype=torch.float32)\n",
    "model.weight.data[0] = torch.tensor([-0.02, -0.9, -0.02, 0.03, -0.06, -0.03, -0.05, -0.02, -0.03, -0.06, 0.01, -0.18], dtype=torch.float32)\n",
    "\n",
    "model.eval()\n",
    "\n",
    "weights = model.weight.data.cpu().numpy()\n",
    "combined = ', '.join([f'\"{s}\": {f}' for s, f in zip(feature_names, weights[0])])\n",
    "print(combined)"
   ]
  },
  {
   "cell_type": "code",
   "execution_count": 9,
   "metadata": {},
   "outputs": [
    {
     "name": "stdout",
     "output_type": "stream",
     "text": [
      "Neural Network Zeta:\n",
      "[1.527791  1.3849593 1.5305036 ... 1.1874436 1.1889294 1.1904222]\n",
      "\n",
      "\n",
      "Matrix Multiplication Zeta: Z_ji = e^(k * Y_ji)\n",
      "[1.527791  1.3849593 1.5305036 ... 1.1874436 1.1889294 1.1904222]\n",
      "\n",
      "\n",
      "Ling Zeta:\n",
      "[1.08215648 0.89331623 1.08149273 ... 0.90863945 0.90872591 0.90880907]\n"
     ]
    }
   ],
   "source": [
    "with torch.no_grad():\n",
    "    y_inputs = Y_ji\n",
    "    rho_ji = model(torch.tensor(y_inputs, dtype=torch.float32))\n",
    "\n",
    "    matmul_zeta = torch.exp(torch.matmul(torch.tensor(Y_ji, dtype=torch.float32), model.weight.data[0]))\n",
    "    \n",
    "    # convert log(Z) outputs to Z\n",
    "    neural_net_zeta = torch.exp(rho_ji.squeeze())\n",
    "    \n",
    "    print(\"Neural Network Zeta:\")\n",
    "    print(neural_net_zeta.numpy())\n",
    "    print(\"\\n\")\n",
    "\n",
    "    print(\"Matrix Multiplication Zeta: Z_ji = e^(k * Y_ji)\")\n",
    "    print(matmul_zeta.numpy())\n",
    "    print(\"\\n\")\n",
    "    \n",
    "    print(\"Ling Zeta:\")\n",
    "    print(Z_ji)\n",
    "    "
   ]
  }
 ],
 "metadata": {
  "kernelspec": {
   "display_name": "CUDA/GPU Python 3.9.5 (src)",
   "language": "python",
   "name": "python_3.9.5-gcccore-10.3.0"
  },
  "language_info": {
   "codemirror_mode": {
    "name": "ipython",
    "version": 3
   },
   "file_extension": ".py",
   "mimetype": "text/x-python",
   "name": "python",
   "nbconvert_exporter": "python",
   "pygments_lexer": "ipython3",
   "version": "3.9.5"
  }
 },
 "nbformat": 4,
 "nbformat_minor": 4
}
