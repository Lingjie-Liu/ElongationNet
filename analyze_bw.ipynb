{
 "cells": [
  {
   "cell_type": "code",
   "execution_count": 3,
   "metadata": {},
   "outputs": [
    {
     "name": "stdout",
     "output_type": "stream",
     "text": [
      "   chr1  946452  946453  -2.05721\n",
      "0  chr1  946453  946454 -0.500418\n",
      "1  chr1  946454  946455 -2.117910\n",
      "2  chr1  946455  946456 -0.836470\n",
      "3  chr1  946456  946457 -0.221357\n",
      "4  chr1  946457  946458 -1.757170\n"
     ]
    }
   ],
   "source": [
    "import pandas as pd\n",
    "\n",
    "df = pd.read_csv(\"k562_epAllmerNeuralNetZeta.csv\")\n",
    "\n",
    "print(df.head())"
   ]
  },
  {
   "cell_type": "code",
   "execution_count": 4,
   "metadata": {},
   "outputs": [],
   "source": [
    "df.columns = ['seqnames', 'start', 'end', 'predicted_zeta']"
   ]
  },
  {
   "cell_type": "code",
   "execution_count": 5,
   "metadata": {},
   "outputs": [
    {
     "name": "stdout",
     "output_type": "stream",
     "text": [
      "  seqnames   start     end  predicted_zeta\n",
      "0     chr1  946453  946454       -0.500418\n",
      "1     chr1  946454  946455       -2.117910\n",
      "2     chr1  946455  946456       -0.836470\n",
      "3     chr1  946456  946457       -0.221357\n",
      "4     chr1  946457  946458       -1.757170\n"
     ]
    }
   ],
   "source": [
    "print(df.head())"
   ]
  },
  {
   "cell_type": "code",
   "execution_count": 7,
   "metadata": {},
   "outputs": [],
   "source": [
    "df['strand'] = df['predicted_zeta'].apply(lambda x: '-' if x < 0 else '+')"
   ]
  },
  {
   "cell_type": "code",
   "execution_count": 8,
   "metadata": {},
   "outputs": [
    {
     "name": "stdout",
     "output_type": "stream",
     "text": [
      "  seqnames   start     end  predicted_zeta strand\n",
      "0     chr1  946453  946454       -0.500418      -\n",
      "1     chr1  946454  946455       -2.117910      -\n",
      "2     chr1  946455  946456       -0.836470      -\n",
      "3     chr1  946456  946457       -0.221357      -\n",
      "4     chr1  946457  946458       -1.757170      -\n"
     ]
    }
   ],
   "source": [
    "print(df.head())"
   ]
  },
  {
   "cell_type": "code",
   "execution_count": 9,
   "metadata": {},
   "outputs": [],
   "source": [
    "df.loc[df['strand'] == '-', 'predicted_zeta'] = -df.loc[df['strand'] == '-', 'predicted_zeta']"
   ]
  },
  {
   "cell_type": "code",
   "execution_count": 10,
   "metadata": {},
   "outputs": [
    {
     "name": "stdout",
     "output_type": "stream",
     "text": [
      "  seqnames   start     end  predicted_zeta strand\n",
      "0     chr1  946453  946454        0.500418      -\n",
      "1     chr1  946454  946455        2.117910      -\n",
      "2     chr1  946455  946456        0.836470      -\n",
      "3     chr1  946456  946457        0.221357      -\n",
      "4     chr1  946457  946458        1.757170      -\n"
     ]
    }
   ],
   "source": [
    "print(df.head())"
   ]
  },
  {
   "cell_type": "code",
   "execution_count": 11,
   "metadata": {},
   "outputs": [
    {
     "name": "stdout",
     "output_type": "stream",
     "text": [
      "int64\n"
     ]
    }
   ],
   "source": [
    "df2 = pd.read_csv(\"/home/hassett/ElongationNet/data/k562_epAllmer_zeta_norm.csv\", nrows=5)\n",
    "print(df2['seqnames'].dtype)"
   ]
  },
  {
   "cell_type": "code",
   "execution_count": 14,
   "metadata": {},
   "outputs": [],
   "source": [
    "df['end'] = df['start']"
   ]
  },
  {
   "cell_type": "code",
   "execution_count": 13,
   "metadata": {},
   "outputs": [
    {
     "name": "stdout",
     "output_type": "stream",
     "text": [
      "  seqnames   start     end  predicted_zeta strand\n",
      "0     chr1  946453  946454        0.500418      -\n",
      "1     chr1  946454  946455        2.117910      -\n",
      "2     chr1  946455  946456        0.836470      -\n",
      "3     chr1  946456  946457        0.221357      -\n",
      "4     chr1  946457  946458        1.757170      -\n"
     ]
    }
   ],
   "source": [
    "print(df.head())"
   ]
  },
  {
   "cell_type": "code",
   "execution_count": 15,
   "metadata": {},
   "outputs": [
    {
     "name": "stdout",
     "output_type": "stream",
     "text": [
      "  seqnames   start     end  predicted_zeta strand\n",
      "0     chr1  946453  946453        0.500418      -\n",
      "1     chr1  946454  946454        2.117910      -\n",
      "2     chr1  946455  946455        0.836470      -\n",
      "3     chr1  946456  946456        0.221357      -\n",
      "4     chr1  946457  946457        1.757170      -\n"
     ]
    }
   ],
   "source": [
    "print(df.head())"
   ]
  },
  {
   "cell_type": "code",
   "execution_count": 16,
   "metadata": {},
   "outputs": [
    {
     "name": "stderr",
     "output_type": "stream",
     "text": [
      "/tmp/ipykernel_2069883/1598456981.py:1: DtypeWarning: Columns (0) have mixed types. Specify dtype option on import or set low_memory=False.\n",
      "  df_merge_in = pd.read_csv(\"/home/hassett/ElongationNet/data/k562_epAllmer_zeta_norm.csv\")\n"
     ]
    }
   ],
   "source": [
    "df_merge_in = pd.read_csv(\"/home/hassett/ElongationNet/data/k562_epAllmer_zeta_norm.csv\")\n"
   ]
  },
  {
   "cell_type": "code",
   "execution_count": 17,
   "metadata": {},
   "outputs": [],
   "source": [
    "df_merge_in['seqnames'] = 'chr' + df_merge_in['seqnames'].astype(str)"
   ]
  },
  {
   "cell_type": "code",
   "execution_count": 18,
   "metadata": {},
   "outputs": [],
   "source": [
    "merged_df = pd.merge(df, df_merge_in[['seqnames', 'start', 'strand', 'score', 'ensembl_gene_id', 'lambda_alphaj', 'combined_zeta']],\n",
    "                     on=['seqnames', 'start', 'strand'], how='inner')"
   ]
  },
  {
   "cell_type": "code",
   "execution_count": 19,
   "metadata": {},
   "outputs": [
    {
     "name": "stdout",
     "output_type": "stream",
     "text": [
      "  seqnames   start     end  predicted_zeta strand     score  ensembl_gene_id  \\\n",
      "0     chr1  946453  946453        0.500418      -  0.000000  ENSG00000188976   \n",
      "1     chr1  946454  946454        2.117910      -  0.000000  ENSG00000188976   \n",
      "2     chr1  946455  946455        0.836470      -  0.000000  ENSG00000188976   \n",
      "3     chr1  946456  946456        0.221357      -  0.773948  ENSG00000188976   \n",
      "4     chr1  946457  946457        1.757170      -  0.000000  ENSG00000188976   \n",
      "\n",
      "   lambda_alphaj  combined_zeta  \n",
      "0       0.063023       0.401813  \n",
      "1       0.063023       1.634688  \n",
      "2       0.063023       0.661164  \n",
      "3       0.063023       0.186621  \n",
      "4       0.063023       2.439268  \n"
     ]
    }
   ],
   "source": [
    "print(merged_df.head())"
   ]
  },
  {
   "cell_type": "code",
   "execution_count": 20,
   "metadata": {},
   "outputs": [
    {
     "name": "stdout",
     "output_type": "stream",
     "text": [
      "170593610\n"
     ]
    }
   ],
   "source": [
    "print(len(merged_df))"
   ]
  },
  {
   "cell_type": "code",
   "execution_count": 21,
   "metadata": {},
   "outputs": [
    {
     "name": "stdout",
     "output_type": "stream",
     "text": [
      "170593610\n"
     ]
    }
   ],
   "source": [
    "print(len(df))"
   ]
  },
  {
   "cell_type": "code",
   "execution_count": null,
   "metadata": {},
   "outputs": [],
   "source": [
    "merged_df.to_csv(\"k562_epAllmerNeuralNetZetaComplete.csv\", index=False)"
   ]
  }
 ],
 "metadata": {
  "kernelspec": {
   "display_name": "elongation_net",
   "language": "python",
   "name": "python3"
  },
  "language_info": {
   "codemirror_mode": {
    "name": "ipython",
    "version": 3
   },
   "file_extension": ".py",
   "mimetype": "text/x-python",
   "name": "python",
   "nbconvert_exporter": "python",
   "pygments_lexer": "ipython3",
   "version": "3.10.13"
  }
 },
 "nbformat": 4,
 "nbformat_minor": 2
}
