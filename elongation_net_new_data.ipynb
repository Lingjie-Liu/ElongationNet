{
 "cells": [
  {
   "cell_type": "code",
   "execution_count": 2,
   "metadata": {},
   "outputs": [],
   "source": [
    "import numpy as np\n",
    "import pandas as pd\n",
    "import torch\n",
    "import torch.utils.data as td\n",
    "from torch.utils.data import DataLoader, Dataset\n",
    "import matplotlib.pyplot as plt\n",
    "import matplotlib.colors as colors\n",
    "\n",
    "froot = './data/k562_chr16'\n",
    "\n",
    "df = pd.read_csv(froot + \".csv\")"
   ]
  },
  {
   "cell_type": "code",
   "execution_count": 3,
   "metadata": {},
   "outputs": [
    {
     "name": "stdout",
     "output_type": "stream",
     "text": [
      "   seqnames   start     end strand  ensembl_gene_id  score      ctcf  \\\n",
      "0        16  245089  245089      +  ENSG00000167930    0.0 -0.039744   \n",
      "1        16  245090  245090      +  ENSG00000167930    0.0 -0.039511   \n",
      "2        16  245091  245091      +  ENSG00000167930    0.0 -0.039276   \n",
      "3        16  245092  245092      +  ENSG00000167930    0.0 -0.039039   \n",
      "4        16  245093  245093      +  ENSG00000167930    0.0 -0.038799   \n",
      "\n",
      "   h3k36me3   h3k4me1  h3k79me2  ...       sj3       dms      rpts      wgbs  \\\n",
      "0 -0.429633  0.843669  0.003958  ... -0.057178 -0.307549  0.249626  0.000000   \n",
      "1 -0.431173  0.851792  0.004639  ... -0.057178 -0.307549  0.249626  0.550271   \n",
      "2 -0.432698  0.859971  0.005313  ... -0.057178 -0.307549  0.249626  0.000000   \n",
      "3 -0.434205  0.868205  0.005981  ... -0.057178 -0.307549  0.249626  0.000000   \n",
      "4 -0.435697  0.876495  0.006642  ... -0.057178 -0.307549  0.249626  0.000000   \n",
      "\n",
      "       A         T         G         C  lambda_alphaj      zeta  \n",
      "0 -0.625 -0.678443  1.954571 -0.494439       0.023095  1.082156  \n",
      "1 -0.625 -0.678443 -0.511621  2.022493       0.023095  0.893316  \n",
      "2 -0.625 -0.678443  1.954571 -0.494439       0.023095  1.081493  \n",
      "3 -0.625  1.473964 -0.511621 -0.494439       0.023095  1.081151  \n",
      "4 -0.625 -0.678443  1.954571 -0.494439       0.023095  1.080803  \n",
      "\n",
      "[5 rows x 24 columns]\n"
     ]
    }
   ],
   "source": [
    "print(df.head())"
   ]
  },
  {
   "cell_type": "code",
   "execution_count": 5,
   "metadata": {},
   "outputs": [
    {
     "name": "stdout",
     "output_type": "stream",
     "text": [
      "['ctcf' 'h3k36me3' 'h3k4me1' 'h3k79me2' 'h3k9me1' 'h3k9me3' 'h4k20me1'\n",
      " 'sj5' 'sj3' 'dms' 'rpts' 'wgbs']\n",
      "['A' 'T' 'G' 'C']\n"
     ]
    }
   ],
   "source": [
    "column_names = np.array(df.columns)\n",
    "feature_names = column_names[6:-6]\n",
    "num_features = len(feature_names)\n",
    "nucleotides = column_names[-6:-2]\n",
    "print(feature_names)\n",
    "print(nucleotides)\n",
    "num_samples = df.shape[0]\n",
    "\n",
    "# process read counts\n",
    "X_ji = df['score'].values\n",
    "\n",
    "# process GLM simulated elongation rates\n",
    "Z_ji = df['zeta'].values"
   ]
  },
  {
   "cell_type": "code",
   "execution_count": 6,
   "metadata": {},
   "outputs": [
    {
     "name": "stdout",
     "output_type": "stream",
     "text": [
      "Number of Samples: 435797\n"
     ]
    }
   ],
   "source": [
    "print(\"Number of Samples: \" + str(num_samples))"
   ]
  },
  {
   "cell_type": "code",
   "execution_count": 7,
   "metadata": {},
   "outputs": [
    {
     "name": "stdout",
     "output_type": "stream",
     "text": [
      "Number of Features: 12\n"
     ]
    }
   ],
   "source": [
    "print(\"Number of Features: \" + str(num_features))"
   ]
  },
  {
   "cell_type": "code",
   "execution_count": 8,
   "metadata": {},
   "outputs": [],
   "source": [
    "#Y_ji is a list of samples containing lists of their feature values\n",
    "    # [   \n",
    "    #   sample_1: [feat_1, feat_2,...,feat_n],\n",
    "    #   sample_2: [feat_1, feat_2,...,feat_n],\n",
    "    # ]\n",
    "\n",
    "Y_ji = df.iloc[:, 6:-6].values"
   ]
  },
  {
   "cell_type": "code",
   "execution_count": 9,
   "metadata": {},
   "outputs": [],
   "source": [
    "C_j = df['lambda_alphaj'].values"
   ]
  },
  {
   "cell_type": "code",
   "execution_count": 10,
   "metadata": {},
   "outputs": [
    {
     "name": "stdout",
     "output_type": "stream",
     "text": [
      "CUDA (GPU support) is available: False\n",
      "Number of GPUs available: 0\n"
     ]
    }
   ],
   "source": [
    "cuda_available = torch.cuda.is_available()\n",
    "print(\"CUDA (GPU support) is available:\", cuda_available)\n",
    "num_gpus = torch.cuda.device_count()\n",
    "print(\"Number of GPUs available:\", num_gpus)"
   ]
  },
  {
   "cell_type": "code",
   "execution_count": 11,
   "metadata": {},
   "outputs": [],
   "source": [
    "from torch.utils.data import Dataset, DataLoader\n",
    "\n",
    "class CustomDataset(Dataset):\n",
    "    def __init__(self, Y_ji, X_ji, C_j, Z_ji):\n",
    "        self.Y_ji = Y_ji\n",
    "        self.X_ji = X_ji\n",
    "        self.C_j = C_j\n",
    "        self.Z_ji = Z_ji\n",
    "\n",
    "    def __len__(self):\n",
    "        return len(self.Y_ji)\n",
    "\n",
    "    def __getitem__(self, idx):\n",
    "        return {\n",
    "            'Y_ji':  torch.tensor(self.Y_ji[idx], dtype=torch.float32),\n",
    "            'X_ji': torch.tensor(self.X_ji[idx], dtype=torch.float32),\n",
    "            'C_j': torch.tensor(self.C_j[idx], dtype=torch.float32),\n",
    "            'Z_ji': torch.tensor(self.Z_ji[idx], dtype=torch.float32)\n",
    "        }"
   ]
  },
  {
   "cell_type": "code",
   "execution_count": 24,
   "metadata": {},
   "outputs": [],
   "source": [
    "dataset = CustomDataset(Y_ji, X_ji, C_j, Z_ji)\n",
    "\n",
    "train_percent = 0.8\n",
    "val_percent = 0.1\n",
    "test_percent = 0.1\n",
    "train_size = int(train_percent * num_samples)\n",
    "val_size = int(val_percent * num_samples)\n",
    "test_size = num_samples - train_size - val_size\n",
    "#trnset, valset, tstset = td.random_split(dataset, [train_size, val_size, test_size])\n",
    "trnset = torch.utils.data.Subset(dataset, range(train_size))\n",
    "valset = torch.utils.data.Subset(dataset, range(train_size, train_size + val_size))\n",
    "tstset = torch.utils.data.Subset(dataset, range(train_size + val_size, train_size + val_size + test_size))\n",
    "\n",
    "\n",
    "batch_size = 64"
   ]
  },
  {
   "cell_type": "code",
   "execution_count": 25,
   "metadata": {},
   "outputs": [
    {
     "name": "stdout",
     "output_type": "stream",
     "text": [
      "Linear(in_features=12, out_features=1, bias=True)\n",
      "torch.Size([64, 1])\n",
      "Number of parameters: 13\n",
      "Model is on device: cpu\n"
     ]
    }
   ],
   "source": [
    "import torch.nn as nn\n",
    "import torch.nn.init as init\n",
    "import torch.nn.functional as F\n",
    "\n",
    "device = torch.device(\"cuda\" if torch.cuda.is_available() else \"cpu\")\n",
    "\n",
    "model = nn.Linear(num_features, 1)\n",
    "\n",
    "if cuda_available:\n",
    "    if num_gpus > 1:\n",
    "        print(\"Using\", num_gpus, \"GPUs\")\n",
    "        model = torch.nn.DataParallel(model)\n",
    "    model = model.to('cuda')\n",
    "\n",
    "print(model)\n",
    "\n",
    "arr = torch.randn((batch_size,num_features)).to(device)\n",
    "print(model(arr).shape)\n",
    "nparm = sum(p.numel() for p in model.parameters() if p.requires_grad)\n",
    "print(\"Number of parameters: \" + str(nparm))\n",
    "\n",
    "first_param_device = next(model.parameters()).device\n",
    "print(\"Model is on device:\", first_param_device)"
   ]
  },
  {
   "cell_type": "code",
   "execution_count": 26,
   "metadata": {},
   "outputs": [],
   "source": [
    "class CustomLoss(nn.Module):\n",
    "    def __init__(self):\n",
    "        super(CustomLoss, self).__init__()\n",
    "\n",
    "    def forward(self, X_ji, C_j, rho_ji):\n",
    "        #print(rho_ji.shape)\n",
    "        epsilon = 1e-8\n",
    "        loss = X_ji * rho_ji + C_j * torch.exp(-rho_ji)\n",
    "        return (loss).mean()"
   ]
  },
  {
   "cell_type": "code",
   "execution_count": 30,
   "metadata": {},
   "outputs": [
    {
     "name": "stdout",
     "output_type": "stream",
     "text": [
      "Epoch 1\n",
      "Epoch 1 trn_loss: 1.5604 val_loss: 0.0076\n",
      "Epoch 2\n",
      "Epoch 2 trn_loss: 1.0605 val_loss: 0.0075\n",
      "Epoch 3\n",
      "Epoch 3 trn_loss: 0.7116 val_loss: 0.0074\n",
      "Epoch 4\n",
      "Epoch 4 trn_loss: 0.4738 val_loss: 0.0073\n",
      "Epoch 5\n",
      "Epoch 5 trn_loss: 0.3134 val_loss: 0.0073\n",
      "Epoch 6\n",
      "Epoch 6 trn_loss: 0.2066 val_loss: 0.0072\n",
      "Epoch 7\n",
      "Epoch 7 trn_loss: 0.1367 val_loss: 0.0072\n",
      "Epoch 8\n",
      "Epoch 8 trn_loss: 0.0917 val_loss: 0.0071\n",
      "Epoch 9\n",
      "Epoch 9 trn_loss: 0.0635 val_loss: 0.0071\n",
      "Epoch 10\n",
      "Epoch 10 trn_loss: 0.0463 val_loss: 0.0071\n",
      "Epoch 11\n",
      "Epoch 11 trn_loss: 0.0363 val_loss: 0.0071\n",
      "Epoch 12\n",
      "Epoch 12 trn_loss: 0.0305 val_loss: 0.0071\n",
      "Epoch 13\n",
      "Epoch 13 trn_loss: 0.0271 val_loss: 0.0071\n",
      "Epoch 14\n",
      "Epoch 14 trn_loss: 0.0250 val_loss: 0.0071\n",
      "Epoch 15\n",
      "Epoch 15 trn_loss: 0.0236 val_loss: 0.0071\n",
      "Epoch 16\n",
      "Epoch 16 trn_loss: 0.0226 val_loss: 0.0071\n",
      "Epoch 17\n",
      "Epoch 17 trn_loss: 0.0220 val_loss: 0.0070\n",
      "Epoch 18\n",
      "Epoch 18 trn_loss: 0.0216 val_loss: 0.0070\n",
      "Epoch 19\n",
      "Epoch 19 trn_loss: 0.0213 val_loss: 0.0070\n",
      "Epoch 20\n",
      "Epoch 20 trn_loss: 0.0212 val_loss: 0.0070\n",
      "Epoch 21\n",
      "Epoch 21 trn_loss: 0.0211 val_loss: 0.0070\n",
      "Epoch 22\n",
      "Epoch 22 trn_loss: 0.0211 val_loss: 0.0070\n",
      "Epoch 23\n",
      "Epoch 23 trn_loss: 0.0210 val_loss: 0.0070\n",
      "Epoch 24\n",
      "Epoch 24 trn_loss: 0.0210 val_loss: 0.0070\n",
      "Epoch 25\n",
      "Epoch 25 trn_loss: 0.0210 val_loss: 0.0070\n",
      "Epoch 26\n",
      "Epoch 26 trn_loss: 0.0210 val_loss: 0.0070\n",
      "Epoch 27\n",
      "Epoch 27 trn_loss: 0.0210 val_loss: 0.0070\n",
      "Epoch 28\n",
      "Epoch 28 trn_loss: 0.0210 val_loss: 0.0070\n",
      "Epoch 29\n",
      "Epoch 29 trn_loss: 0.0210 val_loss: 0.0070\n",
      "Epoch 30\n",
      "Epoch 30 trn_loss: 0.0210 val_loss: 0.0070\n",
      "Epoch 31\n",
      "Epoch 31 trn_loss: 0.0210 val_loss: 0.0070\n",
      "Epoch 32\n",
      "Epoch 32 trn_loss: 0.0210 val_loss: 0.0070\n",
      "Epoch 33\n",
      "Epoch 33 trn_loss: 0.0210 val_loss: 0.0070\n",
      "Epoch 34\n",
      "Epoch 34 trn_loss: 0.0210 val_loss: 0.0070\n",
      "Epoch 35\n",
      "Epoch 35 trn_loss: 0.0210 val_loss: 0.0070\n",
      "Epoch 36\n",
      "Epoch 36 trn_loss: 0.0210 val_loss: 0.0070\n",
      "Epoch 37\n",
      "Epoch 37 trn_loss: 0.0210 val_loss: 0.0070\n",
      "Epoch 38\n",
      "Epoch 38 trn_loss: 0.0210 val_loss: 0.0070\n",
      "Epoch 39\n",
      "Epoch 39 trn_loss: 0.0210 val_loss: 0.0070\n",
      "Epoch 40\n",
      "Epoch 40 trn_loss: 0.0210 val_loss: 0.0070\n",
      "Epoch 41\n",
      "Epoch 41 trn_loss: 0.0210 val_loss: 0.0070\n",
      "Epoch 42\n",
      "Epoch 42 trn_loss: 0.0210 val_loss: 0.0070\n",
      "Epoch 43\n",
      "Epoch 43 trn_loss: 0.0210 val_loss: 0.0070\n",
      "Epoch 44\n",
      "Epoch 44 trn_loss: 0.0210 val_loss: 0.0070\n",
      "Epoch 45\n",
      "Epoch 45 trn_loss: 0.0210 val_loss: 0.0070\n",
      "Epoch 46\n",
      "Epoch 46 trn_loss: 0.0210 val_loss: 0.0070\n",
      "Epoch 47\n",
      "Epoch 47 trn_loss: 0.0210 val_loss: 0.0070\n",
      "Epoch 48\n",
      "Epoch 48 trn_loss: 0.0210 val_loss: 0.0070\n",
      "Epoch 49\n",
      "Epoch 49 trn_loss: 0.0210 val_loss: 0.0070\n",
      "Epoch 50\n",
      "Epoch 50 trn_loss: 0.0210 val_loss: 0.0070\n"
     ]
    }
   ],
   "source": [
    "import torch.optim as optim\n",
    "from torch.optim.lr_scheduler import ReduceLROnPlateau\n",
    "\n",
    "optimizer = optim.Adam(model.parameters(), lr=0.0001)\n",
    "\n",
    "num_epochs = 50\n",
    "\n",
    "loss_hist_train = [0] * num_epochs\n",
    "loss_hist_valid = [0] * num_epochs\n",
    "\n",
    "loss_fn = CustomLoss()\n",
    "\n",
    "for epoch in range(num_epochs):\n",
    "    print(f'Epoch {epoch+1}')\n",
    "    model.train()\n",
    "    trndl = DataLoader(trnset, batch_size=batch_size, num_workers=7, shuffle=False, pin_memory=True)\n",
    "    for i, batch in enumerate(trndl):\n",
    "        optimizer.zero_grad()\n",
    "        Y_ji_batch = batch['Y_ji'].to(device)\n",
    "        X_ji_batch = batch['X_ji'].to(device)\n",
    "        C_j_batch = batch['C_j'].to(device)\n",
    "        outputs = model(Y_ji_batch)\n",
    "        loss = loss_fn(X_ji_batch, C_j_batch, outputs)\n",
    "        loss.backward()\n",
    "        optimizer.step()\n",
    "        loss_hist_train[epoch] += loss.item()\n",
    "    loss_hist_train[epoch] /= len(trndl)\n",
    "    del trndl\n",
    "    \n",
    "    model.eval()\n",
    "    valdl = DataLoader(valset, batch_size=batch_size, num_workers=7, shuffle=False, pin_memory=True)\n",
    "    with torch.no_grad():\n",
    "        for batch in valdl:\n",
    "            Y_ji_batch = batch['Y_ji'].to(device)\n",
    "            X_ji_batch = batch['X_ji'].to(device)\n",
    "            C_j_batch = batch['C_j'].to(device)\n",
    "            outputs = model(Y_ji_batch)\n",
    "            loss = loss_fn(X_ji_batch, C_j_batch, outputs)\n",
    "            loss_hist_valid[epoch] += loss.item()\n",
    "        loss_hist_valid[epoch] /= len(valdl)\n",
    "    del valdl\n",
    "    \n",
    "    print(f'Epoch {epoch+1} trn_loss: '\n",
    "          f'{loss_hist_train[epoch]:.4f} val_loss: '\n",
    "          f'{loss_hist_valid[epoch]:.4f}')"
   ]
  },
  {
   "cell_type": "code",
   "execution_count": 16,
   "metadata": {},
   "outputs": [],
   "source": [
    "from datetime import datetime\n",
    "\n",
    "timestamp = datetime.now().strftime(\"%Y%m%d_%H%M%S\")\n",
    "filename = f\"models/Elongation_Model_chr16_{timestamp}.pth\"\n",
    "torch.save(model.state_dict(), filename)"
   ]
  },
  {
   "cell_type": "code",
   "execution_count": 107,
   "metadata": {},
   "outputs": [
    {
     "name": "stdout",
     "output_type": "stream",
     "text": [
      "CUDA (GPU support) is available: True\n",
      "Number of GPUs available: 1\n",
      "Model is on device: cuda:0\n"
     ]
    }
   ],
   "source": [
    "\"\"\"\n",
    "model = nn.Linear(num_features, 1)\n",
    "model.load_state_dict(torch.load(\"models/Elongation_Model.pth\"))\n",
    "cuda_available = torch.cuda.is_available()\n",
    "print(\"CUDA (GPU support) is available:\", cuda_available)\n",
    "num_gpus = torch.cuda.device_count()\n",
    "print(\"Number of GPUs available:\", num_gpus)\n",
    "if cuda_available:\n",
    "    if num_gpus > 1:\n",
    "        print(\"Using\", num_gpus, \"GPUs\")\n",
    "        model = torch.nn.DataParallel(model)\n",
    "    model = model.to('cuda')\n",
    "\n",
    "first_param_device = next(model.parameters()).device\n",
    "print(\"Model is on device:\", first_param_device)\n",
    "\"\"\""
   ]
  },
  {
   "cell_type": "code",
   "execution_count": 31,
   "metadata": {},
   "outputs": [
    {
     "name": "stdout",
     "output_type": "stream",
     "text": [
      "\"ctcf\": -0.021397870033979416, \"h3k36me3\": -0.05592929199337959, \"h3k4me1\": -0.007195422425866127, \"h3k79me2\": 0.08613084256649017, \"h3k9me1\": -0.05701635405421257, \"h3k9me3\": -0.08556307852268219, \"h4k20me1\": -0.09722592681646347, \"sj5\": -0.020360343158245087, \"sj3\": -0.014966409653425217, \"dms\": -0.07458958029747009, \"rpts\": 0.017763584852218628, \"wgbs\": 0.005986951291561127\n"
     ]
    }
   ],
   "source": [
    "weights = model.weight.data.cpu().numpy()\n",
    "bias = model.bias.data.cpu().numpy()\n",
    "\n",
    "combined = ', '.join([f'\"{s}\": {f}' for s, f in zip(feature_names, weights[0])])\n",
    "print(combined)"
   ]
  },
  {
   "cell_type": "code",
   "execution_count": null,
   "metadata": {},
   "outputs": [],
   "source": [
    "# GLM K (chr 16)\n",
    "\n"
   ]
  },
  {
   "cell_type": "code",
   "execution_count": 32,
   "metadata": {},
   "outputs": [
    {
     "data": {
      "text/plain": [
       "<function matplotlib.pyplot.show(close=None, block=None)>"
      ]
     },
     "execution_count": 32,
     "metadata": {},
     "output_type": "execute_result"
    },
    {
     "data": {
      "image/png": "[encoded data removed]",
      "text/plain": [
       "<Figure size 432x288 with 1 Axes>"
      ]
     },
     "metadata": {
      "needs_background": "light"
     },
     "output_type": "display_data"
    }
   ],
   "source": [
    "from matplotlib import pyplot as plt\n",
    "epochs = range(1, len(loss_hist_train) + 1)\n",
    "plt.plot(epochs, loss_hist_train, label='train_loss')\n",
    "plt.plot(epochs, loss_hist_valid, label='valid_loss')\n",
    "\n",
    "plt.xlabel('Epochs')\n",
    "plt.ylabel('Loss')\n",
    "plt.legend()\n",
    "plt.show "
   ]
  },
  {
   "cell_type": "code",
   "execution_count": 33,
   "metadata": {},
   "outputs": [],
   "source": [
    "def plot_data(simulated_zeta, predicted_zeta):\n",
    "    indices = range(len(simulated_zeta))\n",
    "    \n",
    "    fig, ax = plt.subplots(figsize=(10, 5))\n",
    "    \n",
    "    ax.plot(indices, predicted_zeta, color='blue', alpha=0.4)\n",
    "    ax.plot(indices, simulated_zeta, color='orange', alpha=0.4)\n",
    "    \n",
    "    ax.scatter(indices, predicted_zeta, color='blue', label='Predicted Zeta')\n",
    "    ax.scatter(indices, simulated_zeta, color='orange', label='Simulated Zeta')\n",
    "    \n",
    "    ax.set_title('Predicted vs Simulated Elongation Rate')\n",
    "    ax.set_xlabel('Index')\n",
    "    ax.set_ylabel('Elongation Rate')\n",
    "    ax.legend()\n",
    "\n",
    "    plt.show()\n"
   ]
  },
  {
   "cell_type": "code",
   "execution_count": 34,
   "metadata": {},
   "outputs": [],
   "source": [
    "tstdl = DataLoader(tstset, batch_size=batch_size, num_workers=0, shuffle=False, pin_memory=True)"
   ]
  },
  {
   "cell_type": "code",
   "execution_count": 35,
   "metadata": {},
   "outputs": [],
   "source": [
    "model.eval()\n",
    "\n",
    "data_iter = iter(tstdl)"
   ]
  },
  {
   "cell_type": "code",
   "execution_count": 37,
   "metadata": {},
   "outputs": [
    {
     "name": "stdout",
     "output_type": "stream",
     "text": [
      "number of samples: 4\n",
      "predicted zeta:\n",
      "tensor([0.9862, 0.9863, 0.9865, 0.9866, 0.9867, 0.9869, 0.9870, 0.9872, 0.9874,\n",
      "        0.9876, 0.9877, 0.9879, 0.9881, 0.9883, 0.9886, 0.9888, 0.9890, 0.9892,\n",
      "        0.9895, 0.9897, 0.9900, 0.9902, 0.9905, 0.9908, 0.9910, 0.9913, 0.9916,\n",
      "        0.9919, 0.9922, 0.9925, 0.9928, 0.9932, 0.9935, 0.9938, 0.9942, 0.9945,\n",
      "        0.9949, 0.9952, 0.9956, 0.9959, 0.9963, 0.9967, 0.9971, 0.9975, 0.9978,\n",
      "        0.9982, 0.9986, 0.9990, 0.9995, 0.9999, 1.0003, 1.0007, 1.0011, 1.0016,\n",
      "        1.0020, 1.0024, 1.0029, 1.0033, 1.0038, 1.0042, 1.0047, 1.0051, 1.0056,\n",
      "        1.0060])\n",
      "simulated zeta:\n",
      "tensor([1.0085, 1.0085, 1.0086, 1.0086, 1.0086, 1.0087, 1.0087, 1.0088, 1.0088,\n",
      "        1.0089, 1.0090, 1.0091, 1.0092, 1.0093, 1.0094, 1.0095, 1.0096, 1.0097,\n",
      "        1.0098, 1.0100, 1.0101, 1.0103, 1.0104, 1.0106, 1.0107, 1.0109, 1.0111,\n",
      "        1.0113, 1.0115, 1.0117, 1.0119, 1.0121, 1.0123, 1.0125, 1.0127, 1.0130,\n",
      "        1.0132, 1.0135, 1.0137, 1.0139, 1.0142, 1.0145, 1.0147, 1.0150, 1.0153,\n",
      "        1.0155, 1.0158, 1.0161, 1.0164, 1.0167, 1.0170, 1.0173, 1.0176, 1.0179,\n",
      "        1.0182, 1.0186, 1.0189, 1.0192, 1.0195, 1.0199, 1.0202, 1.0205, 1.0209,\n",
      "        1.0212])\n"
     ]
    },
    {
     "data": {
      "image/png": "[encoded data removed]",
      "text/plain": [
       "<Figure size 720x360 with 1 Axes>"
      ]
     },
     "metadata": {
      "needs_background": "light"
     },
     "output_type": "display_data"
    },
    {
     "name": "stdout",
     "output_type": "stream",
     "text": [
      "number of samples: 4\n",
      "predicted zeta:\n",
      "tensor([1.0065, 1.0070, 1.0074, 1.0079, 1.0084, 1.0088, 1.0093, 1.0098, 1.0103,\n",
      "        1.0108, 1.0113, 1.0117, 1.0122, 1.0127, 1.0132, 1.0137, 1.0142, 1.0147,\n",
      "        1.0152, 1.0157, 1.0162, 1.0167, 1.0171, 1.0176, 1.0181, 1.0186, 1.0191,\n",
      "        1.0196, 1.0201, 1.0206, 1.0211, 1.0216, 1.0221, 1.0226, 1.0231, 1.0235,\n",
      "        1.0240, 1.0245, 1.0250, 1.0255, 1.0259, 1.0264, 1.0269, 1.0274, 1.0278,\n",
      "        1.0283, 1.0288, 1.0292, 1.0297, 1.0302, 1.0306, 1.0311, 1.0315, 1.0320,\n",
      "        1.0324, 1.0329, 1.0333, 1.0337, 1.0342, 1.0346, 1.0350, 1.0354, 1.0359,\n",
      "        1.0363])\n",
      "simulated zeta:\n",
      "tensor([1.0215, 1.0219, 1.0222, 1.0226, 1.0229, 1.0233, 1.0236, 1.0240, 1.0244,\n",
      "        1.0247, 1.0251, 1.0254, 1.0258, 1.0262, 1.0265, 1.0269, 1.0273, 1.0276,\n",
      "        1.0280, 1.0284, 1.0287, 1.0291, 1.0295, 1.0298, 1.0302, 1.0306, 1.0309,\n",
      "        1.0313, 1.0317, 1.0320, 1.0324, 1.0328, 1.0331, 1.0335, 1.0338, 1.0342,\n",
      "        1.0346, 1.0349, 1.0353, 1.0356, 1.0360, 1.0363, 1.0366, 1.0370, 1.0373,\n",
      "        1.0377, 1.0380, 1.0383, 1.0387, 1.0390, 1.0393, 1.0396, 1.0400, 1.0403,\n",
      "        1.0406, 1.0409, 1.0412, 1.0415, 1.0418, 1.0421, 1.0424, 1.0427, 1.0430,\n",
      "        1.0432])\n"
     ]
    },
    {
     "data": {
      "image/png": "[encoded data removed]",
      "text/plain": [
       "<Figure size 720x360 with 1 Axes>"
      ]
     },
     "metadata": {
      "needs_background": "light"
     },
     "output_type": "display_data"
    },
    {
     "name": "stdout",
     "output_type": "stream",
     "text": [
      "number of samples: 4\n",
      "predicted zeta:\n",
      "tensor([1.0367, 1.0371, 1.0375, 1.0379, 1.0383, 1.0387, 1.0391, 1.0394, 1.0398,\n",
      "        1.0402, 1.0406, 1.0409, 1.0413, 1.0416, 1.0420, 1.0423, 1.0427, 1.0430,\n",
      "        1.0433, 1.0437, 1.0440, 1.0443, 1.0446, 1.0449, 1.0452, 1.0455, 1.0458,\n",
      "        1.0461, 1.0464, 1.0466, 1.0469, 1.0472, 1.0474, 1.0477, 1.0479, 1.0482,\n",
      "        1.0484, 1.0486, 1.0489, 1.0491, 1.0493, 1.0495, 1.0497, 1.0499, 1.0501,\n",
      "        1.0503, 1.0505, 1.0506, 1.0508, 1.0510, 1.0511, 1.0513, 1.0514, 1.0516,\n",
      "        1.0517, 1.0518, 1.0519, 1.0521, 1.0522, 1.0523, 1.0524, 1.0525, 1.0526,\n",
      "        1.0527])\n",
      "simulated zeta:\n",
      "tensor([1.0435, 1.0438, 1.0441, 1.0443, 1.0446, 1.0448, 1.0451, 1.0453, 1.0456,\n",
      "        1.0458, 1.0461, 1.0463, 1.0465, 1.0467, 1.0470, 1.0472, 1.0474, 1.0476,\n",
      "        1.0478, 1.0480, 1.0482, 1.0483, 1.0485, 1.0487, 1.0489, 1.0490, 1.0492,\n",
      "        1.0493, 1.0495, 1.0496, 1.0498, 1.0499, 1.0500, 1.0502, 1.0503, 1.0504,\n",
      "        1.0505, 1.0506, 1.0507, 1.0508, 1.0509, 1.0510, 1.0511, 1.0511, 1.0512,\n",
      "        1.0513, 1.0513, 1.0514, 1.0514, 1.0515, 1.0515, 1.0516, 1.0516, 1.0516,\n",
      "        1.0516, 1.0517, 1.0517, 1.0517, 1.0517, 1.0517, 1.0517, 1.0517, 1.0516,\n",
      "        1.0516])\n"
     ]
    },
    {
     "data": {
      "image/png": "[encoded data removed]",
      "text/plain": [
       "<Figure size 720x360 with 1 Axes>"
      ]
     },
     "metadata": {
      "needs_background": "light"
     },
     "output_type": "display_data"
    },
    {
     "name": "stdout",
     "output_type": "stream",
     "text": [
      "number of samples: 4\n",
      "predicted zeta:\n",
      "tensor([1.0527, 1.0528, 1.0529, 1.0529, 1.0530, 1.0530, 1.0531, 1.0531, 1.0532,\n",
      "        1.0532, 1.0532, 1.0532, 1.0532, 1.0532, 1.0533, 1.0532, 1.0532, 1.0532,\n",
      "        1.0532, 1.0532, 1.0532, 1.0531, 1.0531, 1.0530, 1.0530, 1.0529, 1.0529,\n",
      "        1.0528, 1.0527, 1.0527, 1.0526, 1.0525, 1.0524, 1.0523, 1.0522, 1.0521,\n",
      "        1.0520, 1.0519, 1.0518, 1.0517, 1.0515, 1.0514, 1.0513, 1.0511, 1.0510,\n",
      "        1.0508, 1.0507, 1.0505, 1.0504, 1.0502, 1.0500, 1.0499, 1.0497, 1.0495,\n",
      "        1.0493, 1.0491, 1.0489, 1.0487, 1.0485, 1.0483, 1.0481, 1.0479, 1.0477,\n",
      "        1.0475])\n",
      "simulated zeta:\n",
      "tensor([1.0516, 1.0516, 1.0515, 1.0515, 1.0515, 1.0514, 1.0514, 1.0513, 1.0512,\n",
      "        1.0512, 1.0511, 1.0510, 1.0510, 1.0509, 1.0508, 1.0507, 1.0506, 1.0505,\n",
      "        1.0504, 1.0503, 1.0502, 1.0501, 1.0500, 1.0499, 1.0498, 1.0497, 1.0495,\n",
      "        1.0494, 1.0493, 1.0491, 1.0490, 1.0489, 1.0487, 1.0486, 1.0484, 1.0483,\n",
      "        1.0481, 1.0480, 1.0478, 1.0476, 1.0475, 1.0473, 1.0471, 1.0470, 1.0468,\n",
      "        1.0466, 1.0464, 1.0463, 1.0461, 1.0459, 1.0457, 1.0455, 1.0453, 1.0451,\n",
      "        1.0450, 1.0448, 1.0446, 1.0444, 1.0442, 1.0440, 1.0438, 1.0436, 1.0434,\n",
      "        1.0432])\n"
     ]
    },
    {
     "data": {
      "image/png": "[encoded data removed]",
      "text/plain": [
       "<Figure size 720x360 with 1 Axes>"
      ]
     },
     "metadata": {
      "needs_background": "light"
     },
     "output_type": "display_data"
    }
   ],
   "source": [
    "for i in range(0, 4):\n",
    "    inputs = next(data_iter) \n",
    "    print(\"number of samples: \" + str(len(inputs)))\n",
    "\n",
    "    with torch.no_grad():\n",
    "        y_inputs = inputs['Y_ji'].to(device)\n",
    "        rho_ji = model(y_inputs)\n",
    "\n",
    "    simulated_zeta = inputs['Z_ji']\n",
    "    # convert log(Z) outputs to Z\n",
    "    predicted_zeta = torch.exp(rho_ji.cpu().squeeze())\n",
    "    print(\"predicted zeta:\")\n",
    "    print(predicted_zeta)\n",
    "\n",
    "    print(\"simulated zeta:\")\n",
    "    print(simulated_zeta)\n",
    "\n",
    "    plot_data(simulated_zeta, predicted_zeta)"
   ]
  },
  {
   "cell_type": "code",
   "execution_count": 114,
   "metadata": {},
   "outputs": [
    {
     "name": "stdout",
     "output_type": "stream",
     "text": [
      "Mean Absolute Error: 1.4545\n",
      "Mean Squared Error: 2.1965\n"
     ]
    }
   ],
   "source": [
    "import torch.nn.functional as F\n",
    "\n",
    "predicted_zeta = []\n",
    "simulated_zeta = []\n",
    "with torch.no_grad():\n",
    "    for batch in tstdl:\n",
    "        y_inputs = batch['Y_ji'].to(device)\n",
    "        rho_ji = model(y_inputs)\n",
    "        # convert log(Z) outputs to Z\n",
    "        predicted_zeta.append(torch.exp(rho_ji.cpu()))\n",
    "        simulated_zeta.append(batch['Z_ji'])\n",
    "\n",
    "predicted_zeta = torch.cat(predicted_zeta, dim=0)\n",
    "simulated_zeta = torch.cat(simulated_zeta, dim=0)\n",
    "mae = F.l1_loss(predicted_zeta.squeeze(), simulated_zeta)\n",
    "mse = F.mse_loss(predicted_zeta.squeeze(), simulated_zeta)\n",
    "\n",
    "print(f\"Mean Absolute Error: {mae.item():.4f}\")\n",
    "print(f\"Mean Squared Error: {mse.item():.4f}\")"
   ]
  }
 ],
 "metadata": {
  "kernelspec": {
   "display_name": "CUDA/GPU Python 3.9.5 (src)",
   "language": "python",
   "name": "python_3.9.5-gcccore-10.3.0"
  },
  "language_info": {
   "codemirror_mode": {
    "name": "ipython",
    "version": 3
   },
   "file_extension": ".py",
   "mimetype": "text/x-python",
   "name": "python",
   "nbconvert_exporter": "python",
   "pygments_lexer": "ipython3",
   "version": "3.9.5"
  }
 },
 "nbformat": 4,
 "nbformat_minor": 5
}
