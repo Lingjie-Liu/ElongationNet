{
 "cells": [
  {
   "cell_type": "code",
   "execution_count": 1,
   "metadata": {},
   "outputs": [],
   "source": [
    "import numpy as np\n",
    "import pandas as pd\n",
    "import torch\n",
    "import torch.utils.data as td\n",
    "from torch.utils.data import DataLoader, Dataset \n",
    "import matplotlib.pyplot as plt\n",
    "import matplotlib.colors as colors\n",
    "\n",
    "froot = './data/k562_chr16'\n",
    "\n",
    "df = pd.read_csv(froot + \".csv\")"
   ]
  },
  {
   "cell_type": "code",
   "execution_count": 2,
   "metadata": {},
   "outputs": [
    {
     "name": "stdout",
     "output_type": "stream",
     "text": [
      "   seqnames   start     end strand  ensembl_gene_id  score      ctcf  \\\n",
      "0        16  245089  245089      +  ENSG00000167930    0.0 -0.039744   \n",
      "1        16  245090  245090      +  ENSG00000167930    0.0 -0.039511   \n",
      "2        16  245091  245091      +  ENSG00000167930    0.0 -0.039276   \n",
      "3        16  245092  245092      +  ENSG00000167930    0.0 -0.039039   \n",
      "4        16  245093  245093      +  ENSG00000167930    0.0 -0.038799   \n",
      "\n",
      "   h3k36me3   h3k4me1  h3k79me2  ...       sj3       dms      rpts      wgbs  \\\n",
      "0 -0.429633  0.843669  0.003958  ... -0.057178 -0.307549  0.249626  0.000000   \n",
      "1 -0.431173  0.851792  0.004639  ... -0.057178 -0.307549  0.249626  0.550271   \n",
      "2 -0.432698  0.859971  0.005313  ... -0.057178 -0.307549  0.249626  0.000000   \n",
      "3 -0.434205  0.868205  0.005981  ... -0.057178 -0.307549  0.249626  0.000000   \n",
      "4 -0.435697  0.876495  0.006642  ... -0.057178 -0.307549  0.249626  0.000000   \n",
      "\n",
      "       A         T         G         C  lambda_alphaj      zeta  \n",
      "0 -0.625 -0.678443  1.954571 -0.494439       0.023095  1.082156  \n",
      "1 -0.625 -0.678443 -0.511621  2.022493       0.023095  0.893316  \n",
      "2 -0.625 -0.678443  1.954571 -0.494439       0.023095  1.081493  \n",
      "3 -0.625  1.473964 -0.511621 -0.494439       0.023095  1.081151  \n",
      "4 -0.625 -0.678443  1.954571 -0.494439       0.023095  1.080803  \n",
      "\n",
      "[5 rows x 24 columns]\n"
     ]
    }
   ],
   "source": [
    "print(df.head())"
   ]
  },
  {
   "cell_type": "code",
   "execution_count": 3,
   "metadata": {},
   "outputs": [
    {
     "name": "stdout",
     "output_type": "stream",
     "text": [
      "['ctcf' 'h3k36me3' 'h3k4me1' 'h3k79me2' 'h3k9me1' 'h3k9me3' 'h4k20me1'\n",
      " 'sj5' 'sj3' 'dms' 'rpts' 'wgbs']\n",
      "['A' 'T' 'G' 'C']\n"
     ]
    }
   ],
   "source": [
    "column_names = np.array(df.columns)\n",
    "feature_names = column_names[6:-6]\n",
    "num_features = len(feature_names)\n",
    "nucleotides = column_names[-6:-2]\n",
    "print(feature_names)\n",
    "print(nucleotides)\n",
    "num_samples = df.shape[0]\n",
    "\n",
    "# process read counts\n",
    "X_ji = df['score'].values\n",
    "\n",
    "# process GLM simulated elongation rates\n",
    "Z_ji = df['zeta'].values"
   ]
  },
  {
   "cell_type": "code",
   "execution_count": 4,
   "metadata": {},
   "outputs": [
    {
     "name": "stdout",
     "output_type": "stream",
     "text": [
      "Number of Samples: 435797\n"
     ]
    }
   ],
   "source": [
    "print(\"Number of Samples: \" + str(num_samples))"
   ]
  },
  {
   "cell_type": "code",
   "execution_count": 5,
   "metadata": {},
   "outputs": [
    {
     "name": "stdout",
     "output_type": "stream",
     "text": [
      "Number of Features: 12\n"
     ]
    }
   ],
   "source": [
    "print(\"Number of Features: \" + str(num_features))"
   ]
  },
  {
   "cell_type": "code",
   "execution_count": 6,
   "metadata": {},
   "outputs": [],
   "source": [
    "#Y_ji is a list of samples containing lists of their feature values\n",
    "    # [   \n",
    "    #   sample_1: [feat_1, feat_2,...,feat_n],\n",
    "    #   sample_2: [feat_1, feat_2,...,feat_n],\n",
    "    # ]\n",
    "\n",
    "Y_ji = df.iloc[:, 6:-6].values"
   ]
  },
  {
   "cell_type": "code",
   "execution_count": 7,
   "metadata": {},
   "outputs": [],
   "source": [
    "C_j = df['lambda_alphaj'].values"
   ]
  },
  {
   "cell_type": "code",
   "execution_count": 8,
   "metadata": {},
   "outputs": [],
   "source": [
    "gene_ids = df['ensembl_gene_id'].values"
   ]
  },
  {
   "cell_type": "code",
   "execution_count": 9,
   "metadata": {},
   "outputs": [
    {
     "name": "stdout",
     "output_type": "stream",
     "text": [
      "CUDA (GPU support) is available: False\n",
      "Number of GPUs available: 0\n"
     ]
    }
   ],
   "source": [
    "cuda_available = torch.cuda.is_available()\n",
    "print(\"CUDA (GPU support) is available:\", cuda_available)\n",
    "num_gpus = torch.cuda.device_count()\n",
    "print(\"Number of GPUs available:\", num_gpus)"
   ]
  },
  {
   "cell_type": "code",
   "execution_count": 10,
   "metadata": {},
   "outputs": [],
   "source": [
    "from torch.utils.data import Dataset, DataLoader\n",
    "\n",
    "class CustomDataset(Dataset):\n",
    "    def __init__(self, GeneId, Y_ji, X_ji, C_j, Z_ji):\n",
    "        self.GeneId = GeneId\n",
    "        self.Y_ji = Y_ji\n",
    "        self.X_ji = X_ji\n",
    "        self.C_j = C_j\n",
    "        self.Z_ji = Z_ji\n",
    "\n",
    "    def __len__(self):\n",
    "        return len(self.Y_ji)\n",
    "\n",
    "    def __getitem__(self, idx):\n",
    "        return {\n",
    "            'GeneId':  self.GeneId[idx],\n",
    "            'Y_ji':  torch.tensor(self.Y_ji[idx], dtype=torch.float32),\n",
    "            'X_ji': torch.tensor(self.X_ji[idx], dtype=torch.float32),\n",
    "            'C_j': torch.tensor(self.C_j[idx], dtype=torch.float32),\n",
    "            'Z_ji': torch.tensor(self.Z_ji[idx], dtype=torch.float32)\n",
    "        }"
   ]
  },
  {
   "cell_type": "code",
   "execution_count": 11,
   "metadata": {},
   "outputs": [],
   "source": [
    "dataset = CustomDataset(gene_ids, Y_ji, X_ji, C_j, Z_ji)\n",
    "\n",
    "unique_geneids = df['ensembl_gene_id'].unique()\n",
    "num_unique_geneids = len(unique_geneids)\n",
    "train_idx = int(num_unique_geneids * 0.80)\n",
    "val_idx = int(num_unique_geneids * 0.90)\n",
    "\n",
    "train_geneids = unique_geneids[:train_idx]\n",
    "validation_geneids = unique_geneids[train_idx:val_idx]\n",
    "test_geneids = unique_geneids[val_idx:]\n",
    "\n",
    "train_indices = [i for i, gene_id in enumerate(dataset.GeneId) if gene_id in train_geneids]\n",
    "val_indices = [i for i, gene_id in enumerate(dataset.GeneId) if gene_id in validation_geneids]\n",
    "test_indices = [i for i, gene_id in enumerate(dataset.GeneId) if gene_id in test_geneids]\n",
    "\n",
    "\n",
    "train_set = torch.utils.data.Subset(dataset, train_indices)\n",
    "val_set = torch.utils.data.Subset(dataset, val_indices)\n",
    "test_set = torch.utils.data.Subset(dataset, test_indices)\n",
    "\n",
    "batch_size = 64"
   ]
  },
  {
   "cell_type": "code",
   "execution_count": 12,
   "metadata": {},
   "outputs": [
    {
     "name": "stdout",
     "output_type": "stream",
     "text": [
      "Linear(in_features=12, out_features=1, bias=True)\n",
      "torch.Size([64, 1])\n",
      "Number of parameters: 13\n",
      "Model is on device: cpu\n"
     ]
    }
   ],
   "source": [
    "import torch.nn as nn\n",
    "import torch.nn.init as init\n",
    "import torch.nn.functional as F\n",
    "\n",
    "device = torch.device(\"cuda\" if torch.cuda.is_available() else \"cpu\")\n",
    "\n",
    "model = nn.Linear(num_features, 1)\n",
    "\n",
    "if cuda_available:\n",
    "    if num_gpus > 1:\n",
    "        print(\"Using\", num_gpus, \"GPUs\")\n",
    "        model = torch.nn.DataParallel(model)\n",
    "    model = model.to('cuda')\n",
    "\n",
    "print(model)\n",
    "\n",
    "arr = torch.randn((batch_size,num_features)).to(device)\n",
    "print(model(arr).shape)\n",
    "nparm = sum(p.numel() for p in model.parameters() if p.requires_grad)\n",
    "print(\"Number of parameters: \" + str(nparm))\n",
    "\n",
    "first_param_device = next(model.parameters()).device\n",
    "print(\"Model is on device:\", first_param_device)"
   ]
  },
  {
   "cell_type": "code",
   "execution_count": 13,
   "metadata": {},
   "outputs": [],
   "source": [
    "class CustomLoss(nn.Module):\n",
    "    def __init__(self):\n",
    "        super(CustomLoss, self).__init__()\n",
    "\n",
    "    def forward(self, X_ji, C_j, rho_ji):\n",
    "        #print(rho_ji.shape)\n",
    "        epsilon = 1e-8\n",
    "        loss = X_ji * rho_ji + C_j * torch.exp(-rho_ji)\n",
    "        return (loss).mean()"
   ]
  },
  {
   "cell_type": "code",
   "execution_count": 14,
   "metadata": {},
   "outputs": [
    {
     "name": "stdout",
     "output_type": "stream",
     "text": [
      "Epoch 1\n",
      "Epoch 1 trn_loss: 0.0410 val_loss: 0.0149\n",
      "Epoch 2\n",
      "Epoch 2 trn_loss: 0.0371 val_loss: 0.0146\n",
      "Epoch 3\n",
      "Epoch 3 trn_loss: 0.0354 val_loss: 0.0144\n",
      "Epoch 4\n",
      "Epoch 4 trn_loss: 0.0344 val_loss: 0.0142\n",
      "Epoch 5\n",
      "Epoch 5 trn_loss: 0.0337 val_loss: 0.0140\n",
      "Epoch 6\n",
      "Epoch 6 trn_loss: 0.0332 val_loss: 0.0139\n",
      "Epoch 7\n",
      "Epoch 7 trn_loss: 0.0328 val_loss: 0.0137\n",
      "Epoch 8\n",
      "Epoch 8 trn_loss: 0.0325 val_loss: 0.0136\n",
      "Epoch 9\n",
      "Epoch 9 trn_loss: 0.0323 val_loss: 0.0136\n",
      "Epoch 10\n",
      "Epoch 10 trn_loss: 0.0321 val_loss: 0.0135\n",
      "Epoch 11\n",
      "Epoch 11 trn_loss: 0.0320 val_loss: 0.0134\n",
      "Epoch 12\n",
      "Epoch 12 trn_loss: 0.0319 val_loss: 0.0134\n",
      "Epoch 13\n",
      "Epoch 13 trn_loss: 0.0318 val_loss: 0.0133\n",
      "Epoch 14\n",
      "Epoch 14 trn_loss: 0.0317 val_loss: 0.0133\n",
      "Epoch 15\n",
      "Epoch 15 trn_loss: 0.0316 val_loss: 0.0132\n",
      "Epoch 16\n",
      "Epoch 16 trn_loss: 0.0315 val_loss: 0.0132\n",
      "Epoch 17\n",
      "Epoch 17 trn_loss: 0.0315 val_loss: 0.0131\n",
      "Epoch 18\n",
      "Epoch 18 trn_loss: 0.0314 val_loss: 0.0131\n",
      "Epoch 19\n",
      "Epoch 19 trn_loss: 0.0314 val_loss: 0.0131\n",
      "Epoch 20\n",
      "Epoch 20 trn_loss: 0.0314 val_loss: 0.0130\n",
      "Epoch 21\n",
      "Epoch 21 trn_loss: 0.0313 val_loss: 0.0130\n",
      "Epoch 22\n",
      "Epoch 22 trn_loss: 0.0313 val_loss: 0.0130\n",
      "Epoch 23\n",
      "Epoch 23 trn_loss: 0.0313 val_loss: 0.0130\n",
      "Epoch 24\n",
      "Epoch 24 trn_loss: 0.0313 val_loss: 0.0129\n",
      "Epoch 25\n",
      "Epoch 25 trn_loss: 0.0313 val_loss: 0.0129\n",
      "Epoch 26\n",
      "Epoch 26 trn_loss: 0.0313 val_loss: 0.0129\n",
      "Epoch 27\n",
      "Epoch 27 trn_loss: 0.0313 val_loss: 0.0129\n",
      "Epoch 28\n",
      "Epoch 28 trn_loss: 0.0313 val_loss: 0.0129\n",
      "Epoch 29\n",
      "Epoch 29 trn_loss: 0.0313 val_loss: 0.0128\n",
      "Epoch 30\n",
      "Epoch 30 trn_loss: 0.0312 val_loss: 0.0128\n",
      "Epoch 31\n",
      "Epoch 31 trn_loss: 0.0312 val_loss: 0.0128\n",
      "Epoch 32\n",
      "Epoch 32 trn_loss: 0.0312 val_loss: 0.0128\n",
      "Epoch 33\n",
      "Epoch 33 trn_loss: 0.0312 val_loss: 0.0128\n",
      "Epoch 34\n",
      "Epoch 34 trn_loss: 0.0312 val_loss: 0.0128\n",
      "Epoch 35\n",
      "Epoch 35 trn_loss: 0.0312 val_loss: 0.0128\n",
      "Epoch 36\n",
      "Epoch 36 trn_loss: 0.0312 val_loss: 0.0128\n",
      "Epoch 37\n",
      "Epoch 37 trn_loss: 0.0312 val_loss: 0.0128\n",
      "Epoch 38\n",
      "Epoch 38 trn_loss: 0.0312 val_loss: 0.0128\n",
      "Epoch 39\n",
      "Epoch 39 trn_loss: 0.0312 val_loss: 0.0128\n",
      "Epoch 40\n",
      "Epoch 40 trn_loss: 0.0312 val_loss: 0.0127\n",
      "Epoch 41\n",
      "Epoch 41 trn_loss: 0.0312 val_loss: 0.0127\n",
      "Epoch 42\n",
      "Epoch 42 trn_loss: 0.0312 val_loss: 0.0127\n",
      "Epoch 43\n",
      "Epoch 43 trn_loss: 0.0312 val_loss: 0.0127\n",
      "Epoch 44\n",
      "Epoch 44 trn_loss: 0.0312 val_loss: 0.0127\n",
      "Epoch 45\n",
      "Epoch 45 trn_loss: 0.0312 val_loss: 0.0127\n",
      "Epoch 46\n",
      "Epoch 46 trn_loss: 0.0312 val_loss: 0.0127\n",
      "Epoch 47\n",
      "Epoch 47 trn_loss: 0.0312 val_loss: 0.0127\n",
      "Epoch 48\n",
      "Epoch 48 trn_loss: 0.0312 val_loss: 0.0127\n",
      "Epoch 49\n",
      "Epoch 49 trn_loss: 0.0312 val_loss: 0.0127\n",
      "Epoch 50\n",
      "Epoch 50 trn_loss: 0.0312 val_loss: 0.0127\n"
     ]
    }
   ],
   "source": [
    "import torch.optim as optim\n",
    "from torch.optim.lr_scheduler import ReduceLROnPlateau\n",
    "\n",
    "optimizer = optim.Adam(model.parameters(), lr=0.0001)\n",
    "\n",
    "num_epochs = 50\n",
    "\n",
    "loss_hist_train = [0] * num_epochs\n",
    "loss_hist_valid = [0] * num_epochs\n",
    "\n",
    "loss_fn = CustomLoss()\n",
    "\n",
    "def print_profiler_results(profiler):\n",
    "    print(profiler.key_averages().table(sort_by=\"self_cpu_time_total\", row_limit=10))\n",
    "\"\"\"\n",
    "with torch.profiler.profile(\n",
    "    activities=[torch.profiler.ProfilerActivity.CPU, torch.profiler.ProfilerActivity.CUDA],\n",
    "    schedule=torch.profiler.schedule(wait=1, warmup=1, active=3),\n",
    "    on_trace_ready=print_profiler_results,\n",
    "    record_shapes=True,\n",
    "    profile_memory=True\n",
    ") as profiler:\n",
    "\"\"\"\n",
    "for epoch in range(num_epochs):\n",
    "    print(f'Epoch {epoch+1}')\n",
    "    model.train()\n",
    "    trndl = DataLoader(train_set, batch_size=batch_size, num_workers=15, shuffle=False, pin_memory=True)\n",
    "    for i, batch in enumerate(trndl):\n",
    "        optimizer.zero_grad()\n",
    "        Y_ji_batch = batch['Y_ji'].to(device)\n",
    "        X_ji_batch = batch['X_ji'].to(device)\n",
    "        C_j_batch = batch['C_j'].to(device)\n",
    "        outputs = model(Y_ji_batch)\n",
    "        loss = loss_fn(X_ji_batch, C_j_batch, outputs)\n",
    "        loss.backward()\n",
    "        optimizer.step()\n",
    "        loss_hist_train[epoch] += loss.item()\n",
    "        #profiler.step()\n",
    "    loss_hist_train[epoch] /= len(trndl)\n",
    "    del trndl\n",
    "\n",
    "    \n",
    "    model.eval()\n",
    "    valdl = DataLoader(val_set, batch_size=batch_size, num_workers=7, shuffle=False, pin_memory=True)\n",
    "    with torch.no_grad():\n",
    "        for batch in valdl:\n",
    "            Y_ji_batch = batch['Y_ji'].to(device)\n",
    "            X_ji_batch = batch['X_ji'].to(device)\n",
    "            C_j_batch = batch['C_j'].to(device)\n",
    "            outputs = model(Y_ji_batch)\n",
    "            loss = loss_fn(X_ji_batch, C_j_batch, outputs)\n",
    "            loss_hist_valid[epoch] += loss.item()\n",
    "        loss_hist_valid[epoch] /= len(valdl)\n",
    "    del valdl\n",
    "    \n",
    "    print(f'Epoch {epoch+1} trn_loss: '\n",
    "          f'{loss_hist_train[epoch]:.4f} val_loss: '\n",
    "          f'{loss_hist_valid[epoch]:.4f}')"
   ]
  },
  {
   "cell_type": "code",
   "execution_count": 15,
   "metadata": {},
   "outputs": [],
   "source": [
    "from datetime import datetime\n",
    "\n",
    "timestamp = datetime.now().strftime(\"%Y%m%d_%H%M%S\")\n",
    "filename = f\"models/Elongation_Model_chr16_{timestamp}.pth\"\n",
    "torch.save(model.state_dict(), filename)"
   ]
  },
  {
   "cell_type": "code",
   "execution_count": 107,
   "metadata": {},
   "outputs": [
    {
     "name": "stdout",
     "output_type": "stream",
     "text": [
      "CUDA (GPU support) is available: True\n",
      "Number of GPUs available: 1\n",
      "Model is on device: cuda:0\n"
     ]
    }
   ],
   "source": [
    "\"\"\"\n",
    "model = nn.Linear(num_features, 1)\n",
    "model.load_state_dict(torch.load(\"models/Elongation_Model.pth\"))\n",
    "cuda_available = torch.cuda.is_available()\n",
    "print(\"CUDA (GPU support) is available:\", cuda_available)\n",
    "num_gpus = torch.cuda.device_count()\n",
    "print(\"Number of GPUs available:\", num_gpus)\n",
    "if cuda_available:\n",
    "    if num_gpus > 1:\n",
    "        print(\"Using\", num_gpus, \"GPUs\")\n",
    "        model = torch.nn.DataParallel(model)\n",
    "    model = model.to('cuda')\n",
    "\n",
    "first_param_device = next(model.parameters()).device\n",
    "print(\"Model is on device:\", first_param_device)\n",
    "\"\"\""
   ]
  },
  {
   "cell_type": "code",
   "execution_count": 16,
   "metadata": {},
   "outputs": [
    {
     "name": "stdout",
     "output_type": "stream",
     "text": [
      "\"ctcf\": 0.010853282175958157, \"h3k36me3\": -0.06529039889574051, \"h3k4me1\": -0.006691562943160534, \"h3k79me2\": 0.05777670443058014, \"h3k9me1\": -0.05916871130466461, \"h3k9me3\": -0.09455890208482742, \"h4k20me1\": -0.06147964671254158, \"sj5\": -0.02029029279947281, \"sj3\": -0.013147097080945969, \"dms\": -0.07349317520856857, \"rpts\": 0.01619826629757881, \"wgbs\": -0.08812040835618973\n"
     ]
    }
   ],
   "source": [
    "weights = model.weight.data.cpu().numpy()\n",
    "bias = model.bias.data.cpu().numpy()\n",
    "\n",
    "combined = ', '.join([f'\"{s}\": {f}' for s, f in zip(feature_names, weights[0])])\n",
    "print(combined)"
   ]
  },
  {
   "cell_type": "code",
   "execution_count": null,
   "metadata": {},
   "outputs": [],
   "source": [
    "\"\"\"\n",
    "GLM K\n",
    "\n",
    "* ctcf: -0.02\n",
    "* h3k36me3: -0.9\n",
    "* h3k4me1: -0.02\n",
    "* h3k79me2: +0.03\n",
    "* h3k9me1: -0.06\n",
    "* h3k9me3: -0.03\n",
    "* h4k20me1: -0.05\n",
    "* sj5: -0.02\n",
    "* sj3: -0.03\n",
    "* dms: ?\n",
    "* rpts: \n",
    "* wgbs: ?\n",
    "\"\"\""
   ]
  },
  {
   "cell_type": "code",
   "execution_count": 17,
   "metadata": {},
   "outputs": [
    {
     "data": {
      "text/plain": [
       "<function matplotlib.pyplot.show(close=None, block=None)>"
      ]
     },
     "execution_count": 17,
     "metadata": {},
     "output_type": "execute_result"
    },
    {
     "data": {
      "image/png": "[encoded data removed]",
      "text/plain": [
       "<Figure size 432x288 with 1 Axes>"
      ]
     },
     "metadata": {
      "needs_background": "light"
     },
     "output_type": "display_data"
    }
   ],
   "source": [
    "from matplotlib import pyplot as plt\n",
    "epochs = range(1, len(loss_hist_train) + 1)\n",
    "plt.plot(epochs, loss_hist_train, label='train_loss')\n",
    "plt.plot(epochs, loss_hist_valid, label='valid_loss')\n",
    "\n",
    "plt.xlabel('Epochs')\n",
    "plt.ylabel('Loss')\n",
    "plt.legend()\n",
    "plt.show "
   ]
  },
  {
   "cell_type": "code",
   "execution_count": 18,
   "metadata": {},
   "outputs": [],
   "source": [
    "def plot_data(simulated_zeta, predicted_zeta):\n",
    "    indices = range(len(simulated_zeta))\n",
    "    \n",
    "    fig, ax = plt.subplots(figsize=(10, 5))\n",
    "    \n",
    "    ax.plot(indices, predicted_zeta, color='blue', alpha=0.4)\n",
    "    ax.plot(indices, simulated_zeta, color='orange', alpha=0.4)\n",
    "    \n",
    "    ax.scatter(indices, predicted_zeta, color='blue', label='Predicted Zeta')\n",
    "    ax.scatter(indices, simulated_zeta, color='orange', label='Simulated Zeta')\n",
    "    \n",
    "    ax.set_title('Predicted vs Simulated Elongation Rate')\n",
    "    ax.set_xlabel('Index')\n",
    "    ax.set_ylabel('Elongation Rate')\n",
    "    ax.legend()\n",
    "\n",
    "    plt.show()\n"
   ]
  },
  {
   "cell_type": "code",
   "execution_count": 19,
   "metadata": {},
   "outputs": [],
   "source": [
    "tstdl = DataLoader(test_set, batch_size=batch_size, num_workers=0, shuffle=False, pin_memory=True)"
   ]
  },
  {
   "cell_type": "code",
   "execution_count": 20,
   "metadata": {},
   "outputs": [],
   "source": [
    "model.eval()\n",
    "\n",
    "data_iter = iter(tstdl)"
   ]
  },
  {
   "cell_type": "code",
   "execution_count": 23,
   "metadata": {},
   "outputs": [
    {
     "name": "stdout",
     "output_type": "stream",
     "text": [
      "number of samples: 5\n",
      "predicted zeta:\n",
      "tensor([1.1067, 1.1062, 1.1057, 1.1051, 1.1046, 1.1065, 1.1060, 1.1054, 1.1049,\n",
      "        1.0521, 1.1038, 1.1033, 1.1027, 1.1021, 1.1016, 1.0986, 1.0980, 1.0975,\n",
      "        1.0969, 1.0963, 1.0957, 1.0951, 1.0945, 1.0939, 1.0933, 1.0857, 1.0851,\n",
      "        1.0845, 1.0839, 1.0833, 1.0827, 1.0820, 1.0814, 1.0808, 1.0802, 1.0684,\n",
      "        1.0678, 1.0672, 1.0665, 1.0659, 1.0653, 1.0646, 1.0640, 1.0634, 1.0627,\n",
      "        1.0475, 1.0468, 1.0462, 1.0456, 1.0450, 1.0443, 1.0437, 1.0431, 1.0424,\n",
      "        1.0418, 1.0239, 1.0232, 1.0226, 1.0220, 1.0214, 1.0207, 1.0201, 1.0195,\n",
      "        1.0189])\n",
      "simulated zeta:\n",
      "tensor([1.1225, 1.1221, 1.1216, 1.1211, 1.1207, 1.1226, 1.1221, 1.1216, 1.1211,\n",
      "        0.9253, 1.1201, 1.1196, 1.1191, 1.1186, 1.1181, 1.1152, 1.1146, 1.1141,\n",
      "        1.1136, 1.1130, 1.1125, 1.1120, 1.1114, 1.1109, 1.1103, 1.1028, 1.1022,\n",
      "        1.1017, 1.1011, 1.1006, 1.1000, 1.0994, 1.0989, 1.0983, 1.0977, 1.0861,\n",
      "        1.0855, 1.0849, 1.0843, 1.0838, 1.0832, 1.0826, 1.0820, 1.0814, 1.0808,\n",
      "        1.0657, 1.0651, 1.0646, 1.0640, 1.0634, 1.0628, 1.0622, 1.0617, 1.0611,\n",
      "        1.0605, 1.0427, 1.0421, 1.0416, 1.0410, 1.0404, 1.0398, 1.0393, 1.0387,\n",
      "        1.0381])\n"
     ]
    },
    {
     "data": {
      "image/png": "[encoded data removed]",
      "text/plain": [
       "<Figure size 720x360 with 1 Axes>"
      ]
     },
     "metadata": {
      "needs_background": "light"
     },
     "output_type": "display_data"
    },
    {
     "name": "stdout",
     "output_type": "stream",
     "text": [
      "number of samples: 5\n",
      "predicted zeta:\n",
      "tensor([1.0183, 0.9986, 0.9979, 0.9973, 0.9496, 0.9961, 0.9955, 0.9949, 0.9943,\n",
      "        0.9937, 0.9931, 0.9725, 0.9719, 0.9254, 0.9708, 0.9702, 0.9696, 0.9690,\n",
      "        0.9685, 0.9679, 0.9673, 1.0066, 1.0560, 1.0554, 1.0548, 1.0542, 1.0536,\n",
      "        1.0031, 1.0524, 1.0518, 1.0512, 1.0506, 1.0500, 1.0494, 1.0489, 1.0483,\n",
      "        1.0477, 1.0472, 1.0466, 1.0460, 1.0455, 1.0449, 1.0444, 1.0439, 1.0433,\n",
      "        1.0428, 1.0423, 1.0417, 1.0412, 1.0407, 1.0402, 1.0397, 1.0392, 1.0387,\n",
      "        1.0382, 1.0377, 1.0373, 1.0368, 1.0363, 1.0359, 1.0354, 1.0349, 1.0345,\n",
      "        1.0340])\n",
      "simulated zeta:\n",
      "tensor([1.0376, 1.0180, 1.0174, 1.0169, 0.8392, 1.0157, 1.0152, 1.0146, 1.0141,\n",
      "        1.0135, 1.0130, 0.9925, 0.9920, 0.8187, 0.9909, 0.9904, 0.9898, 0.9893,\n",
      "        0.9888, 0.9883, 0.9878, 0.8892, 1.0763, 1.0758, 1.0752, 1.0747, 1.0741,\n",
      "        0.8865, 1.0730, 1.0725, 1.0720, 1.0714, 1.0709, 1.0704, 1.0698, 1.0693,\n",
      "        1.0688, 1.0683, 1.0678, 1.0673, 1.0668, 1.0663, 1.0658, 1.0653, 1.0648,\n",
      "        1.0643, 1.0639, 1.0634, 1.0629, 1.0625, 1.0620, 1.0615, 1.0611, 1.0606,\n",
      "        1.0602, 1.0598, 1.0593, 1.0589, 1.0585, 1.0581, 1.0576, 1.0572, 1.0568,\n",
      "        1.0564])\n"
     ]
    },
    {
     "data": {
      "image/png": "[encoded data removed]",
      "text/plain": [
       "<Figure size 720x360 with 1 Axes>"
      ]
     },
     "metadata": {
      "needs_background": "light"
     },
     "output_type": "display_data"
    },
    {
     "name": "stdout",
     "output_type": "stream",
     "text": [
      "number of samples: 5\n",
      "predicted zeta:\n",
      "tensor([1.0336, 1.0332, 1.0327, 1.0323, 1.0319, 1.0315, 1.0311, 1.0307, 1.0303,\n",
      "        0.9812, 1.0295, 1.0291, 1.0288, 1.0284, 1.0280, 1.0277, 1.0273, 1.0270,\n",
      "        1.0267, 1.0263, 1.0260, 1.0257, 1.0254, 1.0250, 1.0247, 1.0244, 1.0242,\n",
      "        1.0239, 1.0236, 1.0233, 1.0230, 1.0228, 1.0225, 1.0223, 1.0220, 1.0218,\n",
      "        1.0215, 1.0213, 1.0211, 1.0208, 1.0206, 1.0204, 1.0202, 1.0200, 1.0198,\n",
      "        1.0196, 1.0195, 1.0193, 1.0191, 1.0189, 1.0188, 1.0186, 1.0185, 1.0183,\n",
      "        1.0182, 1.0180, 1.0179, 1.0178, 1.0177, 1.0175, 1.0174, 1.0173, 1.0172,\n",
      "        1.0171])\n",
      "simulated zeta:\n",
      "tensor([1.0560, 1.0556, 1.0552, 1.0548, 1.0545, 1.0541, 1.0537, 1.0534, 1.0530,\n",
      "        0.8692, 1.0523, 1.0519, 1.0516, 1.0513, 1.0509, 1.0506, 1.0503, 1.0500,\n",
      "        1.0496, 1.0493, 1.0490, 1.0487, 1.0484, 1.0481, 1.0479, 1.0476, 1.0473,\n",
      "        1.0470, 1.0468, 1.0465, 1.0462, 1.0460, 1.0457, 1.0455, 1.0452, 1.0450,\n",
      "        1.0448, 1.0445, 1.0443, 1.0441, 1.0439, 1.0437, 1.0435, 1.0433, 1.0431,\n",
      "        1.0429, 1.0427, 1.0425, 1.0423, 1.0421, 1.0420, 1.0418, 1.0416, 1.0415,\n",
      "        1.0413, 1.0411, 1.0410, 1.0408, 1.0407, 1.0405, 1.0404, 1.0403, 1.0401,\n",
      "        1.0400])\n"
     ]
    },
    {
     "data": {
      "image/png": "[encoded data removed]",
      "text/plain": [
       "<Figure size 720x360 with 1 Axes>"
      ]
     },
     "metadata": {
      "needs_background": "light"
     },
     "output_type": "display_data"
    },
    {
     "name": "stdout",
     "output_type": "stream",
     "text": [
      "number of samples: 5\n",
      "predicted zeta:\n",
      "tensor([1.0170, 1.0169, 1.0168, 1.0168, 1.0167, 1.0166, 1.0166, 1.0165, 1.0164,\n",
      "        1.0164, 1.0163, 1.0163, 1.0162, 1.0162, 1.0161, 1.0161, 1.0161, 1.0161,\n",
      "        1.0160, 1.0160, 1.0160, 1.0160, 1.0160, 1.0160, 1.0160, 1.0160, 1.0160,\n",
      "        1.0160, 1.0160, 1.0160, 1.0160, 1.0160, 1.0160, 1.0161, 1.0161, 1.0161,\n",
      "        1.0161, 1.0162, 1.0162, 1.0162, 1.0163, 1.0163, 1.0163, 1.0164, 1.0164,\n",
      "        1.0165, 1.0165, 1.0166, 1.0166, 1.0166, 1.0167, 1.0167, 1.0168, 1.0169,\n",
      "        1.0169, 1.0170, 1.0170, 1.0171, 1.0171, 1.0172, 1.0172, 1.0173, 1.0174,\n",
      "        1.0174])\n",
      "simulated zeta:\n",
      "tensor([1.0399, 1.0398, 1.0396, 1.0395, 1.0394, 1.0393, 1.0392, 1.0391, 1.0390,\n",
      "        1.0389, 1.0388, 1.0387, 1.0386, 1.0385, 1.0384, 1.0383, 1.0382, 1.0382,\n",
      "        1.0381, 1.0380, 1.0379, 1.0378, 1.0378, 1.0377, 1.0376, 1.0376, 1.0375,\n",
      "        1.0374, 1.0374, 1.0373, 1.0372, 1.0372, 1.0371, 1.0371, 1.0370, 1.0369,\n",
      "        1.0369, 1.0368, 1.0368, 1.0367, 1.0367, 1.0366, 1.0366, 1.0365, 1.0365,\n",
      "        1.0364, 1.0364, 1.0363, 1.0363, 1.0362, 1.0362, 1.0361, 1.0361, 1.0360,\n",
      "        1.0360, 1.0359, 1.0359, 1.0358, 1.0358, 1.0357, 1.0357, 1.0356, 1.0356,\n",
      "        1.0355])\n"
     ]
    },
    {
     "data": {
      "image/png": "[encoded data removed]",
      "text/plain": [
       "<Figure size 720x360 with 1 Axes>"
      ]
     },
     "metadata": {
      "needs_background": "light"
     },
     "output_type": "display_data"
    }
   ],
   "source": [
    "for i in range(0, 4):\n",
    "    inputs = next(data_iter) \n",
    "    print(\"number of samples: \" + str(len(inputs)))\n",
    "\n",
    "    with torch.no_grad():\n",
    "        y_inputs = inputs['Y_ji'].to(device)\n",
    "        rho_ji = model(y_inputs)\n",
    "\n",
    "    simulated_zeta = inputs['Z_ji']\n",
    "    # convert log(Z) outputs to Z\n",
    "    predicted_zeta = torch.exp(rho_ji.cpu().squeeze())\n",
    "    print(\"predicted zeta:\")\n",
    "    print(predicted_zeta)\n",
    "\n",
    "    print(\"simulated zeta:\")\n",
    "    print(simulated_zeta)\n",
    "\n",
    "    plot_data(simulated_zeta, predicted_zeta)"
   ]
  },
  {
   "cell_type": "code",
   "execution_count": 114,
   "metadata": {},
   "outputs": [
    {
     "name": "stdout",
     "output_type": "stream",
     "text": [
      "Mean Absolute Error: 1.4545\n",
      "Mean Squared Error: 2.1965\n"
     ]
    }
   ],
   "source": [
    "import torch.nn.functional as F\n",
    "\n",
    "predicted_zeta = []\n",
    "simulated_zeta = []\n",
    "with torch.no_grad():\n",
    "    for batch in tstdl:\n",
    "        y_inputs = batch['Y_ji'].to(device)\n",
    "        rho_ji = model(y_inputs)\n",
    "        # convert log(Z) outputs to Z\n",
    "        predicted_zeta.append(torch.exp(rho_ji.cpu()))\n",
    "        simulated_zeta.append(batch['Z_ji'])\n",
    "\n",
    "predicted_zeta = torch.cat(predicted_zeta, dim=0)\n",
    "simulated_zeta = torch.cat(simulated_zeta, dim=0)\n",
    "mae = F.l1_loss(predicted_zeta.squeeze(), simulated_zeta)\n",
    "mse = F.mse_loss(predicted_zeta.squeeze(), simulated_zeta)\n",
    "\n",
    "print(f\"Mean Absolute Error: {mae.item():.4f}\")\n",
    "print(f\"Mean Squared Error: {mse.item():.4f}\")"
   ]
  }
 ],
 "metadata": {
  "kernelspec": {
   "display_name": "CUDA/GPU Python 3.9.5 (src)",
   "language": "python",
   "name": "python_3.9.5-gcccore-10.3.0"
  },
  "language_info": {
   "codemirror_mode": {
    "name": "ipython",
    "version": 3
   },
   "file_extension": ".py",
   "mimetype": "text/x-python",
   "name": "python",
   "nbconvert_exporter": "python",
   "pygments_lexer": "ipython3",
   "version": "3.9.5"
  }
 },
 "nbformat": 4,
 "nbformat_minor": 5
}
