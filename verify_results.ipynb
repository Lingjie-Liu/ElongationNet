{
 "cells": [
  {
   "cell_type": "code",
   "execution_count": 1,
   "metadata": {},
   "outputs": [],
   "source": [
    "import pandas as pd"
   ]
  },
  {
   "cell_type": "code",
   "execution_count": 3,
   "metadata": {},
   "outputs": [
    {
     "name": "stderr",
     "output_type": "stream",
     "text": [
      "/grid/siepel/home_norepl/hassett/.local/lib/python3.7/site-packages/IPython/core/interactiveshell.py:3553: DtypeWarning: Columns (0) have mixed types.Specify dtype option on import or set low_memory=False.\n",
      "  exec(code_obj, self.user_global_ns, self.user_ns)\n"
     ]
    }
   ],
   "source": [
    "df = pd.read_csv(\"./results/cnn_2/predictions.csv\")"
   ]
  },
  {
   "cell_type": "code",
   "execution_count": 13,
   "metadata": {},
   "outputs": [
    {
     "name": "stdout",
     "output_type": "stream",
     "text": [
      "         Chr     Start       End      Zeta  Strand  Expected_X_ji       C_j  \\\n",
      "17113146   8  66664942  66664942  1.001033       0            0.0  0.023533   \n",
      "17113147   8  66664943  66664943  0.221920       0            0.0  0.023533   \n",
      "17113148   8  66664944  66664944  1.345718       0            0.0  0.023533   \n",
      "17113149   8  66664945  66664945  0.408274       0            0.0  0.023533   \n",
      "17113150   8  66664946  66664946  1.608990       0            0.0  0.023533   \n",
      "\n",
      "                   GeneId  Predicted_X_ji  \n",
      "17113146  ENSG00000175073             inf  \n",
      "17113147  ENSG00000175073             inf  \n",
      "17113148  ENSG00000175073             inf  \n",
      "17113149  ENSG00000175073             inf  \n",
      "17113150  ENSG00000175073             inf  \n"
     ]
    }
   ],
   "source": [
    "print(df.tail())"
   ]
  },
  {
   "cell_type": "code",
   "execution_count": 16,
   "metadata": {},
   "outputs": [],
   "source": [
    "gene_df = df[df['GeneId'] == 'ENSG00000175073']"
   ]
  },
  {
   "cell_type": "code",
   "execution_count": 17,
   "metadata": {},
   "outputs": [
    {
     "name": "stdout",
     "output_type": "stream",
     "text": [
      "         Chr     Start       End      Zeta  Strand  Expected_X_ji       C_j  \\\n",
      "17078940   8  66630736  66630736  0.698733       0            0.0  0.023533   \n",
      "17078941   8  66630737  66630737  0.710123       0            0.0  0.023533   \n",
      "17078942   8  66630738  66630738  4.790355       0            0.0  0.023533   \n",
      "17078943   8  66630739  66630739  7.065058       0            0.0  0.023533   \n",
      "17078944   8  66630740  66630740  5.834927       0            0.0  0.023533   \n",
      "\n",
      "                   GeneId  Predicted_X_ji  \n",
      "17078940  ENSG00000175073             inf  \n",
      "17078941  ENSG00000175073             inf  \n",
      "17078942  ENSG00000175073             inf  \n",
      "17078943  ENSG00000175073             inf  \n",
      "17078944  ENSG00000175073             inf  \n"
     ]
    }
   ],
   "source": [
    "print(gene_df.head())"
   ]
  },
  {
   "cell_type": "code",
   "execution_count": 23,
   "metadata": {},
   "outputs": [],
   "source": [
    "mean_z = gene_df['Zeta'].mean()\n",
    "c = gene_df['C_j'].iloc[0]\n",
    "mean_x = gene_df['Expected_X_ji'].mean()"
   ]
  },
  {
   "cell_type": "code",
   "execution_count": 25,
   "metadata": {},
   "outputs": [
    {
     "name": "stdout",
     "output_type": "stream",
     "text": [
      "2.6045859948474943\n"
     ]
    }
   ],
   "source": [
    "print(mean_z)"
   ]
  },
  {
   "cell_type": "code",
   "execution_count": 26,
   "metadata": {},
   "outputs": [
    {
     "name": "stdout",
     "output_type": "stream",
     "text": [
      "0.0235332012216337\n"
     ]
    }
   ],
   "source": [
    "print(c)"
   ]
  },
  {
   "cell_type": "code",
   "execution_count": 27,
   "metadata": {},
   "outputs": [
    {
     "name": "stdout",
     "output_type": "stream",
     "text": [
      "0.022972091926717612\n"
     ]
    }
   ],
   "source": [
    "print(mean_x)"
   ]
  },
  {
   "cell_type": "code",
   "execution_count": 28,
   "metadata": {},
   "outputs": [
    {
     "name": "stdout",
     "output_type": "stream",
     "text": [
      "1.024425694303595\n"
     ]
    }
   ],
   "source": [
    "print(c / mean_x)"
   ]
  },
  {
   "cell_type": "code",
   "execution_count": null,
   "metadata": {},
   "outputs": [],
   "source": []
  }
 ],
 "metadata": {
  "kernelspec": {
   "display_name": "Anaconda3 (Python 3.7.6)",
   "language": "python",
   "name": "anaconda3_2020.02"
  },
  "language_info": {
   "codemirror_mode": {
    "name": "ipython",
    "version": 3
   },
   "file_extension": ".py",
   "mimetype": "text/x-python",
   "name": "python",
   "nbconvert_exporter": "python",
   "pygments_lexer": "ipython3",
   "version": "3.7.6"
  }
 },
 "nbformat": 4,
 "nbformat_minor": 4
}
