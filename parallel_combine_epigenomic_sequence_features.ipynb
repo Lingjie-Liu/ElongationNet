{
 "cells": [
  {
   "cell_type": "code",
   "execution_count": 2,
   "metadata": {},
   "outputs": [],
   "source": [
    "import pandas as pd\n",
    "import concurrent.futures"
   ]
  },
  {
   "cell_type": "code",
   "execution_count": 1,
   "metadata": {},
   "outputs": [],
   "source": [
    "cell_ep_files = [\n",
    "    './complete_data/cd14_epft_norm.csv',\n",
    "    './complete_data/hela_epft_norm.csv',\n",
    "    './complete_data/mcf7_epft_norm.csv',\n",
    "    './complete_data/k562_epft_norm.csv'\n",
    "]"
   ]
  },
  {
   "cell_type": "code",
   "execution_count": 3,
   "metadata": {},
   "outputs": [],
   "source": [
    "def process_and_save_csv_file(cell_ep_file):\n",
    "    seq_file = './complete_data/nt_matrix.csv'\n",
    "    cell_ep_df = pd.read_csv(cell_ep_file)\n",
    "    seq_df = pd.read_csv(seq_file)\n",
    "    cell_epAllmer_df = pd.concat([cell_ep_df, seq_df], axis=1)\n",
    "    \n",
    "    save_path = './complete_data/' + cell_ep_file.split('/')[-1].split('_')[0] + '_epAllmer_norm.csv'    \n",
    "    cell_epAllmer_df.to_csv(save_path, index=False)\n",
    "    saved_df = pd.read_csv(save_path, nrows=10)\n",
    "    print(saved_df.head())\n",
    "    return f\"Saved combined file to {save_path}\""
   ]
  },
  {
   "cell_type": "code",
   "execution_count": 4,
   "metadata": {},
   "outputs": [
    {
     "name": "stderr",
     "output_type": "stream",
     "text": [
      "/grid/it/data/elzar/easybuild/software/Anaconda3/2020.02/lib/python3.7/concurrent/futures/thread.py:57: DtypeWarning: Columns (0) have mixed types.Specify dtype option on import or set low_memory=False.\n",
      "  result = self.fn(*self.args, **self.kwargs)\n"
     ]
    },
    {
     "name": "stdout",
     "output_type": "stream",
     "text": [
      "   seqnames    start      end strand  ensembl_gene_id  score      ctcf  \\\n",
      "0         1  1002760  1002760      +  ENSG00000187608    0.0 -0.082081   \n",
      "1         1  1002761  1002761      +  ENSG00000187608    0.0 -0.082081   \n",
      "2         1  1002762  1002762      +  ENSG00000187608    0.0 -0.082081   \n",
      "3         1  1002763  1002763      +  ENSG00000187608    0.0 -0.082081   \n",
      "4         1  1002764  1002764      +  ENSG00000187608    0.0 -0.082081   \n",
      "\n",
      "   h4k20me1  h3k79me2   h3k4me1  ...       sj5       sj3      rpts  wgbs  \\\n",
      "0 -0.496678 -0.432241 -0.234853  ... -0.046212  0.083911 -0.187111   0.0   \n",
      "1 -0.496678 -0.432241 -0.234853  ... -0.046212  0.083911 -0.187111   0.0   \n",
      "2 -0.496678 -0.432241 -0.234853  ... -0.046212  0.083911 -0.187111   0.0   \n",
      "3 -0.496678 -0.432241 -0.234853  ... -0.046212  0.083911 -0.187111   0.0   \n",
      "4 -0.496678 -0.432241 -0.234853  ... -0.046212  0.083911 -0.187111   0.0   \n",
      "\n",
      "   lambda_alphaj      zeta  A  T  G  C  \n",
      "0       0.004488  1.110562  0  0  1  0  \n",
      "1       0.004488  1.110562  0  0  0  1  \n",
      "2       0.004488  1.110562  0  0  0  1  \n",
      "3       0.004488  1.110562  0  1  0  0  \n",
      "4       0.004488  1.110562  0  0  0  1  \n",
      "\n",
      "[5 rows x 22 columns]\n",
      "Saved combined file to ./complete_data/cd14_epAllmer_norm.csv\n",
      "   seqnames    start      end strand  ensembl_gene_id  score      ctcf  \\\n",
      "0         1  1002760  1002760      +  ENSG00000187608    0.0 -0.092586   \n",
      "1         1  1002761  1002761      +  ENSG00000187608    0.0 -0.092586   \n",
      "2         1  1002762  1002762      +  ENSG00000187608    0.0 -0.092586   \n",
      "3         1  1002763  1002763      +  ENSG00000187608    0.0 -0.092586   \n",
      "4         1  1002764  1002764      +  ENSG00000187608    0.0 -0.092586   \n",
      "\n",
      "   h4k20me1  h3k79me2   h3k4me1  ...       sj5       sj3      rpts  wgbs  \\\n",
      "0 -0.791101 -0.339041 -0.118704  ...  0.020523 -0.048522 -0.187111   0.0   \n",
      "1 -0.791101 -0.339041 -0.118704  ...  0.020523 -0.048522 -0.187111   0.0   \n",
      "2 -0.791101 -0.339041 -0.118704  ...  0.020523 -0.048522 -0.187111   0.0   \n",
      "3 -0.791101 -0.339041 -0.118704  ...  0.020523 -0.048522 -0.187111   0.0   \n",
      "4 -0.791101 -0.339041 -0.118704  ...  0.020523 -0.048522 -0.187111   0.0   \n",
      "\n",
      "   lambda_alphaj      zeta  A  T  G  C  \n",
      "0        0.08087  1.173998  0  0  1  0  \n",
      "1        0.08087  1.173998  0  0  0  1  \n",
      "2        0.08087  1.173998  0  0  0  1  \n",
      "3        0.08087  1.173998  0  1  0  0  \n",
      "4        0.08087  1.173998  0  0  0  1  \n",
      "\n",
      "[5 rows x 22 columns]\n",
      "Saved combined file to ./complete_data/hela_epAllmer_norm.csv\n",
      "   seqnames    start      end strand  ensembl_gene_id    score      ctcf  \\\n",
      "0         1  1002760  1002760      +  ENSG00000187608  0.00000 -0.124708   \n",
      "1         1  1002761  1002761      +  ENSG00000187608  0.00000 -0.124708   \n",
      "2         1  1002762  1002762      +  ENSG00000187608  0.00000 -0.124708   \n",
      "3         1  1002763  1002763      +  ENSG00000187608  0.00000 -0.124708   \n",
      "4         1  1002764  1002764      +  ENSG00000187608  0.62265 -0.124708   \n",
      "\n",
      "   h4k20me1  h3k79me2   h3k4me1  ...       sj5      sj3      rpts  wgbs  \\\n",
      "0  -0.47533 -0.202922 -0.276494  ... -0.012938  0.04604 -0.187111   0.0   \n",
      "1  -0.47533 -0.202922 -0.276494  ... -0.012938  0.04604 -0.187111   0.0   \n",
      "2  -0.47533 -0.202922 -0.276494  ... -0.012938  0.04604 -0.187111   0.0   \n",
      "3  -0.47533 -0.202922 -0.276494  ... -0.012938  0.04604 -0.187111   0.0   \n",
      "4  -0.47533 -0.202922 -0.276494  ... -0.012938  0.04604 -0.187111   0.0   \n",
      "\n",
      "   lambda_alphaj      zeta  A  T  G  C  \n",
      "0       0.044328  1.066961  0  0  1  0  \n",
      "1       0.044328  1.066961  0  0  0  1  \n",
      "2       0.044328  1.066961  0  0  0  1  \n",
      "3       0.044328  1.066961  0  1  0  0  \n",
      "4       0.044328  1.066961  0  0  0  1  \n",
      "\n",
      "[5 rows x 22 columns]\n",
      "Saved combined file to ./complete_data/mcf7_epAllmer_norm.csv\n"
     ]
    }
   ],
   "source": [
    "with concurrent.futures.ThreadPoolExecutor() as executor:\n",
    "    futures = [executor.submit(process_and_save_csv_file, file) for file in cell_ep_files]\n",
    "    for future in concurrent.futures.as_completed(futures):\n",
    "        print(future.result())"
   ]
  },
  {
   "cell_type": "code",
   "execution_count": null,
   "metadata": {},
   "outputs": [],
   "source": []
  }
 ],
 "metadata": {
  "kernelspec": {
   "display_name": "Anaconda3 (Python 3.7.6)",
   "language": "python",
   "name": "anaconda3_2020.02"
  },
  "language_info": {
   "codemirror_mode": {
    "name": "ipython",
    "version": 3
   },
   "file_extension": ".py",
   "mimetype": "text/x-python",
   "name": "python",
   "nbconvert_exporter": "python",
   "pygments_lexer": "ipython3",
   "version": "3.7.6"
  }
 },
 "nbformat": 4,
 "nbformat_minor": 4
}
